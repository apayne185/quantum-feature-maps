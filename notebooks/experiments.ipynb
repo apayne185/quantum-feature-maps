{
 "cells": [
  {
   "cell_type": "markdown",
   "id": "8f3054d3",
   "metadata": {},
   "source": [
    "# Experiments"
   ]
  },
  {
   "cell_type": "markdown",
   "id": "834c8ab2",
   "metadata": {},
   "source": [
    "\n",
    "Sweep qubits (2–4), depth, shots, noise.\n",
    "\n",
    "Log results to CSV.\n",
    "\n",
    "Include IBM device run if possible (small circuit)."
   ]
  },
  {
   "cell_type": "code",
   "execution_count": 1,
   "id": "3a4f6c80",
   "metadata": {},
   "outputs": [],
   "source": [
    "import pennylane as qml\n",
    "import numpy as np\n",
    "import pandas as pd\n",
    "from sklearn.linear_model import LogisticRegression\n",
    "from sklearn.metrics import accuracy_score\n",
    "import itertools\n",
    "import joblib\n",
    "import time\n",
    "# from qiskit import IBMProvider\n"
   ]
  },
  {
   "cell_type": "code",
   "execution_count": null,
   "id": "033910c4",
   "metadata": {},
   "outputs": [],
   "source": [
    "params = np.load(\"params/trained_params.npy\")      #trained parameters\n",
    " \n",
    "#trained models\n",
    "q_lg_clf = joblib.load(\"models/quantum_logreg.pkl\")\n",
    "q_svm_clf = joblib.load(\"models/quantum_svm.pkl\")   \n"
   ]
  },
  {
   "cell_type": "markdown",
   "id": "34996df8",
   "metadata": {},
   "source": [
    "## Sweep Qubits (Circuit Hyperparameters)"
   ]
  },
  {
   "cell_type": "markdown",
   "id": "e82c040d",
   "metadata": {},
   "source": [
    "Looping over a range of circuit hyperparamters (number of qubits, depth (# of layers in var. ansatz), shot (# of times qcircuit is sampled), noise (whether to stimulate device noise - will run on IBM)). \n",
    "\n",
    "- More qubits would mean a richer feature space but more noise/cost. \n",
    "- More depth/layers would mean higher expressivity but is more difficult to train\n",
    "- More shots means lower measurement noise but a longer runtime\n",
    "- More noise means noise realism tradeoff\n"
   ]
  },
  {
   "cell_type": "code",
   "execution_count": null,
   "id": "3c5071e0",
   "metadata": {},
   "outputs": [],
   "source": [
    "n_qubit_list = [2,3,4]\n",
    "depth_list = [1,2]\n",
    "shot_list= [None, 1024]      #none means no sampling - analytic\n",
    "noise_list = [False, True]    #true = use simulator "
   ]
  },
  {
   "cell_type": "code",
   "execution_count": null,
   "id": "41877882",
   "metadata": {},
   "outputs": [],
   "source": [
    "for n_qubits, depth, shots, noise in itertools.product(n_qubit_list, depth_list, shot_list, noise_list):\n",
    "    start = time.time()\n",
    "\n",
    "    # Device setup\n",
    "    if noise:\n",
    "        dev = qml.device(\"default.mixed\", wires=n_qubits, shots=shots)\n",
    "    else:\n",
    "        dev = qml.device(\"default.qubit\", wires=n_qubits, shots=shots)\n",
    "\n",
    "    @qml.qnode(dev)\n",
    "    def qnode_measure(x, params):\n",
    "        zz_feature_map(x, wires=range(n_qubits), reps=depth)\n",
    "        var_ansatz(params, n_qubits)\n",
    "        return [qml.expval(qml.PauliZ(i)) for i in range(n_qubits)]\n",
    "\n",
    "    def get_quantum_features(X_mat, params):\n",
    "        return np.array([qnode_measure(x[:n_qubits], params) for x in X_mat])\n",
    "\n",
    "    # Initialize parameters\n",
    "    params = np.random.randn(depth, n_qubits, 3)\n",
    "\n",
    "    # Run training and testing\n",
    "    Xq_train = get_quantum_features(X_train, params)\n",
    "    Xq_test = get_quantum_features(X_test, params)\n",
    "\n",
    "    clf = LogisticRegression(max_iter=500)\n",
    "    clf.fit(Xq_train, y_train)\n",
    "    acc = clf.score(Xq_test, y_test)\n",
    "\n",
    "    # Log results\n",
    "    results.append({\n",
    "        \"n_qubits\": n_qubits,\n",
    "        \"depth\": depth,\n",
    "        \"shots\": shots if shots else \"analytic\",\n",
    "        \"noise\": noise,\n",
    "        \"accuracy\": acc,\n",
    "        \"runtime_sec\": round(time.time() - start, 2)\n",
    "    })\n",
    "\n",
    "    print(f\"Run ({n_qubits}q, depth={depth}, shots={shots}, noise={noise}) → acc={acc:.3f}\")\n",
    "\n",
    "\n",
    "\n",
    "\n"
   ]
  },
  {
   "cell_type": "markdown",
   "id": "2a98f4cc",
   "metadata": {},
   "source": [
    "## Log Results to CSV"
   ]
  },
  {
   "cell_type": "code",
   "execution_count": null,
   "id": "498378cb",
   "metadata": {},
   "outputs": [],
   "source": [
    "df = pd.DataFrame(results)\n",
    "df.to_csv(\"results/quantum_sweep_results.csv\", index=False)\n",
    "print(\"\\nSaved to results/quantum_sweep_results.csv\")"
   ]
  },
  {
   "cell_type": "markdown",
   "id": "0ccb5259",
   "metadata": {},
   "source": [
    "## Run on IBM Hardware "
   ]
  },
  {
   "cell_type": "code",
   "execution_count": null,
   "id": "eebf81fa",
   "metadata": {},
   "outputs": [],
   "source": [
    "provider = IBMProvider()\n",
    "backend = provider.get_backend(\"ibmq_qasm_simulator\")  \n",
    "dev = qml.device(\"qiskit.ibmq\", wires=2, backend=backend, shots=1024)\n",
    "\n"
   ]
  }
 ],
 "metadata": {
  "kernelspec": {
   "display_name": "qfm-env",
   "language": "python",
   "name": "python3"
  },
  "language_info": {
   "codemirror_mode": {
    "name": "ipython",
    "version": 3
   },
   "file_extension": ".py",
   "mimetype": "text/x-python",
   "name": "python",
   "nbconvert_exporter": "python",
   "pygments_lexer": "ipython3",
   "version": "3.10.18"
  }
 },
 "nbformat": 4,
 "nbformat_minor": 5
}
