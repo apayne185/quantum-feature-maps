{
 "cells": [
  {
   "cell_type": "markdown",
   "id": "51e1e8de",
   "metadata": {},
   "source": [
    "# Quantum Pipeline"
   ]
  },
  {
   "cell_type": "markdown",
   "id": "61336020",
   "metadata": {},
   "source": [
    "Define small feature map (angle encoding, ZZFeatureMap).\n",
    "\n",
    "Define variational ansatz (1–3 layers).\n",
    "\n",
    "Measure expectation values → feature vector.\n",
    "\n",
    "Train classical classifier on these features."
   ]
  },
  {
   "cell_type": "code",
   "execution_count": 3,
   "id": "65ef10a1",
   "metadata": {},
   "outputs": [],
   "source": [
    "import pennylane as qml\n",
    "import pennylane.numpy as np\n",
    "import pennylane_lightning\n",
    "from pennylane.optimize import NesterovMomentumOptimizer\n",
    "\n",
    "import matplotlib.pyplot as plt\n",
    "from sklearn.linear_model import LogisticRegression\n",
    "from sklearn.svm import SVC\n",
    "from sklearn.metrics import classification_report, accuracy_score, confusion_matrix, roc_curve, auc\n",
    "import joblib\n",
    "from multiprocessing import Pool\n",
    "import itertools\n",
    "import time\n",
    "import pandas as pd\n",
    "import os\n",
    "from dotenv import load_dotenv\n",
    "\n",
    "# from qiskit_ibm_runtime import QiskitRuntimeService\n",
    "from qiskit import IBMQ\n",
    "from qiskit.providers.ibmq import least_busy"
   ]
  },
  {
   "cell_type": "code",
   "execution_count": 4,
   "id": "2721333a",
   "metadata": {},
   "outputs": [
    {
     "name": "stdout",
     "output_type": "stream",
     "text": [
      "PCA reduced shape xtrain:   (12665, 4)\n",
      "PCA reduced shape xtest:   (2115, 4)\n",
      "ytrain labels:  (12665,)\n",
      "ytest labels:  (2115,)\n"
     ]
    }
   ],
   "source": [
    "data = np.load(\"data/mnist01_pca4.npz\")    #from dataprep notebook\n",
    "\n",
    "X_train, y_train = data[\"X_train\"], data[\"y_train\"]  \n",
    "X_test, y_test = data[\"X_test\"], data[\"y_test\"]\n",
    "\n",
    "# x = features/ dimensions --> 4\n",
    "# y = labels\n",
    "n_qubits=4\n",
    "\n",
    "#backened \n",
    "# dev= qml.device(\"default.qubit\", wires=n_qubits)\n",
    "dev = qml.device(\"lightning.qubit\", wires=n_qubits)    #faster simulator, uses compiled c++ \n",
    "\n",
    "\n",
    "print(\"PCA reduced shape xtrain:  \", X_train.shape)\n",
    "print(\"PCA reduced shape xtest:  \", X_test.shape)\n",
    "print(\"ytrain labels: \", y_train.shape)\n",
    "print(\"ytest labels: \",y_test.shape)\n"
   ]
  },
  {
   "cell_type": "markdown",
   "id": "69719847",
   "metadata": {},
   "source": [
    "## Quantum Feature Map"
   ]
  },
  {
   "cell_type": "markdown",
   "id": "453bc950",
   "metadata": {},
   "source": [
    "Classical data is transformed into quantum states. For the main pipeline, I will be using PennyLane as it is easier to build custom circuits and I can compare feature maps in a single framework. Pennylane also supports Qiskit backeneds for a future plugin to run on IBM devices. \n",
    "\n",
    "\n",
    "<br>\n",
    "\n",
    "This is a quantum map $\\phi(\\mathbf{x})$ from classical feature vector $\\mathbf{x}$ to quantum state $|\\Phi(\\mathbf{x})\\rangle\\langle\\Phi(\\mathbf{x})|$ in the Hilbert space, achieved through applying the parameterized unitary operator $\\mathcal{U}_{\\Phi(\\mathbf{x})}$ to the initial state $|0\\rangle^{n}$, n being the num of qubits for encoding. This is done so quantum algorithms can use the data. \n",
    "\n",
    "Unitary operations are a building block of Qcircuits, where a matrix U is unitary if $$U^\\dagger U = U U^\\dagger = I$$ \n",
    "\n",
    "Some examples are the Pauli X Gate or Hadamard Gate, or in this case, the Rotation Gate $R_y(\\theta)$. \n",
    "$$\n",
    "R_y(\\theta) = \\begin{bmatrix}\\cos(\\theta/2) & -\\sin(\\theta/2) \\\\ \\sin(\\theta/2) & \\cos(\\theta/2)\\end{bmatrix}, \\quad\n",
    "R_y^\\dagger(\\theta) = R_y(-\\theta), \\quad\n",
    "R_y(\\theta) R_y^\\dagger(\\theta) = I\n",
    "$$\n"
   ]
  },
  {
   "cell_type": "markdown",
   "id": "5f057b89",
   "metadata": {},
   "source": [
    "### ZZ Map Manual - PennyLane"
   ]
  },
  {
   "cell_type": "markdown",
   "id": "bc44cef2",
   "metadata": {},
   "source": [
    "For a ZZ Feature Map, PennyLane does not already have a built in function so we have to do it manually using Hadamard gates, along wiht RZ and ZZ rotations for each qubit pair. This just makes it simpler to integrate over the course of this project. The Qiskit version of this gate is shown in my quantum testing ground. \n",
    "\n",
    "Also, out of all encoding methods I could've picked, Angle Encoding seemed to be the most simple and effective when working with circuits (perfect when I am working on a simple project).\n",
    "\n",
    "The ZZ feature map is a version of the Pauli feature map, which includes entangling gates (ZZ interactions thorugh controlled-phase gates), done after initial data encoding rotations. This is done to allow feature map to capture any potential correlations between features and then maps the data to a more complex hilbert space. \n",
    "\n",
    "There are layers of Hadamard gates, single qubit phase rotations, and 2 qubit controlled phase rotations. \n",
    "\n",
    "<br>\n",
    "\n",
    "Hadamard Gates\n",
    "\n",
    "Creates equal superposition of either state within a qubit\n",
    "\n",
    "$$\n",
    "H = \\tfrac{1}{\\sqrt{2}}\n",
    "\\begin{pmatrix}\n",
    "1 & 1 \\\\[6pt]\n",
    "1 & -1\n",
    "\\end{pmatrix}\n",
    "$$\n",
    "\n",
    "RZ Gates \n",
    "\n",
    "Single qubit phase rotation around Z axis, diagonal gate\n",
    "\n",
    "$$\n",
    "R_Z(\\phi) \n",
    "= \\exp\\!\\left(-i \\tfrac{\\phi}{2} Z\\right) \n",
    "= \n",
    "\\begin{pmatrix}\n",
    "e^{-i\\phi/2} & 0 \\\\[6pt]\n",
    "0 & e^{\\,i\\phi/2}\n",
    "\\end{pmatrix}\n",
    "$$\n",
    "\n",
    "\n",
    "CNOT Gates\n",
    "\n",
    "Flips target qubit if control qubit is 1.  --> encodes pairwise correlations\n",
    "\n",
    "$$\n",
    "\\text{CNOT} = CX =\n",
    "\\begin{pmatrix}\n",
    "1 & 0 & 0 & 0 \\\\[6pt]\n",
    "0 & 1 & 0 & 0 \\\\[6pt]\n",
    "0 & 0 & 0 & 1 \\\\[6pt]\n",
    "0 & 0 & 1 & 0\n",
    "\\end{pmatrix}\n",
    "$$\n",
    "\n",
    "<br>\n",
    "\n",
    "ZZ Feature Map\n",
    "\n",
    "Encodes the pairwise correlations between features (by constructing a unitary transformation)\n",
    "\n",
    "$$\n",
    "U_{\\mathrm{ZZ}}(x) = \\exp\\left( i \\sum_i x_i Z_i + i \\sum_{i<j} x_i x_j Z_i Z_j \\right)\n",
    "$$\n"
   ]
  },
  {
   "cell_type": "code",
   "execution_count": 5,
   "id": "f55f0fbb",
   "metadata": {},
   "outputs": [
    {
     "name": "stdout",
     "output_type": "stream",
     "text": [
      "Example feature vector:  [-4.39083685  1.26077612  1.578084    0.85940065]\n"
     ]
    }
   ],
   "source": [
    "sample_vec = X_train[0]      #1st of 12665\n",
    "print(\"Example feature vector: \", sample_vec)  \n"
   ]
  },
  {
   "cell_type": "code",
   "execution_count": 6,
   "id": "4bfcbfd4",
   "metadata": {},
   "outputs": [
    {
     "name": "stdout",
     "output_type": "stream",
     "text": [
      "ZZFeatureMap state vector: \n",
      " [-0.24166348+0.06402159j  0.12856535+0.21440838j  0.24664338+0.04082946j\n",
      "  0.16880032-0.18440839j -0.02931574-0.24827522j -0.23039082+0.09705706j\n",
      "  0.24496536+0.04991964j  0.17550227-0.17804199j -0.07578422+0.23823675j\n",
      "  0.24991017+0.00670117j  0.16690489-0.18612565j -0.06489921-0.24142927j\n",
      "  0.20609065+0.14151552j  0.07877125-0.23726587j -0.19894346+0.15139848j\n",
      "  0.01831538+0.24932819j] \n",
      "\n",
      "0: ──H──RZ(-8.78)─╭●─────────────╭●─────────────────────────────────┤ ╭State\n",
      "1: ──H──RZ(2.52)──╰X──RZ(-11.07)─╰X─╭●───────────╭●─────────────────┤ ├State\n",
      "2: ──H──RZ(3.16)────────────────────╰X──RZ(3.98)─╰X─╭●───────────╭●─┤ ├State\n",
      "3: ──H──RZ(1.72)────────────────────────────────────╰X──RZ(2.71)─╰X─┤ ╰State\n"
     ]
    }
   ],
   "source": [
    "def zz_feature_map(x, wires, reps=1):      #(classical data vector, qubits in use, number of layers/repititions)\n",
    "    n_qubits = len(wires)\n",
    "\n",
    "    for _ in range(reps):\n",
    "        for i in wires: \n",
    "            qml.Hadamard(wires=i)            #hadamard gates, uniform superposition of states --> gives room for inference in future entanglement \n",
    "\n",
    "        for i, wire in enumerate(wires):     #single qubit phase rotations (encodes classical data to qubit phases)\n",
    "            qml.RZ(2*x[i], wires=wire)       #RZ rotation, angle = 2x[i] \n",
    "\n",
    "        for i in range(n_qubits-1):                    #ZZ entangling layer for pairs of neighboring qubits/wires\n",
    "            qml.CNOT(wires=[wires[i], wires[i+1]])\n",
    "            qml.RZ(2*x[i]*x[i+1], wires=wires[i+1])    #performs rotation around Z axis by given amount (angle = 2x[i] * x[i+1]) ENCODES PAIRWISE CORRELATIONS BETWEEN FEATURES x[i] and x[i+1]\n",
    "            qml.CNOT(wires=[wires[i], wires[i+1]])     #uncomputes entanglement (so final effect is ZZ interaction)\n",
    "\n",
    "\n",
    "# he\n",
    "@qml.qnode(dev)\n",
    "def qnode_measure(x):\n",
    "    zz_feature_map(x, wires=range(4), reps=1)\n",
    "    return qml.state()\n",
    "\n",
    "\n",
    "print(f\"ZZFeatureMap state vector: \\n {qnode_measure(sample_vec)} \\n\") \n",
    "print(qml.draw(qnode_measure, level='device')(sample_vec))    \n"
   ]
  },
  {
   "cell_type": "markdown",
   "id": "43f079eb",
   "metadata": {},
   "source": [
    "In this circuit, you can see how each qubit has a Hadamard gate applied (without this, qubits starting in |0⟩ and RZ would only add a global phase - unobservable, as RZ works with relative phase differences between |0⟩ and |1⟩). \n",
    "\n",
    "Then, a phase rotation of (x) amount around the Z axis to encode the classical features x[i] as a Z axis phase shift of angle 2x[i].  \n",
    "\n",
    "Finally, we have the entanglement layers that work through each adjacent pair of qubits to perform phase shifts. Applies controlled phase depending on both qubits and encodes pairwaise correlations into the state. \n",
    "\n",
    "**Creates a nonlienar feature map in Hilbert space.**"
   ]
  },
  {
   "cell_type": "markdown",
   "id": "50eea5ca",
   "metadata": {},
   "source": [
    "A CNOT sandwich, which is seen within the multiqubit entanglement layer above, allows for conditional application of a targets rotation, depending on the control qubit. So, in the end, we are maintaining the computational values of the qubit but keeping the phase entanglement of the qubits (it would look the same on the 0,1 level but now hidden quantum phase correlations encode the data)"
   ]
  },
  {
   "cell_type": "markdown",
   "id": "63dcffd5",
   "metadata": {},
   "source": [
    "## Variational Ansatz "
   ]
  },
  {
   "cell_type": "markdown",
   "id": "89acfe3b",
   "metadata": {},
   "source": [
    "Ansatz: basic architecture of circuit, set of gates that act on specific subsystems with a few assumptions about the appropriate training circuit. Can be generic/problem neutral (hardware ansatz) or can be problem specific. \n",
    "\n",
    "Quantum Ansatz: Parameterized Quantum Circuit (PQC) that represents a family of possible quantum stats that are controlled by tunable paramters (normally angles)\n",
    "\n",
    "$$\n",
    "|\\psi(\\theta)\\rangle = U(\\theta) |0\\rangle\n",
    "$$\n",
    "\n",
    "ansatz circuit: $$U(\\theta)$$ parameters: $$\\theta = [\\theta_1, \\theta_2, \\ldots]$$ \n",
    "\n",
    "\n",
    "Method used to approimate ground state (lowest energy eingenstate) of quantum system by selecting a trial wavefunction with adjustable parameters. The expectation value of the energy will always be >= to the true ground state energy, so if we optimize the trial wavefunction, we can minimize the expectation value. Built from rotation gates (paramterized by angles) and entangling gates --> these form a layer, we can form many and stakc them to increase expresssiveness. "
   ]
  },
  {
   "cell_type": "markdown",
   "id": "24ca337b",
   "metadata": {},
   "source": [
    "**Analogy to CC**\n",
    "\n",
    "Similar to how a NN layer has weights = rotational angles in the quantum gates. \n",
    "- training adjusts the angles to minimize some error/loss \n",
    "- patterns to how the gates connect = circuits architecture \n",
    "\n",
    "Also similar to deeper NN layers, we can stack them to increase expressiveness\n"
   ]
  },
  {
   "cell_type": "code",
   "execution_count": 7,
   "id": "ebdf6a89",
   "metadata": {},
   "outputs": [
    {
     "name": "stdout",
     "output_type": "stream",
     "text": [
      "0: ──Rot(-0.28,-0.00,-0.91)─╭●──Rot(0.65,-0.18,-0.19)─────────────────────── ···\n",
      "1: ──Rot(-1.31,-0.58,0.45)──╰X─╭●──────────────────────Rot(-0.75,0.90,-0.13) ···\n",
      "2: ──Rot(0.63,1.29,0.50)───────╰X─────────────────────╭●──────────────────── ···\n",
      "3: ──Rot(-1.04,0.22,0.11)─────────────────────────────╰X──────────────────── ···\n",
      "\n",
      "0: ··· ─╭●───────────────────────────┤  State\n",
      "1: ··· ─╰X─────────────────────╭●────┤  State\n",
      "2: ··· ──Rot(-1.28,-0.65,2.37)─╰X─╭●─┤  State\n",
      "3: ··· ──Rot(-1.14,0.68,1.49)─────╰X─┤  State\n"
     ]
    }
   ],
   "source": [
    "def var_ansatz(params): #params = layers, n_qubits, 3 \n",
    "    for l in range(params.shape[0]):     #loops through all layers\n",
    "        for i in range(n_qubits):     #single qubit rotations \n",
    "            qml.Rot(params[l,i,0], params[l,i,1], params[l,i,2], wires=i)     # paramertized rotations\n",
    "        \n",
    "        for i in range(n_qubits-1):     #entanglers for non linear relationships \n",
    "            qml.CNOT(wires=[i, i+1])     #[i:control, i+1:target]\n",
    "\n",
    "\n",
    "#intial params tensors - random, will be trained in ansatz \n",
    "params = np.random.randn(2, n_qubits, 3)     # 2 layers, n_qubits =4, 3 euler angles for each rotation axis \n",
    "\n",
    "@qml.qnode(dev)\n",
    "def ansatz_preview(params):\n",
    "    var_ansatz(params)\n",
    "    return qml.state()\n",
    "\n",
    "print(qml.draw(ansatz_preview)(params))\n",
    "\n"
   ]
  },
  {
   "cell_type": "markdown",
   "id": "688ac0f0",
   "metadata": {},
   "source": [
    "This shows rotation gates on each qubit [0..3], with 3 values inside the parenthesis to represent the 3 euler angles used for the rotation (qml.Rot(θ, φ, λ)). The entanglers (CNOT gates) are the vertical lines and dot connecting the qubits. For instance, the dot on qubit 0 indicates that it is the control and the target is qubit 1. There are 6 CNOT gates (3 per layer), with rotations done on each qubit before applying CNOT gates. "
   ]
  },
  {
   "cell_type": "markdown",
   "id": "6e1ee7a7",
   "metadata": {},
   "source": [
    "## Measure Expectation Value"
   ]
  },
  {
   "cell_type": "code",
   "execution_count": 8,
   "id": "18600339",
   "metadata": {},
   "outputs": [],
   "source": [
    "@qml.qnode(dev, diff_method=\"parameter-shift\")      #alllows for batches \n",
    "def qnode_measure(x_batch, params):\n",
    "    x_batch = np.atleast_2d(x_batch)   #ensures shape [batch,featues]\n",
    "    for x in x_batch: \n",
    "        zz_feature_map(x, wires=range(4), reps=1)              #encodes data\n",
    "        var_ansatz(params)       #transforms encoded state w var ansatz\n",
    "        #returns expectation values  \n",
    "    return [qml.expval(qml.PauliZ(i)) for i in range(n_qubits)]    \n",
    "\n",
    "\n",
    "\n",
    "def get_quantum_features(X_mat, params):\n",
    "    feats = np.array([qnode_measure(x,params) for x in X_mat])\n",
    "    return feats           #shape [N,n_qubits]"
   ]
  },
  {
   "cell_type": "code",
   "execution_count": 9,
   "id": "62d49472",
   "metadata": {},
   "outputs": [
    {
     "name": "stdout",
     "output_type": "stream",
     "text": [
      "0: ──H──RZ(-8.78)─╭●─────────────╭●──Rot(-0.28,-0.00,-0.91)──────────────────────────────────── ···\n",
      "1: ──H──RZ(2.52)──╰X──RZ(-11.07)─╰X─╭●────────────────────────────────╭●──Rot(-1.31,-0.58,0.45) ···\n",
      "2: ──H──RZ(3.16)────────────────────╰X───────────────────────RZ(3.98)─╰X─╭●──────────────────── ···\n",
      "3: ──H──RZ(1.72)─────────────────────────────────────────────────────────╰X──────────────────── ···\n",
      "\n",
      "0: ··· ─╭●─────────Rot(0.65,-0.18,-0.19)──────────────────────────────────────────────── ···\n",
      "1: ··· ─╰X─────────────────────────────────────────────────────╭●──Rot(-0.75,0.90,-0.13) ···\n",
      "2: ··· ───────────╭●──────────────────────Rot(0.63,1.29,0.50)──╰X─╭●──────────────────── ···\n",
      "3: ··· ──RZ(2.71)─╰X──────────────────────Rot(-1.04,0.22,0.11)────╰X──────────────────── ···\n",
      "\n",
      "0: ··· ─╭●───────────────────────────┤  <Z>\n",
      "1: ··· ─╰X─────────────────────╭●────┤  <Z>\n",
      "2: ··· ──Rot(-1.28,-0.65,2.37)─╰X─╭●─┤  <Z>\n",
      "3: ··· ──Rot(-1.14,0.68,1.49)─────╰X─┤  <Z>\n"
     ]
    }
   ],
   "source": [
    "print(qml.draw(qnode_measure)(sample_vec, params))      #now displays zzfeature map  and var ansatz"
   ]
  },
  {
   "cell_type": "markdown",
   "id": "ad43ea70",
   "metadata": {},
   "source": [
    "Here you can see the original ZZ featuremap applied to the qubits: each one has a Hadamard gate for placing them into superpositions, then an RZ gate to rotate the qubits around the Z axis by an angle proportionate to its xi value (encodes the data into it's phase), then uses CNOT entanglers and RZ gates to connect qubits. \n",
    "\n",
    "The second layer is the Variational Ansatz, where the rotation gates (with the 3 angles) allow for any single-qubit rotation in the bloch sphere, which makes it possible for the ansatz to explore all possible states. \n",
    "\n",
    "The final measurement for each qubit is <Z>, which is the measured expectation value of PauliZ operator on each qubit. They then become a classical feature vector we input into the classic models. "
   ]
  },
  {
   "cell_type": "markdown",
   "id": "6b82b367",
   "metadata": {},
   "source": [
    "### Training Params\n",
    "\n"
   ]
  },
  {
   "cell_type": "markdown",
   "id": "acfa5681",
   "metadata": {},
   "source": [
    "This trains the parameters using the variational ansatz and uses a gradient descent optimizer to help train/optimize the params over 50 epochs (using a MSE loss function). \n",
    "\n",
    "This block of code runs for 30+ min, so I have it save the results to the folder /notebooks/params. The bottom of the code will be commented out so it will not run each time. "
   ]
  },
  {
   "cell_type": "code",
   "execution_count": null,
   "id": "0da93d10",
   "metadata": {},
   "outputs": [],
   "source": [
    "# defining a cost function - MSE \n",
    "def cost(params, X, y):         #params (layers, nqubits, 3 euler angles), x=classical data [N, nfeatures], y=labels (0 or 1)\n",
    "    preds = np.array([qnode_measure(x, params) for x in X])   #for each x, runs zzmap, var ansatz, returns expect value of Z for qubit - [N, nfeatures]\n",
    "    #loss function\n",
    "    return np.mean((preds[:,0] - y)**2)  # MSE betwen predicted quantum expect values and classic labels y\n",
    "\n",
    "\n",
    "# splits data into chucnks for each process - cannot ise for gradient (lambda is unpredictable, causes errors)\n",
    "def cost_parallel(params, X, y, n_processes=4):     \n",
    "    X_split = np.array_split(X, n_processes)\n",
    "    y_split = np.array_split(y, n_processes)\n",
    "\n",
    "    with Pool(n_processes) as pool:\n",
    "        losses = pool.starmap(cost, [(params, Xs, ys) for Xs, ys in zip(X_split, y_split)])\n",
    "    return np.mean(losses)\n",
    "\n",
    "\n",
    "opt = qml.GradientDescentOptimizer(stepsize=0.1)    #tweaks params \n",
    "\n",
    "#training loop\n",
    "for epoch in range(20):        #optimizes over 50 iterations \n",
    "    params = opt.step(lambda p: cost(p, X_train, y_train), params)   #we try to reduce cost while updating params each step \n",
    "    cost_val = cost_parallel(params, X_train, y_train)\n",
    "    print(f\"Epoch: {epoch}, Cost: {cost_val}\")\n",
    "\n",
    "np.save(\"params/trained_params.npy\", params)    #saves trained numpy array of params to params folder\n",
    "print(qml.draw(ansatz_preview)(params))   #recheck \n"
   ]
  },
  {
   "cell_type": "markdown",
   "id": "bc54c465",
   "metadata": {},
   "source": [
    "## Training Model (Classical Classifiers)"
   ]
  },
  {
   "cell_type": "markdown",
   "id": "83a9423d",
   "metadata": {},
   "source": [
    "### Logistic Regression"
   ]
  },
  {
   "cell_type": "code",
   "execution_count": null,
   "id": "fc8e934a",
   "metadata": {},
   "outputs": [
    {
     "name": "stdout",
     "output_type": "stream",
     "text": [
      "Quantum-feature accuracy: 0.5314420803782506\n",
      "\n",
      "\n",
      "Confusion Matrix: \n",
      " [[  24  956]\n",
      " [  35 1100]]\n",
      "\n",
      "Classification Report:\n",
      "               precision    recall  f1-score   support\n",
      "\n",
      "           0       0.41      0.02      0.05       980\n",
      "           1       0.54      0.97      0.69      1135\n",
      "\n",
      "    accuracy                           0.53      2115\n",
      "   macro avg       0.47      0.50      0.37      2115\n",
      "weighted avg       0.48      0.53      0.39      2115\n",
      "\n"
     ]
    }
   ],
   "source": [
    "params = np.load(\"params/trained_params.npy\")\n",
    "#expectation values are treated like classical features \n",
    "Xq_train = get_quantum_features(X_train, params)     \n",
    "Xq_test = get_quantum_features(X_test, params)\n",
    "\n",
    "q_lg_clf = LogisticRegression().fit(Xq_train, y_train)\n",
    "q_lg_y_pred = q_lg_clf.predict(Xq_test)  \n",
    "\n",
    "print(\"Quantum-feature accuracy:\", q_lg_clf.score(Xq_test, y_test))\n",
    "print(\"\\n\\nConfusion Matrix: \\n\", confusion_matrix(y_test, q_lg_y_pred))    \n",
    "print(\"\\nClassification Report:\\n\", classification_report(y_test, q_lg_y_pred))"
   ]
  },
  {
   "cell_type": "markdown",
   "id": "bd5ecdd4",
   "metadata": {},
   "source": []
  },
  {
   "cell_type": "markdown",
   "id": "817a410e",
   "metadata": {},
   "source": [
    "### SVM"
   ]
  },
  {
   "cell_type": "code",
   "execution_count": null,
   "id": "1f033d52",
   "metadata": {},
   "outputs": [
    {
     "name": "stdout",
     "output_type": "stream",
     "text": [
      "Quantum-feature accuracy: 0.5366430260047281\n",
      "\n",
      "\n",
      "Confusion Matrix: \n",
      " [[   0  980]\n",
      " [   0 1135]]\n",
      "\n",
      "Classification Report:\n",
      "               precision    recall  f1-score   support\n",
      "\n",
      "           0       0.00      0.00      0.00       980\n",
      "           1       0.54      1.00      0.70      1135\n",
      "\n",
      "    accuracy                           0.54      2115\n",
      "   macro avg       0.27      0.50      0.35      2115\n",
      "weighted avg       0.29      0.54      0.37      2115\n",
      "\n"
     ]
    },
    {
     "name": "stderr",
     "output_type": "stream",
     "text": [
      "c:\\Users\\annap\\miniconda3\\envs\\qfm-env\\lib\\site-packages\\sklearn\\metrics\\_classification.py:1731: UndefinedMetricWarning: Precision is ill-defined and being set to 0.0 in labels with no predicted samples. Use `zero_division` parameter to control this behavior.\n",
      "  _warn_prf(average, modifier, f\"{metric.capitalize()} is\", result.shape[0])\n",
      "c:\\Users\\annap\\miniconda3\\envs\\qfm-env\\lib\\site-packages\\sklearn\\metrics\\_classification.py:1731: UndefinedMetricWarning: Precision is ill-defined and being set to 0.0 in labels with no predicted samples. Use `zero_division` parameter to control this behavior.\n",
      "  _warn_prf(average, modifier, f\"{metric.capitalize()} is\", result.shape[0])\n",
      "c:\\Users\\annap\\miniconda3\\envs\\qfm-env\\lib\\site-packages\\sklearn\\metrics\\_classification.py:1731: UndefinedMetricWarning: Precision is ill-defined and being set to 0.0 in labels with no predicted samples. Use `zero_division` parameter to control this behavior.\n",
      "  _warn_prf(average, modifier, f\"{metric.capitalize()} is\", result.shape[0])\n"
     ]
    }
   ],
   "source": [
    "q_svm_clf = SVC(kernel='linear', C=1.0, random_state=42)\n",
    "q_svm_clf.fit(Xq_train, y_train)   \n",
    "\n",
    "q_svm_y_pred = q_svm_clf.predict(Xq_test)  \n",
    "\n",
    "print(\"Quantum-feature accuracy:\", q_svm_clf.score(Xq_test, y_test))\n",
    "print(\"\\n\\nConfusion Matrix: \\n\", confusion_matrix(y_test, q_svm_y_pred))    \n",
    "print(\"\\nClassification Report:\\n\", classification_report(y_test, q_svm_y_pred))"
   ]
  },
  {
   "cell_type": "markdown",
   "id": "e83e06bf",
   "metadata": {},
   "source": [
    "### Save Models"
   ]
  },
  {
   "cell_type": "code",
   "execution_count": null,
   "id": "afc1e5f6",
   "metadata": {},
   "outputs": [],
   "source": [
    "joblib.dump(q_lg_clf, \"models/quantum_logreg.pkl\")\n",
    "joblib.dump(q_svm_clf, \"models/quantum_svm.pkl\")"
   ]
  },
  {
   "cell_type": "markdown",
   "id": "7cc2494a",
   "metadata": {},
   "source": [
    "## Experiments "
   ]
  },
  {
   "cell_type": "markdown",
   "id": "e0cf7903",
   "metadata": {},
   "source": [
    "\n",
    "Sweep qubits (2–4), depth, shots, noise.\n",
    "\n",
    "Log results to CSV.\n",
    "\n",
    "Include IBM device run if possible (small circuit)."
   ]
  },
  {
   "cell_type": "markdown",
   "id": "71a8d4d1",
   "metadata": {},
   "source": [
    "### Load IBM account"
   ]
  },
  {
   "cell_type": "code",
   "execution_count": null,
   "id": "de8214a6",
   "metadata": {},
   "outputs": [],
   "source": [
    "load_dotenv()  \n",
    "api_key = os.getenv(\"IBM_API_KEY\")\n",
    "IBMQ.save_account(\"api_key\")      #run only once\n",
    "IBMQ.load_account()\n",
    "\n",
    "provider = IBMQ.get_provider(hub='ibm-q')\n",
    "backend = least_busy(provider.backends(filters=lambda b: b.configuration().n_qubits >= n_qubits and\n",
    "                                                  not b.configuration().simulator and\n",
    "                                                  b.status().operational==True))  \n",
    "\n",
    "\n",
    "print(\"Using IBM backend:\", backend.name())\n"
   ]
  },
  {
   "cell_type": "code",
   "execution_count": null,
   "id": "cd860dfc",
   "metadata": {},
   "outputs": [],
   "source": [
    "params = np.load(\"params/trained_params.npy\")      #trained parameters\n",
    " \n",
    "#trained models\n",
    "q_lg_clf = joblib.load(\"models/quantum_logreg.pkl\")\n",
    "q_svm_clf = joblib.load(\"models/quantum_svm.pkl\")   \n"
   ]
  },
  {
   "cell_type": "markdown",
   "id": "d8511531",
   "metadata": {},
   "source": [
    "### Sweep Qubits (Circuit Hyperparameters)"
   ]
  },
  {
   "cell_type": "markdown",
   "id": "f3d3591f",
   "metadata": {},
   "source": [
    "Looping over a range of circuit hyperparamters (number of qubits, depth (# of layers in var. ansatz), shot (# of times qcircuit is sampled), noise (whether to stimulate device noise - will run on IBM)). \n",
    "\n",
    "- More qubits would mean a richer feature space but more noise/cost. \n",
    "- More depth/layers would mean higher expressivity but is more difficult to train\n",
    "- More shots means lower measurement noise but a longer runtime\n",
    "- More noise means noise realism tradeoff\n"
   ]
  },
  {
   "cell_type": "code",
   "execution_count": null,
   "id": "09a49d46",
   "metadata": {},
   "outputs": [],
   "source": [
    "n_qubit_list = [2,3,4]\n",
    "depth_list = [1,2]\n",
    "shot_list= [None, 1024]      #none means no sampling - analytic\n",
    "noise_list = [False, True]    #true = use simulator "
   ]
  },
  {
   "cell_type": "code",
   "execution_count": null,
   "id": "8da0b5a6",
   "metadata": {},
   "outputs": [],
   "source": [
    "lg_results = []\n",
    "svm_results = []   \n",
    "\n",
    "for n_qubits, depth, shots, noise in itertools.product(n_qubit_list, depth_list, shot_list, noise_list):\n",
    "    start = time.time()\n",
    "\n",
    "    #adjust device configration\n",
    "    if noise:\n",
    "        dev =  qml.device(\"qiskit.ibmq\", wires=n_qubits, backend=backend, shots=shots)     #now runs on ibm hardware    \n",
    "    else:\n",
    "        dev = qml.device(\"default.qubit\", wires=n_qubits, shots=shots)\n",
    "\n",
    "\n",
    "    @qml.qnode(dev)\n",
    "    def qnode_measure(x, params=params):\n",
    "        zz_feature_map(x, wires=range(n_qubits), reps=depth)\n",
    "        var_ansatz(params, n_qubits)\n",
    "        return [qml.expval(qml.PauliZ(i)) for i in range(n_qubits)]\n",
    "\n",
    "    #extract quantum features\n",
    "    Xq_train = get_quantum_features(X_train, params)\n",
    "    Xq_test = get_quantum_features(X_test, params)\n",
    "\n",
    "\n",
    "    #log reg \n",
    "    lg_y_pred = q_lg_clf.predict(Xq_test)\n",
    "    lg_acc = np.mean(q_lg_y_pred == y_test)\n",
    "\n",
    "    #svm model \n",
    "    svm_y_pred = q_svm_clf.predict(Xq_test)   \n",
    "    svm_acc = np.mean(q_svm_y_pred == y_test)\n",
    "\n",
    "    lg_results.append({\n",
    "        \"n_qubits\": n_qubits, \n",
    "        \"depth\": depth,  \n",
    "        \"shots\": shots if shots else \"analytic\", \n",
    "        \"noise\": noise,\n",
    "        \"accuracy\": lg_acc,\n",
    "        \"runtime_sec\": round(time.time() - start, 2)\n",
    "    })    \n",
    "\n",
    "    svm_results.append({\n",
    "        \"n_qubits\": n_qubits,\n",
    "        \"depth\": depth,\n",
    "        \"shots\": shots if shots else \"analytic\",\n",
    "        \"noise\": noise,   \n",
    "        \"accuracy\":svm_acc,    \n",
    "        \"runtime_sec\": round(time.time() - start, 2)   \n",
    "    })\n",
    "\n",
    "    print(f\"Run ({n_qubits}q, depth={depth}, shots={shots}, noise={noise}) → acc={acc:.3f}\")"
   ]
  },
  {
   "cell_type": "markdown",
   "id": "ae2b29c7",
   "metadata": {},
   "source": [
    "### Save Results"
   ]
  },
  {
   "cell_type": "code",
   "execution_count": null,
   "id": "438694aa",
   "metadata": {},
   "outputs": [],
   "source": [
    "q_lg_df = pd.DataFrame(lg_results)\n",
    "q_lg_df.to_csv(\"results/quantum_log_reg_sweep_results.csv\", index=False)\n",
    "print(\"\\nSaved to results/quantum_log_reg_sweep_results.csv\")\n",
    "\n",
    "\n",
    "q_svm_df = pd.DataFrame(svm_results)\n",
    "q_svm_df.to_csv(\"results/quantum_svm_sweep_results.csv\", index=False)\n",
    "print(\"\\nSaved to results/quantum_svm_sweep_results.csv\")"
   ]
  }
 ],
 "metadata": {
  "kernelspec": {
   "display_name": "qfm-env",
   "language": "python",
   "name": "python3"
  },
  "language_info": {
   "codemirror_mode": {
    "name": "ipython",
    "version": 3
   },
   "file_extension": ".py",
   "mimetype": "text/x-python",
   "name": "python",
   "nbconvert_exporter": "python",
   "pygments_lexer": "ipython3",
   "version": "3.10.18"
  }
 },
 "nbformat": 4,
 "nbformat_minor": 5
}
