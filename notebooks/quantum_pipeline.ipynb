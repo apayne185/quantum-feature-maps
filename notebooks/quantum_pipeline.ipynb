{
 "cells": [
  {
   "cell_type": "markdown",
   "id": "0ec93c00",
   "metadata": {},
   "source": [
    "# Quantum Pipeline"
   ]
  },
  {
   "cell_type": "markdown",
   "id": "65b62907",
   "metadata": {},
   "source": [
    "Define small feature map (angle encoding, ZZFeatureMap).\n",
    "\n",
    "Define variational ansatz (1–3 layers).\n",
    "\n",
    "Measure expectation values → feature vector.\n",
    "\n",
    "Train classical classifier on these features."
   ]
  },
  {
   "cell_type": "code",
   "execution_count": 41,
   "id": "11528185",
   "metadata": {},
   "outputs": [],
   "source": [
    "import pennylane as qml\n",
    "from qiskit.visualization import array_to_latex\n",
    "import pennylane.numpy as np\n",
    "from qiskit.circuit.library import ZZFeatureMap, PauliFeatureMap\n",
    "from qiskit_machine_learning.circuit.library import RawFeatureVector\n",
    "import matplotlib.pyplot as plt\n",
    "\n"
   ]
  },
  {
   "cell_type": "code",
   "execution_count": 10,
   "id": "1a66883c",
   "metadata": {},
   "outputs": [
    {
     "name": "stdout",
     "output_type": "stream",
     "text": [
      "PCA reduced shape xtrain:   (12665, 4)\n",
      "PCA reduced shape xtest:   (2115, 4)\n",
      "ytrain labels:  (12665,)\n",
      "ytest labels:  (2115,)\n"
     ]
    }
   ],
   "source": [
    "data = np.load(\"data/mnist01_pca4.npz\")    #from dataprep notebook\n",
    "\n",
    "X_train, y_train = data[\"X_train\"], data[\"y_train\"]  \n",
    "X_test, y_test = data[\"X_test\"], data[\"y_test\"]\n",
    "\n",
    "# x = features/ dimensions --> 4\n",
    "# y = labels\n",
    "\n",
    "print(\"PCA reduced shape xtrain:  \", X_train.shape)\n",
    "print(\"PCA reduced shape xtest:  \", X_test.shape)\n",
    "print(\"ytrain labels: \", y_train.shape)\n",
    "print(\"ytest labels: \",y_test.shape)\n"
   ]
  },
  {
   "cell_type": "code",
   "execution_count": null,
   "id": "30215475",
   "metadata": {},
   "outputs": [
    {
     "name": "stdout",
     "output_type": "stream",
     "text": [
      "Example feature vector:  [-3.57018591  0.12176328  0.03377896  3.41014041]\n"
     ]
    }
   ],
   "source": [
    "sample_vec = X_train[0]      #1st of 12665\n",
    "print(\"Example feature vector: \", sample_vec)  \n"
   ]
  },
  {
   "cell_type": "markdown",
   "id": "3681a572",
   "metadata": {},
   "source": [
    "## Quantum Feature Map\n",
    "\n",
    "Classical data is transformed into quantum states using pennylane (with select exmaples of processes within Qiskit). For the main pipeline, I will be using PennyLane as it is easier to build custom circuits and I can compare feature maps in a single framework. Pennylane also supports Qiskit backeneds for a future plugin to run on IBM devices. \n",
    "\n",
    "<br>\n",
    "\n",
    "This is a quantum map $\\phi(\\mathbf{x})$ from classical feature vector $\\mathbf{x}$ to quantum state $|\\Phi(\\mathbf{x})\\rangle\\langle\\Phi(\\mathbf{x})|$ in the Hilbert space, achieved through applying the parameterized unitary operator $\\mathcal{U}_{\\Phi(\\mathbf{x})}$ to the initial state $|0\\rangle^{n}$, n being the num of qubits for encoding. This is done so quantum algorithms can use the data. \n",
    "\n",
    "Unitary operations are a building block of Qcircuits, where a matrix U is unitary if $$U^\\dagger U = U U^\\dagger = I$$ \n",
    "\n",
    "Some examples are the Pauli X Gate or Hadamard Gate, or in this case, the Rotation Gate $R_y(\\theta)$. \n",
    "$$\n",
    "R_y(\\theta) = \\begin{bmatrix}\\cos(\\theta/2) & -\\sin(\\theta/2) \\\\ \\sin(\\theta/2) & \\cos(\\theta/2)\\end{bmatrix}, \\quad\n",
    "R_y^\\dagger(\\theta) = R_y(-\\theta), \\quad\n",
    "R_y(\\theta) R_y^\\dagger(\\theta) = I\n",
    "$$\n",
    "\n",
    "\n",
    "All equation .png pictures are sourced from, along with references to their encoding techqniues within descriptions/code: \n",
    "https://iraitzm.github.io/qc-handbook/parts/qml/featuremaps.html\n"
   ]
  },
  {
   "cell_type": "markdown",
   "id": "d59ba79f",
   "metadata": {},
   "source": [
    "### Basis encoding"
   ]
  },
  {
   "cell_type": "markdown",
   "id": "eb6e4770",
   "metadata": {},
   "source": [
    "simpler method of mapping classical data in quantum states, requires data to be composed of ints and maps its binary to the basis state that maps same binary string. So [1,1,1] -> |111⟩. For example: \n",
    "\n",
    "<img src=\"imgs/basis_encoding_function.png\" alt=\"Alt text\" width=\"250\"/>\n",
    "\n",
    "<br>\n",
    "\n",
    "Because basis encoding needs an input of 0s and 1s (encodess a computational state), we need to convert the PCA features from continuous numbers to ints. "
   ]
  },
  {
   "cell_type": "code",
   "execution_count": 38,
   "id": "20ae196d",
   "metadata": {},
   "outputs": [
    {
     "name": "stdout",
     "output_type": "stream",
     "text": [
      "[0 1 1 1]\n"
     ]
    }
   ],
   "source": [
    "sample_vec_int = (X_train[0] > 0).astype(int)   # threshold at 0\n",
    "print(sample_vec_int)"
   ]
  },
  {
   "cell_type": "code",
   "execution_count": null,
   "id": "c5a98bc5",
   "metadata": {},
   "outputs": [
    {
     "name": "stdout",
     "output_type": "stream",
     "text": [
      "Basis encoding: \n",
      " [0.+0.j 0.+0.j 0.+0.j 0.+0.j 0.+0.j 0.+0.j 0.+0.j 1.+0.j 0.+0.j 0.+0.j\n",
      " 0.+0.j 0.+0.j 0.+0.j 0.+0.j 0.+0.j 0.+0.j] \n",
      "\n",
      "0: ─╭|Ψ⟩─┤ ╭State\n",
      "1: ─├|Ψ⟩─┤ ├State\n",
      "2: ─├|Ψ⟩─┤ ├State\n",
      "3: ─╰|Ψ⟩─┤ ╰State\n"
     ]
    }
   ],
   "source": [
    "#creates pennylane quantum device that simualtes qubits on cpu\n",
    "dev = qml.device('default.qubit', wires=4)     #qubits = wires\n",
    " \n",
    "\n",
    "@qml.qnode(dev)   #wraps the function, becomes quantum node executable on dev\n",
    "def feature_map_be(x): \n",
    "    #applies X gates where x[i]=1\n",
    "    qml.BasisEmbedding(features=x, wires=range(4))      #binarize for basis\n",
    "    return qml.state()\n",
    "\n",
    "\n",
    "# array_to_latex(array=feature_map_be(sample_vec))\n",
    "state = feature_map_be(sample_vec_int)     #stores statevector\n",
    "print(f\"Basis encoding: \\n {state} \\n\")\n",
    "\n",
    "print(qml.draw(feature_map_be, level='device')(sample_vec_int))\n"
   ]
  },
  {
   "cell_type": "markdown",
   "id": "b7d25ad5",
   "metadata": {},
   "source": [
    "We are working with 2**4 = 16 possible states (∣0000⟩, ∣0001⟩, ... ,∣1111⟩). This output shows all complex amplitudes (a raw vector), with all but one zeros. \n",
    "\n",
    "(Below I print out the non-zero basis states (there is only the one) in a more readble fashion)\n",
    "\n",
    "The circuit is depicting a |Ψ⟩ operation (basis embedding) applied jointly across 4 qubits (no gates) preparing a computational basis state. Returns a quantum state vector."
   ]
  },
  {
   "cell_type": "code",
   "execution_count": 44,
   "id": "9d67018b",
   "metadata": {},
   "outputs": [
    {
     "name": "stdout",
     "output_type": "stream",
     "text": [
      "|0111>: amplitude = (1+0j)\n"
     ]
    }
   ],
   "source": [
    "nonzero_indices= np.nonzero(state)[0]   \n",
    "\n",
    "for idx in nonzero_indices:\n",
    "    print(f\"|{idx:04b}>: amplitude = {state[idx]}\")\n"
   ]
  },
  {
   "cell_type": "markdown",
   "id": "9308b512",
   "metadata": {},
   "source": [
    "### Angle Encoding"
   ]
  },
  {
   "cell_type": "markdown",
   "id": "da543455",
   "metadata": {},
   "source": [
    "Improves as this method embeds rotation angles into gates so we can introduce numeric data as the rotation angle of our given qubit. This is flexible with the rotation axis (X, Y, Z). I am going to use Z rotations here. For example, x = [x1, x2, ... xn] would be mapped to:\n",
    "\n",
    "<img src=\"imgs/angle_encoding_function.png\" alt=\"Alt text\" width=\"250\"/>"
   ]
  },
  {
   "cell_type": "code",
   "execution_count": null,
   "id": "08047f1a",
   "metadata": {},
   "outputs": [
    {
     "name": "stdout",
     "output_type": "stream",
     "text": [
      "0: ──RZ(-3.57)─┤ ╭State\n",
      "1: ──RZ(0.12)──┤ ├State\n",
      "2: ──RZ(0.03)──┤ ├State\n",
      "3: ──RZ(3.41)──┤ ╰State\n"
     ]
    }
   ],
   "source": [
    "dev = qml.device('default.qubit', wires=4)\n",
    "\n",
    "@qml.qnode(dev)\n",
    "def feature_map_ae(x):\n",
    "    qml.AngleEmbedding(features=x, wires=range(4), rotation='Z')     #applies z rotations\n",
    "    return qml.state()\n",
    "\n",
    "# X = [2*np.pi, 0, np.pi]\n",
    "print(qml.draw(feature_map_ae, level='device')(sample_vec))    "
   ]
  },
  {
   "cell_type": "markdown",
   "id": "6facb519",
   "metadata": {},
   "source": [
    "The middle operation shown on this circuit has a rotation of the value x[i] around the Z axis on the Bloch sphere. For instance, for qubit[0]: \n",
    "\n",
    "$$\n",
    "R_Z(-3.57)\\,|0\\rangle = e^{-i(-3.57)/2}\\,|0\\rangle = e^{\\,i\\frac{3.57}{2}}\\,|0\\rangle\n",
    "$$\n"
   ]
  },
  {
   "cell_type": "markdown",
   "id": "f61754af",
   "metadata": {},
   "source": [
    "#### ZZ Feature Map (manual)\n"
   ]
  },
  {
   "cell_type": "markdown",
   "id": "da4c6b0f",
   "metadata": {},
   "source": [
    "For a ZZ Feature Map, PennyLane does not already have a built in function so we have to do it manually using Hadamard gates, along wiht RZ and ZZ rotations for each qubit pair. This just makes it simpler to integrate over the course of this project. I will still show the Qiskit code below too.\n",
    "\n",
    "The ZZ feature map is a version of the Pauli feature map, which includes entangling gates (ZZ interactions thorugh controlled-phase gates), done after initial data encoding rotations. This is done to allow feature map to capture any potential correlations between features and then maps the data to a more complex hilbert space. \n",
    "\n",
    "There are layers of Hadamard gates, single qubit phase rotations, and 2 qubit controlled phase rotations. \n",
    "\n",
    "Hadamard Gates\n",
    "\n",
    "Creates equal superposition of either state within a qubit\n",
    "\n",
    "$$\n",
    "H = \\tfrac{1}{\\sqrt{2}}\n",
    "\\begin{pmatrix}\n",
    "1 & 1 \\\\[6pt]\n",
    "1 & -1\n",
    "\\end{pmatrix}\n",
    "$$\n",
    "\n",
    "RZ Gates \n",
    "\n",
    "Single qubit rotation around Z axis, diagonal gate\n",
    "\n",
    "$$\n",
    "R_Z(\\phi) \n",
    "= \\exp\\!\\left(-i \\tfrac{\\phi}{2} Z\\right) \n",
    "= \n",
    "\\begin{pmatrix}\n",
    "e^{-i\\phi/2} & 0 \\\\[6pt]\n",
    "0 & e^{\\,i\\phi/2}\n",
    "\\end{pmatrix}\n",
    "$$\n",
    "\n",
    "\n",
    "CNOT Gates\n",
    "\n",
    "Flips target qubit if control qubit is 1. \n",
    "\n",
    "$$\n",
    "\\text{CNOT} = CX =\n",
    "\\begin{pmatrix}\n",
    "1 & 0 & 0 & 0 \\\\[6pt]\n",
    "0 & 1 & 0 & 0 \\\\[6pt]\n",
    "0 & 0 & 0 & 1 \\\\[6pt]\n",
    "0 & 0 & 1 & 0\n",
    "\\end{pmatrix}\n",
    "$$\n"
   ]
  },
  {
   "cell_type": "code",
   "execution_count": null,
   "id": "8f3d5a91",
   "metadata": {},
   "outputs": [
    {
     "name": "stdout",
     "output_type": "stream",
     "text": [
      "ZZFeatureMap state vector: \n",
      " [0.2373154 +0.07862189j 0.11619852+0.2213547j  0.20258228+0.14649376j\n",
      " 0.14889752+0.20082213j 0.2389986 -0.07334624j 0.22292469+0.11315733j\n",
      " 0.2499919 -0.00201294j 0.23893279+0.07356034j 0.04083902-0.24664179j\n",
      " 0.20063923-0.14914388j 0.11327895-0.22286291j 0.1752807 -0.17826013j\n",
      " 0.23987904-0.07041341j 0.22152198+0.11587929j 0.2499978 +0.00104919j\n",
      " 0.23801387+0.07648135j] \n",
      "\n",
      "0: ──H──RZ(-7.14)─╭●────────────╭●─────────────────────────────────┤ ╭State\n",
      "1: ──H──RZ(0.24)──╰X──RZ(-0.87)─╰X─╭●───────────╭●─────────────────┤ ├State\n",
      "2: ──H──RZ(0.07)───────────────────╰X──RZ(0.01)─╰X─╭●───────────╭●─┤ ├State\n",
      "3: ──H──RZ(6.82)───────────────────────────────────╰X──RZ(0.23)─╰X─┤ ╰State\n"
     ]
    }
   ],
   "source": [
    "def zz_fm(x, wires, reps=1):      #(classical data vector, qubits in use, number of layers/repititions)\n",
    "    n_qubits = len(wires)\n",
    "\n",
    "    for _ in range(reps):\n",
    "        for i in wires: \n",
    "            qml.Hadamard(wires=i)            #hadamard gates, uniform superposition of states --> gives room for inference in future entanglement \n",
    "\n",
    "        for i, wire in enumerate(wires):     #single qubit phase rotations (encodes classical data to qubit phases)\n",
    "            qml.RZ(2*x[i], wires=wire)       #RZ rotation, angle = 2x[i] \n",
    "\n",
    "        for i in range(n_qubits-1):                    #ZZ entangling layer for pairs of neighboring qubits/wires\n",
    "            qml.CNOT(wires=[wires[i], wires[i+1]])\n",
    "            qml.RZ(2*x[i]*x[i+1], wires=wires[i+1])    #performs rotation around Z axis by given amount (angle = 2x[i] * x[i+1]) ENCODES PAIRWISE CORRELATIONS BETWEEN FEATURES x[i] and x[i+1]\n",
    "            qml.CNOT(wires=[wires[i], wires[i+1]])     #uncomputes entanglement (so final effect is ZZ interaction)\n",
    "\n",
    "\n",
    "\n",
    "dev = qml.device(\"default.qubit\", wires=4)\n",
    "\n",
    "@qml.qnode(dev)\n",
    "def feature_map_zz(x):\n",
    "    zz_fm(x, wires=range(4), reps=1)\n",
    "    return qml.state()\n",
    "\n",
    "\n",
    "print(f\"ZZFeatureMap state vector: \\n {feature_map_zz(sample_vec)} \\n\") \n",
    "print(qml.draw(feature_map_zz, level='device')(sample_vec))    \n"
   ]
  },
  {
   "cell_type": "markdown",
   "id": "4c620f39",
   "metadata": {},
   "source": [
    "A CNOT sandwich, which is seen within the multiqubit entanglement layer above, allows for conditional application of a targets rotation, depending on the control qubit. So, in the end, we are maintaining the computational values of the qubit but keeping the phase entanglement of the qubits (it would look the same on the 0,1 level but now hidden quantum phase correlations encode the data)"
   ]
  },
  {
   "cell_type": "markdown",
   "id": "db2b9ab4",
   "metadata": {},
   "source": [
    "##### ZZ Feature Map - Qiskit\n"
   ]
  },
  {
   "cell_type": "markdown",
   "id": "36045c30",
   "metadata": {},
   "source": [
    "Switched to Qiskit here because Pennylane does not have ZZFeatureMap. This is just to show other options of achieving the ZZ Feature Maps with a less hands on approach\n",
    "\n",
    "performs the same rotations in angle encoding but with extra ZZ interaction within dataponits to capture correlating observations to boost representation. \n",
    "\n",
    "is an angle encoding PQC (parameterized quantum circuit) to encode features into quantum states"
   ]
  },
  {
   "cell_type": "code",
   "execution_count": 22,
   "id": "1aad2529",
   "metadata": {},
   "outputs": [
    {
     "name": "stdout",
     "output_type": "stream",
     "text": [
      "Depth of qcircuit: 31.\n"
     ]
    },
    {
     "data": {
      "text/html": [
       "<pre style=\"word-wrap: normal;white-space: pre;background: #fff0;line-height: 1.1;font-family: &quot;Courier New&quot;,Courier,monospace\">     ┌───┐┌─────────────┐                                               »\n",
       "q_0: ┤ H ├┤ P(2.0*x[0]) ├──■────────────────────────────────────■────■──»\n",
       "     ├───┤├─────────────┤┌─┴─┐┌──────────────────────────────┐┌─┴─┐  │  »\n",
       "q_1: ┤ H ├┤ P(2.0*x[1]) ├┤ X ├┤ P(2.0*(π - x[0])*(π - x[1])) ├┤ X ├──┼──»\n",
       "     ├───┤├─────────────┤└───┘└──────────────────────────────┘└───┘┌─┴─┐»\n",
       "q_2: ┤ H ├┤ P(2.0*x[2]) ├──────────────────────────────────────────┤ X ├»\n",
       "     ├───┤├─────────────┤                                          └───┘»\n",
       "q_3: ┤ H ├┤ P(2.0*x[3]) ├───────────────────────────────────────────────»\n",
       "     └───┘└─────────────┘                                               »\n",
       "«                                                    »\n",
       "«q_0: ──────────────────────────────────■─────────■──»\n",
       "«                                       │         │  »\n",
       "«q_1: ──────────────────────────────────┼────■────┼──»\n",
       "«     ┌──────────────────────────────┐┌─┴─┐┌─┴─┐  │  »\n",
       "«q_2: ┤ P(2.0*(π - x[0])*(π - x[2])) ├┤ X ├┤ X ├──┼──»\n",
       "«     └──────────────────────────────┘└───┘└───┘┌─┴─┐»\n",
       "«q_3: ──────────────────────────────────────────┤ X ├»\n",
       "«                                               └───┘»\n",
       "«                                               ┌───┐»\n",
       "«q_0: ───────────────────────────────────────■──┤ H ├»\n",
       "«                                            │  └───┘»\n",
       "«q_1: ──────────────────────────────────■────┼────■──»\n",
       "«     ┌──────────────────────────────┐┌─┴─┐  │    │  »\n",
       "«q_2: ┤ P(2.0*(π - x[1])*(π - x[2])) ├┤ X ├──┼────┼──»\n",
       "«     ├──────────────────────────────┤└───┘┌─┴─┐┌─┴─┐»\n",
       "«q_3: ┤ P(2.0*(π - x[0])*(π - x[3])) ├─────┤ X ├┤ X ├»\n",
       "«     └──────────────────────────────┘     └───┘└───┘»\n",
       "«             ┌─────────────┐                   »\n",
       "«q_0: ────────┤ P(2.0*x[0]) ├───────────────────»\n",
       "«             └─────────────┘              ┌───┐»\n",
       "«q_1: ──────────────────────────────────■──┤ H ├»\n",
       "«                                       │  └───┘»\n",
       "«q_2: ──────────────────────────────────┼────■──»\n",
       "«     ┌──────────────────────────────┐┌─┴─┐┌─┴─┐»\n",
       "«q_3: ┤ P(2.0*(π - x[1])*(π - x[3])) ├┤ X ├┤ X ├»\n",
       "«     └──────────────────────────────┘└───┘└───┘»\n",
       "«                                                                          »\n",
       "«q_0: ──────────────────────────────────■──────────────────────────────────»\n",
       "«             ┌─────────────┐         ┌─┴─┐┌──────────────────────────────┐»\n",
       "«q_1: ────────┤ P(2.0*x[1]) ├─────────┤ X ├┤ P(2.0*(π - x[0])*(π - x[1])) ├»\n",
       "«             └─────────────┘         └───┘└────────────┬───┬─────────────┘»\n",
       "«q_2: ──────────────────────────────────■───────────────┤ H ├──────────────»\n",
       "«     ┌──────────────────────────────┐┌─┴─┐             ├───┤              »\n",
       "«q_3: ┤ P(2.0*(π - x[2])*(π - x[3])) ├┤ X ├─────────────┤ H ├──────────────»\n",
       "«     └──────────────────────────────┘└───┘             └───┘              »\n",
       "«                                                                        »\n",
       "«q_0: ───────■─────────■────────────────────────────────────■─────────■──»\n",
       "«          ┌─┴─┐       │                                    │         │  »\n",
       "«q_1: ─────┤ X ├───────┼────────────────────────────────────┼────■────┼──»\n",
       "«     ┌────┴───┴────┐┌─┴─┐┌──────────────────────────────┐┌─┴─┐┌─┴─┐  │  »\n",
       "«q_2: ┤ P(2.0*x[2]) ├┤ X ├┤ P(2.0*(π - x[0])*(π - x[2])) ├┤ X ├┤ X ├──┼──»\n",
       "«     ├─────────────┤└───┘└──────────────────────────────┘└───┘└───┘┌─┴─┐»\n",
       "«q_3: ┤ P(2.0*x[3]) ├───────────────────────────────────────────────┤ X ├»\n",
       "«     └─────────────┘                                               └───┘»\n",
       "«                                                    »\n",
       "«q_0: ───────────────────────────────────────■───────»\n",
       "«                                            │       »\n",
       "«q_1: ──────────────────────────────────■────┼────■──»\n",
       "«     ┌──────────────────────────────┐┌─┴─┐  │    │  »\n",
       "«q_2: ┤ P(2.0*(π - x[1])*(π - x[2])) ├┤ X ├──┼────┼──»\n",
       "«     ├──────────────────────────────┤└───┘┌─┴─┐┌─┴─┐»\n",
       "«q_3: ┤ P(2.0*(π - x[0])*(π - x[3])) ├─────┤ X ├┤ X ├»\n",
       "«     └──────────────────────────────┘     └───┘└───┘»\n",
       "«                                               »\n",
       "«q_0: ──────────────────────────────────────────»\n",
       "«                                               »\n",
       "«q_1: ──────────────────────────────────■───────»\n",
       "«                                       │       »\n",
       "«q_2: ──────────────────────────────────┼────■──»\n",
       "«     ┌──────────────────────────────┐┌─┴─┐┌─┴─┐»\n",
       "«q_3: ┤ P(2.0*(π - x[1])*(π - x[3])) ├┤ X ├┤ X ├»\n",
       "«     └──────────────────────────────┘└───┘└───┘»\n",
       "«                                          \n",
       "«q_0: ─────────────────────────────────────\n",
       "«                                          \n",
       "«q_1: ─────────────────────────────────────\n",
       "«                                          \n",
       "«q_2: ──────────────────────────────────■──\n",
       "«     ┌──────────────────────────────┐┌─┴─┐\n",
       "«q_3: ┤ P(2.0*(π - x[2])*(π - x[3])) ├┤ X ├\n",
       "«     └──────────────────────────────┘└───┘</pre>"
      ],
      "text/plain": [
       "     ┌───┐┌─────────────┐                                               »\n",
       "q_0: ┤ H ├┤ P(2.0*x[0]) ├──■────────────────────────────────────■────■──»\n",
       "     ├───┤├─────────────┤┌─┴─┐┌──────────────────────────────┐┌─┴─┐  │  »\n",
       "q_1: ┤ H ├┤ P(2.0*x[1]) ├┤ X ├┤ P(2.0*(π - x[0])*(π - x[1])) ├┤ X ├──┼──»\n",
       "     ├───┤├─────────────┤└───┘└──────────────────────────────┘└───┘┌─┴─┐»\n",
       "q_2: ┤ H ├┤ P(2.0*x[2]) ├──────────────────────────────────────────┤ X ├»\n",
       "     ├───┤├─────────────┤                                          └───┘»\n",
       "q_3: ┤ H ├┤ P(2.0*x[3]) ├───────────────────────────────────────────────»\n",
       "     └───┘└─────────────┘                                               »\n",
       "«                                                    »\n",
       "«q_0: ──────────────────────────────────■─────────■──»\n",
       "«                                       │         │  »\n",
       "«q_1: ──────────────────────────────────┼────■────┼──»\n",
       "«     ┌──────────────────────────────┐┌─┴─┐┌─┴─┐  │  »\n",
       "«q_2: ┤ P(2.0*(π - x[0])*(π - x[2])) ├┤ X ├┤ X ├──┼──»\n",
       "«     └──────────────────────────────┘└───┘└───┘┌─┴─┐»\n",
       "«q_3: ──────────────────────────────────────────┤ X ├»\n",
       "«                                               └───┘»\n",
       "«                                               ┌───┐»\n",
       "«q_0: ───────────────────────────────────────■──┤ H ├»\n",
       "«                                            │  └───┘»\n",
       "«q_1: ──────────────────────────────────■────┼────■──»\n",
       "«     ┌──────────────────────────────┐┌─┴─┐  │    │  »\n",
       "«q_2: ┤ P(2.0*(π - x[1])*(π - x[2])) ├┤ X ├──┼────┼──»\n",
       "«     ├──────────────────────────────┤└───┘┌─┴─┐┌─┴─┐»\n",
       "«q_3: ┤ P(2.0*(π - x[0])*(π - x[3])) ├─────┤ X ├┤ X ├»\n",
       "«     └──────────────────────────────┘     └───┘└───┘»\n",
       "«             ┌─────────────┐                   »\n",
       "«q_0: ────────┤ P(2.0*x[0]) ├───────────────────»\n",
       "«             └─────────────┘              ┌───┐»\n",
       "«q_1: ──────────────────────────────────■──┤ H ├»\n",
       "«                                       │  └───┘»\n",
       "«q_2: ──────────────────────────────────┼────■──»\n",
       "«     ┌──────────────────────────────┐┌─┴─┐┌─┴─┐»\n",
       "«q_3: ┤ P(2.0*(π - x[1])*(π - x[3])) ├┤ X ├┤ X ├»\n",
       "«     └──────────────────────────────┘└───┘└───┘»\n",
       "«                                                                          »\n",
       "«q_0: ──────────────────────────────────■──────────────────────────────────»\n",
       "«             ┌─────────────┐         ┌─┴─┐┌──────────────────────────────┐»\n",
       "«q_1: ────────┤ P(2.0*x[1]) ├─────────┤ X ├┤ P(2.0*(π - x[0])*(π - x[1])) ├»\n",
       "«             └─────────────┘         └───┘└────────────┬───┬─────────────┘»\n",
       "«q_2: ──────────────────────────────────■───────────────┤ H ├──────────────»\n",
       "«     ┌──────────────────────────────┐┌─┴─┐             ├───┤              »\n",
       "«q_3: ┤ P(2.0*(π - x[2])*(π - x[3])) ├┤ X ├─────────────┤ H ├──────────────»\n",
       "«     └──────────────────────────────┘└───┘             └───┘              »\n",
       "«                                                                        »\n",
       "«q_0: ───────■─────────■────────────────────────────────────■─────────■──»\n",
       "«          ┌─┴─┐       │                                    │         │  »\n",
       "«q_1: ─────┤ X ├───────┼────────────────────────────────────┼────■────┼──»\n",
       "«     ┌────┴───┴────┐┌─┴─┐┌──────────────────────────────┐┌─┴─┐┌─┴─┐  │  »\n",
       "«q_2: ┤ P(2.0*x[2]) ├┤ X ├┤ P(2.0*(π - x[0])*(π - x[2])) ├┤ X ├┤ X ├──┼──»\n",
       "«     ├─────────────┤└───┘└──────────────────────────────┘└───┘└───┘┌─┴─┐»\n",
       "«q_3: ┤ P(2.0*x[3]) ├───────────────────────────────────────────────┤ X ├»\n",
       "«     └─────────────┘                                               └───┘»\n",
       "«                                                    »\n",
       "«q_0: ───────────────────────────────────────■───────»\n",
       "«                                            │       »\n",
       "«q_1: ──────────────────────────────────■────┼────■──»\n",
       "«     ┌──────────────────────────────┐┌─┴─┐  │    │  »\n",
       "«q_2: ┤ P(2.0*(π - x[1])*(π - x[2])) ├┤ X ├──┼────┼──»\n",
       "«     ├──────────────────────────────┤└───┘┌─┴─┐┌─┴─┐»\n",
       "«q_3: ┤ P(2.0*(π - x[0])*(π - x[3])) ├─────┤ X ├┤ X ├»\n",
       "«     └──────────────────────────────┘     └───┘└───┘»\n",
       "«                                               »\n",
       "«q_0: ──────────────────────────────────────────»\n",
       "«                                               »\n",
       "«q_1: ──────────────────────────────────■───────»\n",
       "«                                       │       »\n",
       "«q_2: ──────────────────────────────────┼────■──»\n",
       "«     ┌──────────────────────────────┐┌─┴─┐┌─┴─┐»\n",
       "«q_3: ┤ P(2.0*(π - x[1])*(π - x[3])) ├┤ X ├┤ X ├»\n",
       "«     └──────────────────────────────┘└───┘└───┘»\n",
       "«                                          \n",
       "«q_0: ─────────────────────────────────────\n",
       "«                                          \n",
       "«q_1: ─────────────────────────────────────\n",
       "«                                          \n",
       "«q_2: ──────────────────────────────────■──\n",
       "«     ┌──────────────────────────────┐┌─┴─┐\n",
       "«q_3: ┤ P(2.0*(π - x[2])*(π - x[3])) ├┤ X ├\n",
       "«     └──────────────────────────────┘└───┘"
      ]
     },
     "execution_count": 22,
     "metadata": {},
     "output_type": "execute_result"
    }
   ],
   "source": [
    "# num_features = 2  #number of qubits/dimensions \n",
    "num_features = X_train.shape[1]   #4\n",
    "\n",
    "\n",
    "feature_map = ZZFeatureMap(num_features)\n",
    "# feature_map.draw('mpl')\n",
    "print(f\"Depth of qcircuit: {str(feature_map.decompose(reps=10).depth())}.\")  \n",
    "# feature_map.decompose().draw(output='mpl', fold=20)           #issues with plt not sure why\n",
    "feature_map.decompose().draw(output='text')\n"
   ]
  },
  {
   "cell_type": "code",
   "execution_count": null,
   "id": "af039556",
   "metadata": {},
   "outputs": [],
   "source": [
    "# feature_map.decompose().draw('mpl', fold=-1)"
   ]
  },
  {
   "cell_type": "markdown",
   "id": "868ff263",
   "metadata": {},
   "source": []
  },
  {
   "cell_type": "markdown",
   "id": "c9262e42",
   "metadata": {},
   "source": [
    "### Amplitude Encoding (RFV)\n",
    "\n",
    "Takes prob amplitude of elements on an array and matches them to a position where they are placed at. Assuming the data is composed of n values (X = [x0, x1, x2, ... xn]), its quantum representation would be: \n",
    "\n",
    "\n",
    "<img src=\"imgs/amplitude_encoding_function.png\" alt=\"Alt text\" width=\"200\"/>"
   ]
  },
  {
   "cell_type": "code",
   "execution_count": null,
   "id": "60cdaf2a",
   "metadata": {},
   "outputs": [
    {
     "ename": "ValueError",
     "evalue": "State must be of length 16; got length 4. Use the 'pad_with' argument for automated padding.",
     "output_type": "error",
     "traceback": [
      "\u001b[1;31m---------------------------------------------------------------------------\u001b[0m",
      "\u001b[1;31mValueError\u001b[0m                                Traceback (most recent call last)",
      "Cell \u001b[1;32mIn[35], line 10\u001b[0m\n\u001b[0;32m      8\u001b[0m \u001b[38;5;66;03m# X = [1/2, 1/2, 1/2, 1/2]\u001b[39;00m\n\u001b[0;32m      9\u001b[0m amp_vec \u001b[38;5;241m=\u001b[39m sample_vec[:\u001b[38;5;241m4\u001b[39m] \u001b[38;5;241m/\u001b[39m np\u001b[38;5;241m.\u001b[39mlinalg\u001b[38;5;241m.\u001b[39mnorm(sample_vec[:\u001b[38;5;241m4\u001b[39m])\n\u001b[1;32m---> 10\u001b[0m \u001b[38;5;28mprint\u001b[39m(\u001b[43mfeature_map_ame\u001b[49m\u001b[43m(\u001b[49m\u001b[43mamp_vec\u001b[49m\u001b[43m)\u001b[49m)\n",
      "File \u001b[1;32mc:\\Users\\annap\\miniconda3\\envs\\qfm-env\\lib\\site-packages\\pennylane\\workflow\\qnode.py:922\u001b[0m, in \u001b[0;36mQNode.__call__\u001b[1;34m(self, *args, **kwargs)\u001b[0m\n\u001b[0;32m    919\u001b[0m     \u001b[38;5;28;01mfrom\u001b[39;00m\u001b[38;5;250m \u001b[39m\u001b[38;5;21;01m.\u001b[39;00m\u001b[38;5;21;01m_capture_qnode\u001b[39;00m\u001b[38;5;250m \u001b[39m\u001b[38;5;28;01mimport\u001b[39;00m capture_qnode  \u001b[38;5;66;03m# pylint: disable=import-outside-toplevel\u001b[39;00m\n\u001b[0;32m    921\u001b[0m     \u001b[38;5;28;01mreturn\u001b[39;00m capture_qnode(\u001b[38;5;28mself\u001b[39m, \u001b[38;5;241m*\u001b[39margs, \u001b[38;5;241m*\u001b[39m\u001b[38;5;241m*\u001b[39mkwargs)\n\u001b[1;32m--> 922\u001b[0m \u001b[38;5;28;01mreturn\u001b[39;00m \u001b[38;5;28mself\u001b[39m\u001b[38;5;241m.\u001b[39m_impl_call(\u001b[38;5;241m*\u001b[39margs, \u001b[38;5;241m*\u001b[39m\u001b[38;5;241m*\u001b[39mkwargs)\n",
      "File \u001b[1;32mc:\\Users\\annap\\miniconda3\\envs\\qfm-env\\lib\\site-packages\\pennylane\\workflow\\qnode.py:890\u001b[0m, in \u001b[0;36mQNode._impl_call\u001b[1;34m(self, *args, **kwargs)\u001b[0m\n\u001b[0;32m    887\u001b[0m \u001b[38;5;28;01mdef\u001b[39;00m\u001b[38;5;250m \u001b[39m\u001b[38;5;21m_impl_call\u001b[39m(\u001b[38;5;28mself\u001b[39m, \u001b[38;5;241m*\u001b[39margs, \u001b[38;5;241m*\u001b[39m\u001b[38;5;241m*\u001b[39mkwargs) \u001b[38;5;241m-\u001b[39m\u001b[38;5;241m>\u001b[39m Result:\n\u001b[0;32m    888\u001b[0m \n\u001b[0;32m    889\u001b[0m     \u001b[38;5;66;03m# construct the tape\u001b[39;00m\n\u001b[1;32m--> 890\u001b[0m     tape \u001b[38;5;241m=\u001b[39m \u001b[38;5;28;43mself\u001b[39;49m\u001b[38;5;241;43m.\u001b[39;49m\u001b[43mconstruct\u001b[49m\u001b[43m(\u001b[49m\u001b[43margs\u001b[49m\u001b[43m,\u001b[49m\u001b[43m \u001b[49m\u001b[43mkwargs\u001b[49m\u001b[43m)\u001b[49m\n\u001b[0;32m    892\u001b[0m     \u001b[38;5;66;03m# Calculate the classical jacobians if necessary\u001b[39;00m\n\u001b[0;32m    893\u001b[0m     \u001b[38;5;28mself\u001b[39m\u001b[38;5;241m.\u001b[39m_transform_program\u001b[38;5;241m.\u001b[39mset_classical_component(\u001b[38;5;28mself\u001b[39m, args, kwargs)\n",
      "File \u001b[1;32mc:\\Users\\annap\\miniconda3\\envs\\qfm-env\\lib\\site-packages\\pennylane\\logging\\decorators.py:61\u001b[0m, in \u001b[0;36mlog_string_debug_func.<locals>.wrapper_entry\u001b[1;34m(*args, **kwargs)\u001b[0m\n\u001b[0;32m     54\u001b[0m     s_caller \u001b[38;5;241m=\u001b[39m \u001b[38;5;124m\"\u001b[39m\u001b[38;5;124m::L\u001b[39m\u001b[38;5;124m\"\u001b[39m\u001b[38;5;241m.\u001b[39mjoin(\n\u001b[0;32m     55\u001b[0m         [\u001b[38;5;28mstr\u001b[39m(i) \u001b[38;5;28;01mfor\u001b[39;00m i \u001b[38;5;129;01min\u001b[39;00m inspect\u001b[38;5;241m.\u001b[39mgetouterframes(inspect\u001b[38;5;241m.\u001b[39mcurrentframe(), \u001b[38;5;241m2\u001b[39m)[\u001b[38;5;241m1\u001b[39m][\u001b[38;5;241m1\u001b[39m:\u001b[38;5;241m3\u001b[39m]]\n\u001b[0;32m     56\u001b[0m     )\n\u001b[0;32m     57\u001b[0m     lgr\u001b[38;5;241m.\u001b[39mdebug(\n\u001b[0;32m     58\u001b[0m         \u001b[38;5;124mf\u001b[39m\u001b[38;5;124m\"\u001b[39m\u001b[38;5;124mCalling \u001b[39m\u001b[38;5;132;01m{\u001b[39;00mf_string\u001b[38;5;132;01m}\u001b[39;00m\u001b[38;5;124m from \u001b[39m\u001b[38;5;132;01m{\u001b[39;00ms_caller\u001b[38;5;132;01m}\u001b[39;00m\u001b[38;5;124m\"\u001b[39m,\n\u001b[0;32m     59\u001b[0m         \u001b[38;5;241m*\u001b[39m\u001b[38;5;241m*\u001b[39m_debug_log_kwargs,\n\u001b[0;32m     60\u001b[0m     )\n\u001b[1;32m---> 61\u001b[0m \u001b[38;5;28;01mreturn\u001b[39;00m func(\u001b[38;5;241m*\u001b[39margs, \u001b[38;5;241m*\u001b[39m\u001b[38;5;241m*\u001b[39mkwargs)\n",
      "File \u001b[1;32mc:\\Users\\annap\\miniconda3\\envs\\qfm-env\\lib\\site-packages\\pennylane\\workflow\\qnode.py:876\u001b[0m, in \u001b[0;36mQNode.construct\u001b[1;34m(self, args, kwargs)\u001b[0m\n\u001b[0;32m    874\u001b[0m \u001b[38;5;28;01mwith\u001b[39;00m pldb_device_manager(\u001b[38;5;28mself\u001b[39m\u001b[38;5;241m.\u001b[39mdevice):\n\u001b[0;32m    875\u001b[0m     \u001b[38;5;28;01mwith\u001b[39;00m AnnotatedQueue() \u001b[38;5;28;01mas\u001b[39;00m q:\n\u001b[1;32m--> 876\u001b[0m         \u001b[38;5;28mself\u001b[39m\u001b[38;5;241m.\u001b[39m_qfunc_output \u001b[38;5;241m=\u001b[39m \u001b[38;5;28mself\u001b[39m\u001b[38;5;241m.\u001b[39mfunc(\u001b[38;5;241m*\u001b[39margs, \u001b[38;5;241m*\u001b[39m\u001b[38;5;241m*\u001b[39mkwargs)\n\u001b[0;32m    878\u001b[0m tape \u001b[38;5;241m=\u001b[39m QuantumScript\u001b[38;5;241m.\u001b[39mfrom_queue(q, shots)\n\u001b[0;32m    880\u001b[0m params \u001b[38;5;241m=\u001b[39m tape\u001b[38;5;241m.\u001b[39mget_parameters(trainable_only\u001b[38;5;241m=\u001b[39m\u001b[38;5;28;01mFalse\u001b[39;00m)\n",
      "Cell \u001b[1;32mIn[35], line 5\u001b[0m, in \u001b[0;36mfeature_map_ame\u001b[1;34m(feature_vector)\u001b[0m\n\u001b[0;32m      3\u001b[0m \u001b[38;5;129m@qml\u001b[39m\u001b[38;5;241m.\u001b[39mqnode(dev)\n\u001b[0;32m      4\u001b[0m \u001b[38;5;28;01mdef\u001b[39;00m\u001b[38;5;250m \u001b[39m\u001b[38;5;21mfeature_map_ame\u001b[39m(feature_vector):\n\u001b[1;32m----> 5\u001b[0m     \u001b[43mqml\u001b[49m\u001b[38;5;241;43m.\u001b[39;49m\u001b[43mAmplitudeEmbedding\u001b[49m\u001b[43m(\u001b[49m\u001b[43mfeatures\u001b[49m\u001b[38;5;241;43m=\u001b[39;49m\u001b[43mfeature_vector\u001b[49m\u001b[43m,\u001b[49m\u001b[43m \u001b[49m\u001b[43mwires\u001b[49m\u001b[38;5;241;43m=\u001b[39;49m\u001b[38;5;28;43mrange\u001b[39;49m\u001b[43m(\u001b[49m\u001b[38;5;241;43m4\u001b[39;49m\u001b[43m)\u001b[49m\u001b[43m,\u001b[49m\u001b[43m \u001b[49m\u001b[43mnormalize\u001b[49m\u001b[38;5;241;43m=\u001b[39;49m\u001b[38;5;28;43;01mTrue\u001b[39;49;00m\u001b[43m)\u001b[49m\n\u001b[0;32m      6\u001b[0m     \u001b[38;5;28;01mreturn\u001b[39;00m qml\u001b[38;5;241m.\u001b[39mstate()\n",
      "File \u001b[1;32mc:\\Users\\annap\\miniconda3\\envs\\qfm-env\\lib\\site-packages\\pennylane\\capture\\capture_meta.py:30\u001b[0m, in \u001b[0;36m_stop_autograph.<locals>.new_f\u001b[1;34m(*args, **kwargs)\u001b[0m\n\u001b[0;32m     29\u001b[0m \u001b[38;5;28;01mdef\u001b[39;00m\u001b[38;5;250m \u001b[39m\u001b[38;5;21mnew_f\u001b[39m(\u001b[38;5;241m*\u001b[39margs, \u001b[38;5;241m*\u001b[39m\u001b[38;5;241m*\u001b[39mkwargs):\n\u001b[1;32m---> 30\u001b[0m     \u001b[38;5;28;01mreturn\u001b[39;00m f(\u001b[38;5;241m*\u001b[39margs, \u001b[38;5;241m*\u001b[39m\u001b[38;5;241m*\u001b[39mkwargs)\n",
      "File \u001b[1;32mc:\\Users\\annap\\miniconda3\\envs\\qfm-env\\lib\\site-packages\\pennylane\\capture\\capture_meta.py:97\u001b[0m, in \u001b[0;36mCaptureMeta.__call__\u001b[1;34m(cls, *args, **kwargs)\u001b[0m\n\u001b[0;32m     93\u001b[0m \u001b[38;5;28;01mif\u001b[39;00m enabled():\n\u001b[0;32m     94\u001b[0m     \u001b[38;5;66;03m# when tracing is enabled, we want to\u001b[39;00m\n\u001b[0;32m     95\u001b[0m     \u001b[38;5;66;03m# use bind to construct the class if we want class construction to add it to the jaxpr\u001b[39;00m\n\u001b[0;32m     96\u001b[0m     \u001b[38;5;28;01mreturn\u001b[39;00m \u001b[38;5;28mcls\u001b[39m\u001b[38;5;241m.\u001b[39m_primitive_bind_call(\u001b[38;5;241m*\u001b[39margs, \u001b[38;5;241m*\u001b[39m\u001b[38;5;241m*\u001b[39mkwargs)\n\u001b[1;32m---> 97\u001b[0m \u001b[38;5;28;01mreturn\u001b[39;00m \u001b[38;5;28mtype\u001b[39m\u001b[38;5;241m.\u001b[39m\u001b[38;5;21m__call__\u001b[39m(\u001b[38;5;28mcls\u001b[39m, \u001b[38;5;241m*\u001b[39margs, \u001b[38;5;241m*\u001b[39m\u001b[38;5;241m*\u001b[39mkwargs)\n",
      "File \u001b[1;32mc:\\Users\\annap\\miniconda3\\envs\\qfm-env\\lib\\site-packages\\pennylane\\templates\\embeddings\\amplitude.py:113\u001b[0m, in \u001b[0;36mAmplitudeEmbedding.__init__\u001b[1;34m(self, features, wires, pad_with, normalize, id, validate_norm)\u001b[0m\n\u001b[0;32m    110\u001b[0m \u001b[38;5;28;01mdef\u001b[39;00m\u001b[38;5;250m \u001b[39m\u001b[38;5;21m__init__\u001b[39m(\n\u001b[0;32m    111\u001b[0m     \u001b[38;5;28mself\u001b[39m, features, wires, pad_with\u001b[38;5;241m=\u001b[39m\u001b[38;5;28;01mNone\u001b[39;00m, normalize\u001b[38;5;241m=\u001b[39m\u001b[38;5;28;01mFalse\u001b[39;00m, \u001b[38;5;28mid\u001b[39m\u001b[38;5;241m=\u001b[39m\u001b[38;5;28;01mNone\u001b[39;00m, validate_norm\u001b[38;5;241m=\u001b[39m\u001b[38;5;28;01mTrue\u001b[39;00m\n\u001b[0;32m    112\u001b[0m ):\n\u001b[1;32m--> 113\u001b[0m     \u001b[38;5;28;43msuper\u001b[39;49m\u001b[43m(\u001b[49m\u001b[43m)\u001b[49m\u001b[38;5;241;43m.\u001b[39;49m\u001b[38;5;21;43m__init__\u001b[39;49m\u001b[43m(\u001b[49m\n\u001b[0;32m    114\u001b[0m \u001b[43m        \u001b[49m\u001b[43mfeatures\u001b[49m\u001b[43m,\u001b[49m\n\u001b[0;32m    115\u001b[0m \u001b[43m        \u001b[49m\u001b[43mwires\u001b[49m\u001b[38;5;241;43m=\u001b[39;49m\u001b[43mwires\u001b[49m\u001b[43m,\u001b[49m\n\u001b[0;32m    116\u001b[0m \u001b[43m        \u001b[49m\u001b[43mpad_with\u001b[49m\u001b[38;5;241;43m=\u001b[39;49m\u001b[43mpad_with\u001b[49m\u001b[43m,\u001b[49m\n\u001b[0;32m    117\u001b[0m \u001b[43m        \u001b[49m\u001b[43mnormalize\u001b[49m\u001b[38;5;241;43m=\u001b[39;49m\u001b[43mnormalize\u001b[49m\u001b[43m,\u001b[49m\n\u001b[0;32m    118\u001b[0m \u001b[43m        \u001b[49m\u001b[43mvalidate_norm\u001b[49m\u001b[38;5;241;43m=\u001b[39;49m\u001b[43mvalidate_norm\u001b[49m\u001b[43m,\u001b[49m\n\u001b[0;32m    119\u001b[0m \u001b[43m        \u001b[49m\u001b[38;5;28;43mid\u001b[39;49m\u001b[38;5;241;43m=\u001b[39;49m\u001b[38;5;28;43mid\u001b[39;49m\u001b[43m,\u001b[49m\n\u001b[0;32m    120\u001b[0m \u001b[43m    \u001b[49m\u001b[43m)\u001b[49m\n",
      "File \u001b[1;32mc:\\Users\\annap\\miniconda3\\envs\\qfm-env\\lib\\site-packages\\pennylane\\ops\\qubit\\state_preparation.py:373\u001b[0m, in \u001b[0;36mStatePrep.__init__\u001b[1;34m(self, state, wires, pad_with, normalize, id, validate_norm)\u001b[0m\n\u001b[0;32m    371\u001b[0m     \u001b[38;5;28mself\u001b[39m\u001b[38;5;241m.\u001b[39mis_sparse \u001b[38;5;241m=\u001b[39m \u001b[38;5;28;01mTrue\u001b[39;00m\n\u001b[0;32m    372\u001b[0m \u001b[38;5;28;01melse\u001b[39;00m:\n\u001b[1;32m--> 373\u001b[0m     state \u001b[38;5;241m=\u001b[39m \u001b[38;5;28;43mself\u001b[39;49m\u001b[38;5;241;43m.\u001b[39;49m\u001b[43m_preprocess\u001b[49m\u001b[43m(\u001b[49m\n\u001b[0;32m    374\u001b[0m \u001b[43m        \u001b[49m\u001b[43mstate\u001b[49m\u001b[43m,\u001b[49m\u001b[43m \u001b[49m\u001b[43mwires\u001b[49m\u001b[43m,\u001b[49m\u001b[43m \u001b[49m\u001b[43mpad_with\u001b[49m\u001b[38;5;241;43m=\u001b[39;49m\u001b[43mpad_with\u001b[49m\u001b[43m,\u001b[49m\u001b[43m \u001b[49m\u001b[43mnormalize\u001b[49m\u001b[38;5;241;43m=\u001b[39;49m\u001b[43mnormalize\u001b[49m\u001b[43m,\u001b[49m\u001b[43m \u001b[49m\u001b[43mvalidate_norm\u001b[49m\u001b[38;5;241;43m=\u001b[39;49m\u001b[43mvalidate_norm\u001b[49m\n\u001b[0;32m    375\u001b[0m \u001b[43m    \u001b[49m\u001b[43m)\u001b[49m\n\u001b[0;32m    377\u001b[0m \u001b[38;5;28mself\u001b[39m\u001b[38;5;241m.\u001b[39m_hyperparameters \u001b[38;5;241m=\u001b[39m {\n\u001b[0;32m    378\u001b[0m     \u001b[38;5;124m\"\u001b[39m\u001b[38;5;124mpad_with\u001b[39m\u001b[38;5;124m\"\u001b[39m: pad_with,\n\u001b[0;32m    379\u001b[0m     \u001b[38;5;124m\"\u001b[39m\u001b[38;5;124mnormalize\u001b[39m\u001b[38;5;124m\"\u001b[39m: normalize,\n\u001b[0;32m    380\u001b[0m     \u001b[38;5;124m\"\u001b[39m\u001b[38;5;124mvalidate_norm\u001b[39m\u001b[38;5;124m\"\u001b[39m: validate_norm,\n\u001b[0;32m    381\u001b[0m }\n\u001b[0;32m    383\u001b[0m \u001b[38;5;28msuper\u001b[39m()\u001b[38;5;241m.\u001b[39m\u001b[38;5;21m__init__\u001b[39m(state, wires\u001b[38;5;241m=\u001b[39mwires, \u001b[38;5;28mid\u001b[39m\u001b[38;5;241m=\u001b[39m\u001b[38;5;28mid\u001b[39m)\n",
      "File \u001b[1;32mc:\\Users\\annap\\miniconda3\\envs\\qfm-env\\lib\\site-packages\\pennylane\\ops\\qubit\\state_preparation.py:485\u001b[0m, in \u001b[0;36mStatePrep._preprocess\u001b[1;34m(state, wires, pad_with, normalize, validate_norm)\u001b[0m\n\u001b[0;32m    483\u001b[0m dim \u001b[38;5;241m=\u001b[39m \u001b[38;5;241m2\u001b[39m \u001b[38;5;241m*\u001b[39m\u001b[38;5;241m*\u001b[39m \u001b[38;5;28mlen\u001b[39m(Wires(wires))\n\u001b[0;32m    484\u001b[0m \u001b[38;5;28;01mif\u001b[39;00m pad_with \u001b[38;5;129;01mis\u001b[39;00m \u001b[38;5;28;01mNone\u001b[39;00m \u001b[38;5;129;01mand\u001b[39;00m n_states \u001b[38;5;241m!=\u001b[39m dim:\n\u001b[1;32m--> 485\u001b[0m     \u001b[38;5;28;01mraise\u001b[39;00m \u001b[38;5;167;01mValueError\u001b[39;00m(\n\u001b[0;32m    486\u001b[0m         \u001b[38;5;124mf\u001b[39m\u001b[38;5;124m\"\u001b[39m\u001b[38;5;124mState must be of length \u001b[39m\u001b[38;5;132;01m{\u001b[39;00mdim\u001b[38;5;132;01m}\u001b[39;00m\u001b[38;5;124m; got length \u001b[39m\u001b[38;5;132;01m{\u001b[39;00mn_states\u001b[38;5;132;01m}\u001b[39;00m\u001b[38;5;124m. \u001b[39m\u001b[38;5;124m\"\u001b[39m\n\u001b[0;32m    487\u001b[0m         \u001b[38;5;124mf\u001b[39m\u001b[38;5;124m\"\u001b[39m\u001b[38;5;124mUse the \u001b[39m\u001b[38;5;124m'\u001b[39m\u001b[38;5;124mpad_with\u001b[39m\u001b[38;5;124m'\u001b[39m\u001b[38;5;124m argument for automated padding.\u001b[39m\u001b[38;5;124m\"\u001b[39m\n\u001b[0;32m    488\u001b[0m     )\n\u001b[0;32m    490\u001b[0m \u001b[38;5;28;01mif\u001b[39;00m pad_with \u001b[38;5;129;01mis\u001b[39;00m \u001b[38;5;129;01mnot\u001b[39;00m \u001b[38;5;28;01mNone\u001b[39;00m:\n\u001b[0;32m    491\u001b[0m     normalize \u001b[38;5;241m=\u001b[39m \u001b[38;5;28;01mTrue\u001b[39;00m\n",
      "\u001b[1;31mValueError\u001b[0m: State must be of length 16; got length 4. Use the 'pad_with' argument for automated padding."
     ]
    }
   ],
   "source": [
    "dev = qml.device('default.qubit', wires=4)\n",
    "\n",
    "@qml.qnode(dev)\n",
    "def feature_map_ame(feature_vector):\n",
    "    qml.AmplitudeEmbedding(features=feature_vector, wires=range(4), normalize=True)\n",
    "    return qml.state()\n",
    "\n",
    "\n",
    "# X = [1/2, 1/2, 1/2, 1/2]\n",
    "amp_vec = sample_vec[:4] / np.linalg.norm(sample_vec[:4])\n",
    "print(feature_map_ame(amp_vec))"
   ]
  },
  {
   "cell_type": "markdown",
   "id": "94706a7d",
   "metadata": {},
   "source": [
    "##### RawFeatureVector - Qiskit"
   ]
  },
  {
   "cell_type": "markdown",
   "id": "f7f01c2b",
   "metadata": {},
   "source": [
    "Very similar to the pennylane amplitude embedding above"
   ]
  },
  {
   "cell_type": "code",
   "execution_count": 23,
   "id": "fafee196",
   "metadata": {},
   "outputs": [
    {
     "name": "stdout",
     "output_type": "stream",
     "text": [
      "Depth of qcircuit: 4.\n"
     ]
    },
    {
     "data": {
      "text/html": [
       "<pre style=\"word-wrap: normal;white-space: pre;background: #fff0;line-height: 1.1;font-family: &quot;Courier New&quot;,Courier,monospace\">     ┌───────────────────────────────────┐\n",
       "q_0: ┤0                                  ├\n",
       "     │  Initialize(0.70711,-0.70711,0,0) │\n",
       "q_1: ┤1                                  ├\n",
       "     └───────────────────────────────────┘</pre>"
      ],
      "text/plain": [
       "     ┌───────────────────────────────────┐\n",
       "q_0: ┤0                                  ├\n",
       "     │  Initialize(0.70711,-0.70711,0,0) │\n",
       "q_1: ┤1                                  ├\n",
       "     └───────────────────────────────────┘"
      ]
     },
     "execution_count": 23,
     "metadata": {},
     "output_type": "execute_result"
    }
   ],
   "source": [
    "#init and bind RFV to some random state\n",
    "feature_dimension = num_features\n",
    "amplitudes = np.array([1,-1,0,0])/np.sqrt(2)\n",
    "\n",
    "feature_map = RawFeatureVector(feature_dimension=feature_dimension)\n",
    "feature_map = feature_map.assign_parameters(amplitudes)\n",
    "print(f\"Depth of qcircuit: {str(feature_map.decompose(reps=10).depth())}.\")  \n",
    "feature_map.decompose().draw(output='text')\n"
   ]
  },
  {
   "cell_type": "markdown",
   "id": "f4e8eff0",
   "metadata": {},
   "source": [
    "### Pauli Feature Map\n",
    "\n"
   ]
  },
  {
   "cell_type": "markdown",
   "id": "8acc3814",
   "metadata": {},
   "source": [
    "This is a manual, hardcoded version of Qiskits PauliFeatureMap. "
   ]
  },
  {
   "cell_type": "code",
   "execution_count": null,
   "id": "6392f35d",
   "metadata": {},
   "outputs": [],
   "source": [
    "def pauli_feature_map(x, wires): \n",
    "    n_qubits=len(wires)\n",
    "\n",
    "    for i in wires:\n",
    "        qml.Hadamard(wires=i)\n",
    "\n",
    "        "
   ]
  },
  {
   "cell_type": "markdown",
   "id": "eb806b51",
   "metadata": {},
   "source": [
    "##### PauliFeatureMap - Qiskit"
   ]
  },
  {
   "cell_type": "code",
   "execution_count": 25,
   "id": "8e41997c",
   "metadata": {},
   "outputs": [
    {
     "data": {
      "text/html": [
       "<pre style=\"word-wrap: normal;white-space: pre;background: #fff0;line-height: 1.1;font-family: &quot;Courier New&quot;,Courier,monospace\">     ┌───┐┌───┐┌─────────────┐┌───┐                »\n",
       "q_0: ┤ H ├┤ H ├┤ P(2.0*x[0]) ├┤ H ├─────────────■──»\n",
       "     ├───┤├───┤├─────────────┤├───┤┌─────────┐┌─┴─┐»\n",
       "q_1: ┤ H ├┤ H ├┤ P(2.0*x[1]) ├┤ H ├┤ Rx(π/2) ├┤ X ├»\n",
       "     ├───┤├───┤├─────────────┤├───┤├─────────┤└───┘»\n",
       "q_2: ┤ H ├┤ H ├┤ P(2.0*x[2]) ├┤ H ├┤ Rx(π/2) ├─────»\n",
       "     └───┘└───┘└─────────────┘└───┘└─────────┘     »\n",
       "«                                             ┌───┐    ┌───┐»\n",
       "«q_0: ──────────────────────────────────■─────┤ H ├────┤ H ├»\n",
       "«     ┌──────────────────────────────┐┌─┴─┐┌──┴───┴───┐└───┘»\n",
       "«q_1: ┤ P(2.0*(π - x[0])*(π - x[1])) ├┤ X ├┤ Rx(-π/2) ├──■──»\n",
       "«     └──────────────────────────────┘└───┘└──────────┘┌─┴─┐»\n",
       "«q_2: ─────────────────────────────────────────────────┤ X ├»\n",
       "«                                                      └───┘»\n",
       "«             ┌─────────────┐         ┌───┐                                »\n",
       "«q_0: ────────┤ P(2.0*x[0]) ├─────────┤ H ├────────────────────────────────»\n",
       "«             └─────────────┘         └───┘   ┌───┐    ┌───┐┌─────────────┐»\n",
       "«q_1: ──────────────────────────────────■─────┤ H ├────┤ H ├┤ P(2.0*x[1]) ├»\n",
       "«     ┌──────────────────────────────┐┌─┴─┐┌──┴───┴───┐├───┤└────┬───┬────┘»\n",
       "«q_2: ┤ P(2.0*(π - x[1])*(π - x[2])) ├┤ X ├┤ Rx(-π/2) ├┤ H ├─────┤ H ├─────»\n",
       "«     └──────────────────────────────┘└───┘└──────────┘└───┘     └───┘     »\n",
       "«                                                                          »\n",
       "«q_0: ───────────────────────────────■─────────────────────────────────────»\n",
       "«          ┌───┐     ┌─────────┐   ┌─┴─┐   ┌──────────────────────────────┐»\n",
       "«q_1: ─────┤ H ├─────┤ Rx(π/2) ├───┤ X ├───┤ P(2.0*(π - x[0])*(π - x[1])) ├»\n",
       "«     ┌────┴───┴────┐└──┬───┬──┘┌──┴───┴──┐└──────────────────────────────┘»\n",
       "«q_2: ┤ P(2.0*x[2]) ├───┤ H ├───┤ Rx(π/2) ├────────────────────────────────»\n",
       "«     └─────────────┘   └───┘   └─────────┘                                »\n",
       "«                                                                            \n",
       "«q_0: ──■────────────────────────────────────────────────────────────────────\n",
       "«     ┌─┴─┐┌──────────┐                                                      \n",
       "«q_1: ┤ X ├┤ Rx(-π/2) ├──■────────────────────────────────────■──────────────\n",
       "«     └───┘└──────────┘┌─┴─┐┌──────────────────────────────┐┌─┴─┐┌──────────┐\n",
       "«q_2: ─────────────────┤ X ├┤ P(2.0*(π - x[1])*(π - x[2])) ├┤ X ├┤ Rx(-π/2) ├\n",
       "«                      └───┘└──────────────────────────────┘└───┘└──────────┘</pre>"
      ],
      "text/plain": [
       "     ┌───┐┌───┐┌─────────────┐┌───┐                »\n",
       "q_0: ┤ H ├┤ H ├┤ P(2.0*x[0]) ├┤ H ├─────────────■──»\n",
       "     ├───┤├───┤├─────────────┤├───┤┌─────────┐┌─┴─┐»\n",
       "q_1: ┤ H ├┤ H ├┤ P(2.0*x[1]) ├┤ H ├┤ Rx(π/2) ├┤ X ├»\n",
       "     ├───┤├───┤├─────────────┤├───┤├─────────┤└───┘»\n",
       "q_2: ┤ H ├┤ H ├┤ P(2.0*x[2]) ├┤ H ├┤ Rx(π/2) ├─────»\n",
       "     └───┘└───┘└─────────────┘└───┘└─────────┘     »\n",
       "«                                             ┌───┐    ┌───┐»\n",
       "«q_0: ──────────────────────────────────■─────┤ H ├────┤ H ├»\n",
       "«     ┌──────────────────────────────┐┌─┴─┐┌──┴───┴───┐└───┘»\n",
       "«q_1: ┤ P(2.0*(π - x[0])*(π - x[1])) ├┤ X ├┤ Rx(-π/2) ├──■──»\n",
       "«     └──────────────────────────────┘└───┘└──────────┘┌─┴─┐»\n",
       "«q_2: ─────────────────────────────────────────────────┤ X ├»\n",
       "«                                                      └───┘»\n",
       "«             ┌─────────────┐         ┌───┐                                »\n",
       "«q_0: ────────┤ P(2.0*x[0]) ├─────────┤ H ├────────────────────────────────»\n",
       "«             └─────────────┘         └───┘   ┌───┐    ┌───┐┌─────────────┐»\n",
       "«q_1: ──────────────────────────────────■─────┤ H ├────┤ H ├┤ P(2.0*x[1]) ├»\n",
       "«     ┌──────────────────────────────┐┌─┴─┐┌──┴───┴───┐├───┤└────┬───┬────┘»\n",
       "«q_2: ┤ P(2.0*(π - x[1])*(π - x[2])) ├┤ X ├┤ Rx(-π/2) ├┤ H ├─────┤ H ├─────»\n",
       "«     └──────────────────────────────┘└───┘└──────────┘└───┘     └───┘     »\n",
       "«                                                                          »\n",
       "«q_0: ───────────────────────────────■─────────────────────────────────────»\n",
       "«          ┌───┐     ┌─────────┐   ┌─┴─┐   ┌──────────────────────────────┐»\n",
       "«q_1: ─────┤ H ├─────┤ Rx(π/2) ├───┤ X ├───┤ P(2.0*(π - x[0])*(π - x[1])) ├»\n",
       "«     ┌────┴───┴────┐└──┬───┬──┘┌──┴───┴──┐└──────────────────────────────┘»\n",
       "«q_2: ┤ P(2.0*x[2]) ├───┤ H ├───┤ Rx(π/2) ├────────────────────────────────»\n",
       "«     └─────────────┘   └───┘   └─────────┘                                »\n",
       "«                                                                            \n",
       "«q_0: ──■────────────────────────────────────────────────────────────────────\n",
       "«     ┌─┴─┐┌──────────┐                                                      \n",
       "«q_1: ┤ X ├┤ Rx(-π/2) ├──■────────────────────────────────────■──────────────\n",
       "«     └───┘└──────────┘┌─┴─┐┌──────────────────────────────┐┌─┴─┐┌──────────┐\n",
       "«q_2: ─────────────────┤ X ├┤ P(2.0*(π - x[1])*(π - x[2])) ├┤ X ├┤ Rx(-π/2) ├\n",
       "«                      └───┘└──────────────────────────────┘└───┘└──────────┘"
      ]
     },
     "execution_count": 25,
     "metadata": {},
     "output_type": "execute_result"
    }
   ],
   "source": [
    "feature_map = PauliFeatureMap(3, paulis=[\"X\", \"YZ\"], entanglement='linear')\n",
    "# feature_map.decompose().draw('mpl', fold=-1)\n",
    "feature_map.decompose().draw(output='text')\n"
   ]
  }
 ],
 "metadata": {
  "kernelspec": {
   "display_name": "qfm-env",
   "language": "python",
   "name": "python3"
  },
  "language_info": {
   "codemirror_mode": {
    "name": "ipython",
    "version": 3
   },
   "file_extension": ".py",
   "mimetype": "text/x-python",
   "name": "python",
   "nbconvert_exporter": "python",
   "pygments_lexer": "ipython3",
   "version": "3.10.18"
  }
 },
 "nbformat": 4,
 "nbformat_minor": 5
}
