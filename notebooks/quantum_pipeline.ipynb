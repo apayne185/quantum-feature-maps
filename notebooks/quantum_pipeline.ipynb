{
 "cells": [
  {
   "cell_type": "markdown",
   "id": "51e1e8de",
   "metadata": {},
   "source": [
    "# Quantum Pipeline"
   ]
  },
  {
   "cell_type": "markdown",
   "id": "61336020",
   "metadata": {},
   "source": [
    "Define small feature map (angle encoding, ZZFeatureMap).\n",
    "\n",
    "Define variational ansatz (1–3 layers).\n",
    "\n",
    "Measure expectation values → feature vector.\n",
    "\n",
    "Train classical classifier on these features."
   ]
  },
  {
   "cell_type": "code",
   "execution_count": 25,
   "id": "65ef10a1",
   "metadata": {},
   "outputs": [],
   "source": [
    "import pennylane as qml\n",
    "import pennylane.numpy as np\n",
    "import pennylane_lightning\n",
    "from pennylane.optimize import NesterovMomentumOptimizer\n",
    "\n",
    "import matplotlib.pyplot as plt\n",
    "from sklearn.linear_model import LogisticRegression\n",
    "from sklearn.svm import SVC\n",
    "from sklearn.metrics import classification_report, accuracy_score, confusion_matrix, roc_curve, auc\n",
    "# from joblib import Parallel, delayed\n",
    "import joblib\n",
    "from multiprocessing import Pool\n",
    "import itertools\n",
    "import time\n",
    "import pandas as pd\n",
    "# import numpy as np\n",
    "import os\n",
    "from dotenv import load_dotenv\n",
    "\n",
    "# from qiskit_ibm_runtime import QiskitRuntimeService\n",
    "from qiskit import IBMQ\n",
    "from qiskit.providers.ibmq import least_busy"
   ]
  },
  {
   "cell_type": "code",
   "execution_count": 26,
   "id": "2721333a",
   "metadata": {},
   "outputs": [
    {
     "name": "stdout",
     "output_type": "stream",
     "text": [
      "PCA reduced shape xtrain:   (12665, 4)\n",
      "PCA reduced shape xtest:   (2115, 4)\n",
      "ytrain labels:  (12665,)\n",
      "ytest labels:  (2115,)\n"
     ]
    }
   ],
   "source": [
    "data = np.load(\"data/mnist01_pca4.npz\")    #from dataprep notebook\n",
    "\n",
    "X_train, y_train = data[\"X_train\"], data[\"y_train\"]  \n",
    "X_test, y_test = data[\"X_test\"], data[\"y_test\"]\n",
    "\n",
    "#scaling x to fit within [0, π] so the feature map can use meaninful angles instead of angles between [-10,10]\n",
    "X_max = np.max(np.abs(X_train))\n",
    "X_train = (np.pi * X_train) / X_max\n",
    "X_test  = (np.pi * X_test) / X_max\n",
    "\n",
    "\n",
    "# x = features/ dimensions --> 4\n",
    "# y = labels\n",
    "n_qubits=4\n",
    "\n",
    "#backened \n",
    "# dev= qml.device(\"default.qubit\", wires=n_qubits)\n",
    "dev = qml.device(\"lightning.qubit\", wires=n_qubits)    #faster simulator, uses compiled c++ \n",
    "\n",
    "\n",
    "print(\"PCA reduced shape xtrain:  \", X_train.shape)\n",
    "print(\"PCA reduced shape xtest:  \", X_test.shape)\n",
    "print(\"ytrain labels: \", y_train.shape)\n",
    "print(\"ytest labels: \",y_test.shape)\n"
   ]
  },
  {
   "cell_type": "markdown",
   "id": "69719847",
   "metadata": {},
   "source": [
    "## Quantum Feature Map"
   ]
  },
  {
   "cell_type": "markdown",
   "id": "453bc950",
   "metadata": {},
   "source": [
    "Classical data is transformed into quantum states. For the main pipeline, I will be using PennyLane as it is easier to build custom circuits and I can compare feature maps in a single framework. Pennylane also supports Qiskit backeneds for a future plugin to run on IBM devices. \n",
    "\n",
    "\n",
    "<br>\n",
    "\n",
    "This is a quantum map $\\phi(\\mathbf{x})$ from classical feature vector $\\mathbf{x}$ to quantum state $|\\Phi(\\mathbf{x})\\rangle\\langle\\Phi(\\mathbf{x})|$ in the Hilbert space, achieved through applying the parameterized unitary operator $\\mathcal{U}_{\\Phi(\\mathbf{x})}$ to the initial state $|0\\rangle^{n}$, n being the num of qubits for encoding. This is done so quantum algorithms can use the data. \n",
    "\n",
    "Unitary operations are a building block of Qcircuits, where a matrix U is unitary if $$U^\\dagger U = U U^\\dagger = I$$ \n",
    "\n",
    "Some examples are the Pauli X Gate or Hadamard Gate, or in this case, the Rotation Gate $R_y(\\theta)$. \n",
    "$$\n",
    "R_y(\\theta) = \\begin{bmatrix}\\cos(\\theta/2) & -\\sin(\\theta/2) \\\\ \\sin(\\theta/2) & \\cos(\\theta/2)\\end{bmatrix}, \\quad\n",
    "R_y^\\dagger(\\theta) = R_y(-\\theta), \\quad\n",
    "R_y(\\theta) R_y^\\dagger(\\theta) = I\n",
    "$$\n"
   ]
  },
  {
   "cell_type": "markdown",
   "id": "5f057b89",
   "metadata": {},
   "source": [
    "### ZZ Map Manual - PennyLane"
   ]
  },
  {
   "cell_type": "markdown",
   "id": "bc44cef2",
   "metadata": {},
   "source": [
    "For a ZZ Feature Map, PennyLane does not already have a built in function so we have to do it manually using Hadamard gates, along wiht RZ and ZZ rotations for each qubit pair. This just makes it simpler to integrate over the course of this project. The Qiskit version of this gate is shown in my quantum testing ground. \n",
    "\n",
    "Also, out of all encoding methods I could've picked, Angle Encoding seemed to be the most simple and effective when working with circuits (perfect when I am working on a simple project).\n",
    "\n",
    "The ZZ feature map is a version of the Pauli feature map, which includes entangling gates (ZZ interactions thorugh controlled-phase gates), done after initial data encoding rotations. This is done to allow feature map to capture any potential correlations between features and then maps the data to a more complex hilbert space. \n",
    "\n",
    "There are layers of Hadamard gates, single qubit phase rotations, and 2 qubit controlled phase rotations. \n",
    "\n",
    "<br>\n",
    "\n",
    "Hadamard Gates\n",
    "\n",
    "Creates equal superposition of either state within a qubit\n",
    "\n",
    "$$\n",
    "H = \\tfrac{1}{\\sqrt{2}}\n",
    "\\begin{pmatrix}\n",
    "1 & 1 \\\\[6pt]\n",
    "1 & -1\n",
    "\\end{pmatrix}\n",
    "$$\n",
    "\n",
    "RZ Gates \n",
    "\n",
    "Single qubit phase rotation around Z axis, diagonal gate\n",
    "\n",
    "$$\n",
    "R_Z(\\phi) \n",
    "= \\exp\\!\\left(-i \\tfrac{\\phi}{2} Z\\right) \n",
    "= \n",
    "\\begin{pmatrix}\n",
    "e^{-i\\phi/2} & 0 \\\\[6pt]\n",
    "0 & e^{\\,i\\phi/2}\n",
    "\\end{pmatrix}\n",
    "$$\n",
    "\n",
    "\n",
    "CNOT Gates\n",
    "\n",
    "Flips target qubit if control qubit is 1.  --> encodes pairwise correlations\n",
    "\n",
    "$$\n",
    "\\text{CNOT} = CX =\n",
    "\\begin{pmatrix}\n",
    "1 & 0 & 0 & 0 \\\\[6pt]\n",
    "0 & 1 & 0 & 0 \\\\[6pt]\n",
    "0 & 0 & 0 & 1 \\\\[6pt]\n",
    "0 & 0 & 1 & 0\n",
    "\\end{pmatrix}\n",
    "$$\n",
    "\n",
    "<br>\n",
    "\n",
    "ZZ Feature Map\n",
    "\n",
    "Encodes the pairwise correlations between features (by constructing a unitary transformation)\n",
    "\n",
    "$$\n",
    "U_{\\mathrm{ZZ}}(x) = \\exp\\left( i \\sum_i x_i Z_i + i \\sum_{i<j} x_i x_j Z_i Z_j \\right)\n",
    "$$\n"
   ]
  },
  {
   "cell_type": "code",
   "execution_count": 27,
   "id": "f55f0fbb",
   "metadata": {},
   "outputs": [
    {
     "name": "stdout",
     "output_type": "stream",
     "text": [
      "Example feature vector:  [-0.7779276  -0.57059664 -0.12868546 -0.11485348]\n"
     ]
    }
   ],
   "source": [
    "sample_vec = X_train[0]      #1st of 12665\n",
    "print(\"Example feature vector: \", sample_vec)  \n"
   ]
  },
  {
   "cell_type": "code",
   "execution_count": 28,
   "id": "4bfcbfd4",
   "metadata": {},
   "outputs": [
    {
     "name": "stdout",
     "output_type": "stream",
     "text": [
      "ZZFeatureMap state vector: \n",
      " [ 0.12222394+0.21808555j  0.16314236+0.18943223j  0.1394597 +0.20748733j\n",
      "  0.18799265+0.16479916j  0.14472847+0.20384717j  0.18236686+0.17100389j\n",
      "  0.2092889 +0.1367412j   0.2373507 +0.07851525j  0.23104784+0.09548243j\n",
      "  0.24541871+0.04764094j  0.23801256+0.07648543j  0.24966647+0.01290938j\n",
      "  0.02012213-0.24918888j -0.02982166-0.24821496j -0.07246733-0.23926656j\n",
      " -0.13138659-0.21269124j] \n",
      "\n",
      "0: ──H──RZ(-1.56)─╭●───────────╭●─────────────────────────────────┤ ╭State\n",
      "1: ──H──RZ(-1.14)─╰X──RZ(0.89)─╰X─╭●───────────╭●─────────────────┤ ├State\n",
      "2: ──H──RZ(-0.26)─────────────────╰X──RZ(0.15)─╰X─╭●───────────╭●─┤ ├State\n",
      "3: ──H──RZ(-0.23)─────────────────────────────────╰X──RZ(0.03)─╰X─┤ ╰State\n"
     ]
    }
   ],
   "source": [
    "def zz_feature_map(x, wires, reps=1):      #(classical data vector, qubits in use, number of layers/repititions)\n",
    "    n_qubits = len(wires)\n",
    "\n",
    "    for _ in range(reps):\n",
    "        for i in wires: \n",
    "            qml.Hadamard(wires=i)            #hadamard gates, uniform superposition of states --> gives room for inference in future entanglement \n",
    "\n",
    "        for i, wire in enumerate(wires):     #single qubit phase rotations (encodes classical data to qubit phases)\n",
    "            qml.RZ(2*x[i], wires=wire)       #RZ rotation, angle = 2x[i] \n",
    "\n",
    "        for i in range(n_qubits-1):                    #ZZ entangling layer for pairs of neighboring qubits/wires\n",
    "            qml.CNOT(wires=[wires[i], wires[i+1]])\n",
    "            qml.RZ(2*x[i]*x[i+1], wires=wires[i+1])    #performs rotation around Z axis by given amount (angle = 2x[i] * x[i+1]) ENCODES PAIRWISE CORRELATIONS BETWEEN FEATURES x[i] and x[i+1]\n",
    "            qml.CNOT(wires=[wires[i], wires[i+1]])     #uncomputes entanglement (so final effect is ZZ interaction)\n",
    "\n",
    "\n",
    "# he\n",
    "@qml.qnode(dev)\n",
    "def qnode_measure(x):\n",
    "    zz_feature_map(x, wires=range(4), reps=1)\n",
    "    return qml.state()\n",
    "\n",
    "\n",
    "print(f\"ZZFeatureMap state vector: \\n {qnode_measure(sample_vec)} \\n\") \n",
    "print(qml.draw(qnode_measure, level='device')(sample_vec))    \n"
   ]
  },
  {
   "cell_type": "markdown",
   "id": "43f079eb",
   "metadata": {},
   "source": [
    "In this circuit, you can see how each qubit has a Hadamard gate applied (without this, qubits starting in |0⟩ and RZ would only add a global phase - unobservable, as RZ works with relative phase differences between |0⟩ and |1⟩). \n",
    "\n",
    "Then, a phase rotation of (x) amount around the Z axis to encode the classical features x[i] as a Z axis phase shift of angle 2x[i].  \n",
    "\n",
    "Finally, we have the entanglement layers that work through each adjacent pair of qubits to perform phase shifts. Applies controlled phase depending on both qubits and encodes pairwaise correlations into the state. \n",
    "\n",
    "**Creates a nonlienar feature map in Hilbert space.**"
   ]
  },
  {
   "cell_type": "markdown",
   "id": "50eea5ca",
   "metadata": {},
   "source": [
    "A CNOT sandwich, which is seen within the multiqubit entanglement layer above, allows for conditional application of a targets rotation, depending on the control qubit. So, in the end, we are maintaining the computational values of the qubit but keeping the phase entanglement of the qubits (it would look the same on the 0,1 level but now hidden quantum phase correlations encode the data)"
   ]
  },
  {
   "cell_type": "markdown",
   "id": "63dcffd5",
   "metadata": {},
   "source": [
    "## Variational Ansatz "
   ]
  },
  {
   "cell_type": "markdown",
   "id": "89acfe3b",
   "metadata": {},
   "source": [
    "Ansatz: basic architecture of circuit, set of gates that act on specific subsystems with a few assumptions about the appropriate training circuit. Can be generic/problem neutral (hardware ansatz) or can be problem specific. \n",
    "\n",
    "Quantum Ansatz: Parameterized Quantum Circuit (PQC) that represents a family of possible quantum stats that are controlled by tunable paramters (normally angles)\n",
    "\n",
    "$$\n",
    "|\\psi(\\theta)\\rangle = U(\\theta) |0\\rangle\n",
    "$$\n",
    "\n",
    "ansatz circuit: $$U(\\theta)$$ parameters: $$\\theta = [\\theta_1, \\theta_2, \\ldots]$$ \n",
    "\n",
    "\n",
    "Method used to approimate ground state (lowest energy eingenstate) of quantum system by selecting a trial wavefunction with adjustable parameters. The expectation value of the energy will always be >= to the true ground state energy, so if we optimize the trial wavefunction, we can minimize the expectation value. Built from rotation gates (paramterized by angles) and entangling gates --> these form a layer, we can form many and stakc them to increase expresssiveness. "
   ]
  },
  {
   "cell_type": "markdown",
   "id": "24ca337b",
   "metadata": {},
   "source": [
    "**Analogy to CC**\n",
    "\n",
    "Similar to how a NN layer has weights = rotational angles in the quantum gates. \n",
    "- training adjusts the angles to minimize some error/loss \n",
    "- patterns to how the gates connect = circuits architecture \n",
    "\n",
    "Also similar to deeper NN layers, we can stack them to increase expressiveness\n"
   ]
  },
  {
   "cell_type": "code",
   "execution_count": 29,
   "id": "ebdf6a89",
   "metadata": {},
   "outputs": [
    {
     "name": "stdout",
     "output_type": "stream",
     "text": [
      "0: ──Rot(-1.01,1.08,0.93)─╭●──Rot(1.32,-0.75,1.99)───────────────────────╭●──────────────────── ···\n",
      "1: ──Rot(-1.76,0.41,0.28)─╰X─╭●─────────────────────Rot(0.93,1.52,-0.33)─╰X──────────────────── ···\n",
      "2: ──Rot(-1.36,0.06,0.93)────╰X────────────────────╭●─────────────────────Rot(1.14,-2.40,-1.00) ···\n",
      "3: ──Rot(-1.32,1.13,0.42)──────────────────────────╰X─────────────────────Rot(1.86,0.56,-0.11)─ ···\n",
      "\n",
      "0: ··· ───────┤  State\n",
      "1: ··· ─╭●────┤  State\n",
      "2: ··· ─╰X─╭●─┤  State\n",
      "3: ··· ────╰X─┤  State\n"
     ]
    }
   ],
   "source": [
    "def var_ansatz(params): #params = layers, n_qubits, 3 \n",
    "    for l in range(params.shape[0]):     #loops through all layers\n",
    "        for i in range(n_qubits):     #single qubit rotations \n",
    "            qml.Rot(params[l,i,0], params[l,i,1], params[l,i,2], wires=i)     # paramertized rotations\n",
    "        \n",
    "        for i in range(n_qubits-1):     #entanglers for non linear relationships \n",
    "            qml.CNOT(wires=[i, i+1])     #[i:control, i+1:target]\n",
    "\n",
    "\n",
    "#intial params tensors - random, will be trained in ansatz \n",
    "params = np.random.randn(2, n_qubits, 3)     # 2 layers, n_qubits =4, 3 euler angles for each rotation axis \n",
    "\n",
    "@qml.qnode(dev)\n",
    "def ansatz_preview(params):\n",
    "    var_ansatz(params)\n",
    "    return qml.state()\n",
    "\n",
    "print(qml.draw(ansatz_preview)(params))\n",
    "\n"
   ]
  },
  {
   "cell_type": "markdown",
   "id": "688ac0f0",
   "metadata": {},
   "source": [
    "This shows rotation gates on each qubit [0..3], with 3 values inside the parenthesis to represent the 3 euler angles used for the rotation (qml.Rot(θ, φ, λ)). The entanglers (CNOT gates) are the vertical lines and dot connecting the qubits. For instance, the dot on qubit 0 indicates that it is the control and the target is qubit 1. There are 6 CNOT gates (3 per layer), with rotations done on each qubit before applying CNOT gates. "
   ]
  },
  {
   "cell_type": "markdown",
   "id": "6e1ee7a7",
   "metadata": {},
   "source": [
    "## Measure Expectation Value"
   ]
  },
  {
   "cell_type": "code",
   "execution_count": 30,
   "id": "18600339",
   "metadata": {},
   "outputs": [],
   "source": [
    "@qml.qnode(dev, diff_method=\"parameter-shift\")      #alllows for batches \n",
    "def qnode_measure(x, params):\n",
    "    # x_batch = np.atleast_2d(x_batch)   #ensures shape [batch,featues]       \n",
    "    zz_feature_map(x, wires=range(4), reps=1)              #encodes data\n",
    "    var_ansatz(params)       #transforms encoded state w var ansatz\n",
    "    #returns expectation values  - explicitly \n",
    "    return (\n",
    "        qml.expval(qml.PauliZ(0)),\n",
    "        qml.expval(qml.PauliZ(1)),\n",
    "        qml.expval(qml.PauliZ(2)),\n",
    "        qml.expval(qml.PauliZ(3)),\n",
    "    )\n",
    "\n",
    "\n",
    "\n",
    "\n",
    "def get_quantum_features(X, params):\n",
    "    feats = []\n",
    "    for x in X:\n",
    "        feats.append(qnode_measure(x,params))\n",
    "    # np.array([qnode_measure(x,params) for x in X])\n",
    "    return feats           #shape [N,n_qubits]"
   ]
  },
  {
   "cell_type": "code",
   "execution_count": 31,
   "id": "62d49472",
   "metadata": {},
   "outputs": [
    {
     "name": "stdout",
     "output_type": "stream",
     "text": [
      "0: ──H──RZ(-1.56)─╭●───────────╭●──Rot(-1.01,1.08,0.93)─────────────────────────────────── ···\n",
      "1: ──H──RZ(-1.14)─╰X──RZ(0.89)─╰X─╭●──────────────────────────────╭●──Rot(-1.76,0.41,0.28) ···\n",
      "2: ──H──RZ(-0.26)─────────────────╰X─────────────────────RZ(0.15)─╰X─╭●─────────────────── ···\n",
      "3: ──H──RZ(-0.23)────────────────────────────────────────────────────╰X─────────────────── ···\n",
      "\n",
      "0: ··· ─╭●─────────Rot(1.32,-0.75,1.99)─────────────────────────────────────────────── ···\n",
      "1: ··· ─╰X────────────────────────────────────────────────────╭●──Rot(0.93,1.52,-0.33) ···\n",
      "2: ··· ───────────╭●─────────────────────Rot(-1.36,0.06,0.93)─╰X─╭●─────────────────── ···\n",
      "3: ··· ──RZ(0.03)─╰X─────────────────────Rot(-1.32,1.13,0.42)────╰X─────────────────── ···\n",
      "\n",
      "0: ··· ─╭●───────────────────────────┤  <Z>\n",
      "1: ··· ─╰X─────────────────────╭●────┤  <Z>\n",
      "2: ··· ──Rot(1.14,-2.40,-1.00)─╰X─╭●─┤  <Z>\n",
      "3: ··· ──Rot(1.86,0.56,-0.11)─────╰X─┤  <Z>\n"
     ]
    }
   ],
   "source": [
    "print(qml.draw(qnode_measure)(sample_vec, params))      #now displays zzfeature map  and var ansatz"
   ]
  },
  {
   "cell_type": "markdown",
   "id": "ad43ea70",
   "metadata": {},
   "source": [
    "Here you can see the original ZZ featuremap applied to the qubits: each one has a Hadamard gate for placing them into superpositions, then an RZ gate to rotate the qubits around the Z axis by an angle proportionate to its xi value (encodes the data into it's phase), then uses CNOT entanglers and RZ gates to connect qubits. \n",
    "\n",
    "The second layer is the Variational Ansatz, where the rotation gates (with the 3 angles) allow for any single-qubit rotation in the bloch sphere, which makes it possible for the ansatz to explore all possible states. \n",
    "\n",
    "The final measurement for each qubit is <Z>, which is the measured expectation value of PauliZ operator on each qubit. They then become a classical feature vector we input into the classic models. "
   ]
  },
  {
   "cell_type": "code",
   "execution_count": 32,
   "id": "fce5531e",
   "metadata": {},
   "outputs": [
    {
     "name": "stdout",
     "output_type": "stream",
     "text": [
      "[[-0.05542311  0.12282749 -0.02558066  0.12903126]\n",
      " [-0.39109101 -0.01037823  0.48454387 -0.09493888]\n",
      " [-0.89849611  0.00186577 -0.68129075 -0.15707027]\n",
      " [-0.87754521 -0.0553903  -0.76081941 -0.16350736]\n",
      " [-0.89168076 -0.09641067 -0.75790464 -0.18599131]\n",
      " [-0.00249898  0.24554125  0.08487245  0.20121097]\n",
      " [-0.42904186 -0.02578298  0.48999132 -0.11517594]\n",
      " [-0.52342689 -0.3980743  -0.15548779 -0.38940268]\n",
      " [-0.28369506  0.34736765  0.26455546 -0.06946016]\n",
      " [-0.08242832  0.44692402 -0.04262702 -0.05498873]]\n"
     ]
    }
   ],
   "source": [
    "outputs = np.array([qnode_measure(x, params) for x in X_train[:10]])\n",
    "print(outputs)"
   ]
  },
  {
   "cell_type": "markdown",
   "id": "6b82b367",
   "metadata": {},
   "source": [
    "### Training Params\n",
    "\n"
   ]
  },
  {
   "cell_type": "markdown",
   "id": "acfa5681",
   "metadata": {},
   "source": [
    "This trains the parameters using the variational ansatz and uses a gradient descent optimizer to help train/optimize the params over 20 epochs (using a MSE loss function). \n",
    "\n",
    "This block of code runs for several hours, so I have it save the results to the folder /notebooks/params. The bottom of the code (training loop) will be commented out so it will not run each time. "
   ]
  },
  {
   "cell_type": "markdown",
   "id": "ee71c255",
   "metadata": {},
   "source": [
    "We use Mean Squared Error (MSE) cost function, which allows us to see if the parameters are a better (closer) fit than randomly assigned parameters. "
   ]
  },
  {
   "cell_type": "code",
   "execution_count": null,
   "id": "0da93d10",
   "metadata": {},
   "outputs": [
    {
     "name": "stdout",
     "output_type": "stream",
     "text": [
      "Epoch: 0, Cost: 1.3029188950097748\n",
      "Epoch: 1, Cost: 1.1217365216933508\n",
      "Epoch: 2, Cost: 0.9327088351282316\n",
      "Epoch: 3, Cost: 0.7537531049972223\n",
      "Epoch: 4, Cost: 0.5999955547981578\n",
      "Epoch: 5, Cost: 0.47824424547546496\n",
      "Epoch: 6, Cost: 0.3871421743317791\n",
      "Epoch: 7, Cost: 0.32103373939994617\n",
      "Epoch: 8, Cost: 0.273544381386139\n",
      "Epoch: 9, Cost: 0.2393129899201396\n",
      "Epoch: 10, Cost: 0.2143632567901394\n",
      "Epoch: 11, Cost: 0.19590794074698348\n",
      "Epoch: 12, Cost: 0.1820350513458083\n",
      "Epoch: 13, Cost: 0.17143713985809483\n",
      "Epoch: 14, Cost: 0.16321427656139384\n",
      "Epoch: 15, Cost: 0.15673989768775234\n",
      "Epoch: 16, Cost: 0.15157176238735764\n",
      "Epoch: 17, Cost: 0.14739320114617666\n",
      "Epoch: 18, Cost: 0.14397419187378846\n",
      "Epoch: 19, Cost: 0.1411453308057926\n",
      "0: ──Rot(-0.55,0.59,0.85)──╭●──Rot(1.24,-1.37,1.99)───────────────────────╭●──────────────────── ···\n",
      "1: ──Rot(-2.45,0.30,-0.48)─╰X─╭●─────────────────────Rot(0.93,1.52,-0.33)─╰X──────────────────── ···\n",
      "2: ──Rot(-1.36,0.06,0.93)─────╰X────────────────────╭●─────────────────────Rot(1.14,-2.40,-1.00) ···\n",
      "3: ──Rot(-1.32,1.13,0.42)───────────────────────────╰X─────────────────────Rot(1.86,0.56,-0.11)─ ···\n",
      "\n",
      "0: ··· ───────┤  State\n",
      "1: ··· ─╭●────┤  State\n",
      "2: ··· ─╰X─╭●─┤  State\n",
      "3: ··· ────╰X─┤  State\n"
     ]
    }
   ],
   "source": [
    "opt = qml.GradientDescentOptimizer(stepsize=0.1)    #tweaks params to minimize cost function\n",
    "subset = 500  \n",
    "\n",
    "for i in range(2,5):   # 2-4 qubit circuits \n",
    "    print(f\"\\nTraining {i} qubit circuit\")\n",
    "\n",
    "    dev = qml.device(\"default.qubit\", wires=i, shots=None)\n",
    "    @qml.qnode(dev)\n",
    "    def qnode_measure(x, params):\n",
    "        zz_feature_map(x, wires=range(i), reps=depth)\n",
    "        var_ansatz(params)  # your variational ansatz should match i qubits\n",
    "        return [qml.expval(qml.PauliZ(j)) for j in range(i)]\n",
    "\n",
    "    params = np.random.randn(depth, i, 3)\n",
    "\n",
    "    # defining a cost function - MSE \n",
    "    def cost(params, X, y):         #params (layers, nqubits, 3 euler angles), x=classical data [N, nfeatures], y=labels (0 or 1)\n",
    "        preds = np.array([qnode_measure(x, params) for x in X])   #for each x, runs zzmap, var ansatz, returns expect value of Z for qubit - [N, nfeatures]\n",
    "        #loss function\n",
    "        return np.mean((preds[:,0] - y)**2)  # MSE betwen predicted quantum expect values and classic labels y\n",
    "\n",
    "\n",
    "\n",
    "\n",
    "\n",
    "    #training loop\n",
    "    for epoch in range(20):        #optimizes over 50 iterations \n",
    "        idx = np.random.permutation(len(X_train))     #ensures we train on different subsets each time\n",
    "        X_shuffled, y_shuffled = X_train[idx], y_train[idx]\n",
    "\n",
    "        params = opt.step(lambda p: cost(p, X_shuffled[:subset], y_shuffled[:subset]), params)   #we try to reduce cost while updating params each step \n",
    "        cost_val = cost(params, X_train[:subset], y_train[:subset])\n",
    "\n",
    "        print(f\"Epoch: {epoch}, Cost: {cost_val}\")\n",
    "\n",
    "\n",
    "    np.save(f\"params/trained_params_{i}.npy\", params)    #saves trained numpy array of params to params folder\n",
    "    print(qml.draw(ansatz_preview)(params))   #recheck \n"
   ]
  },
  {
   "cell_type": "markdown",
   "id": "bc54c465",
   "metadata": {},
   "source": [
    "## Training Model (Classical Classifiers)"
   ]
  },
  {
   "cell_type": "markdown",
   "id": "83a9423d",
   "metadata": {},
   "source": [
    "### Logistic Regression"
   ]
  },
  {
   "cell_type": "code",
   "execution_count": null,
   "id": "fc8e934a",
   "metadata": {},
   "outputs": [
    {
     "name": "stdout",
     "output_type": "stream",
     "text": [
      "Quantum-feature accuracy: 0.9300236406619385\n",
      "\n",
      "\n",
      "Confusion Matrix: \n",
      " [[ 889   91]\n",
      " [  57 1078]]\n",
      "\n",
      "Classification Report:\n",
      "               precision    recall  f1-score   support\n",
      "\n",
      "           0       0.94      0.91      0.92       980\n",
      "           1       0.92      0.95      0.94      1135\n",
      "\n",
      "    accuracy                           0.93      2115\n",
      "   macro avg       0.93      0.93      0.93      2115\n",
      "weighted avg       0.93      0.93      0.93      2115\n",
      "\n"
     ]
    }
   ],
   "source": [
    "params = np.load(\"params/trained_params_2.npy\")\n",
    "#expectation values are treated like classical features \n",
    "Xq_train = get_quantum_features(X_train, params)     \n",
    "Xq_test = get_quantum_features(X_test, params)\n",
    "\n",
    "q_lg_clf = LogisticRegression().fit(Xq_train, y_train)\n",
    "q_lg_y_pred = q_lg_clf.predict(Xq_test)  \n",
    "\n",
    "print(\"Quantum-feature accuracy:\", q_lg_clf.score(Xq_test, y_test))\n",
    "print(\"\\n\\nConfusion Matrix: \\n\", confusion_matrix(y_test, q_lg_y_pred))    \n",
    "print(\"\\nClassification Report:\\n\", classification_report(y_test, q_lg_y_pred))"
   ]
  },
  {
   "cell_type": "markdown",
   "id": "bd5ecdd4",
   "metadata": {},
   "source": []
  },
  {
   "cell_type": "markdown",
   "id": "817a410e",
   "metadata": {},
   "source": [
    "### SVM"
   ]
  },
  {
   "cell_type": "code",
   "execution_count": 35,
   "id": "1f033d52",
   "metadata": {},
   "outputs": [
    {
     "name": "stdout",
     "output_type": "stream",
     "text": [
      "Quantum-feature accuracy: 0.9356973995271868\n",
      "\n",
      "\n",
      "Confusion Matrix: \n",
      " [[ 905   75]\n",
      " [  61 1074]]\n",
      "\n",
      "Classification Report:\n",
      "               precision    recall  f1-score   support\n",
      "\n",
      "           0       0.94      0.92      0.93       980\n",
      "           1       0.93      0.95      0.94      1135\n",
      "\n",
      "    accuracy                           0.94      2115\n",
      "   macro avg       0.94      0.93      0.94      2115\n",
      "weighted avg       0.94      0.94      0.94      2115\n",
      "\n"
     ]
    }
   ],
   "source": [
    "q_svm_clf = SVC(kernel='linear', C=1.0, random_state=42)\n",
    "q_svm_clf.fit(Xq_train, y_train)   \n",
    "\n",
    "q_svm_y_pred = q_svm_clf.predict(Xq_test)  \n",
    "\n",
    "print(\"Quantum-feature accuracy:\", q_svm_clf.score(Xq_test, y_test))\n",
    "print(\"\\n\\nConfusion Matrix: \\n\", confusion_matrix(y_test, q_svm_y_pred))    \n",
    "print(\"\\nClassification Report:\\n\", classification_report(y_test, q_svm_y_pred))"
   ]
  },
  {
   "cell_type": "markdown",
   "id": "e83e06bf",
   "metadata": {},
   "source": [
    "### Save Models"
   ]
  },
  {
   "cell_type": "code",
   "execution_count": 36,
   "id": "afc1e5f6",
   "metadata": {},
   "outputs": [
    {
     "data": {
      "text/plain": [
       "['../results/models/quantum_svm.pkl']"
      ]
     },
     "execution_count": 36,
     "metadata": {},
     "output_type": "execute_result"
    }
   ],
   "source": [
    "joblib.dump(q_lg_clf, \"../results/models/quantum_logreg.pkl\")\n",
    "joblib.dump(q_svm_clf, \"../results/models/quantum_svm.pkl\")"
   ]
  },
  {
   "cell_type": "markdown",
   "id": "7cc2494a",
   "metadata": {},
   "source": [
    "## Experiments "
   ]
  },
  {
   "cell_type": "markdown",
   "id": "71a8d4d1",
   "metadata": {},
   "source": [
    "### Load IBM account"
   ]
  },
  {
   "cell_type": "markdown",
   "id": "4c6d9b4e",
   "metadata": {},
   "source": [
    "This section of the code cannot run on IE University wifi, as their network (Cisco Umbrella) blocks all outbound DNS. Since we cannot connect to this on university wifi, we will only run noise as 'False' for error free runs. "
   ]
  },
  {
   "cell_type": "code",
   "execution_count": 37,
   "id": "eb6aea00",
   "metadata": {},
   "outputs": [
    {
     "name": "stdout",
     "output_type": "stream",
     "text": [
      "Using cert file: c:\\Users\\annap\\miniconda3\\envs\\qfm-env\\lib\\site-packages\\certifi\\cacert.pem\n",
      "Error: HTTPSConnectionPool(host='auth.quantum-computing.ibm.com', port=443): Max retries exceeded with url: /api/version (Caused by NameResolutionError(\"<urllib3.connection.HTTPSConnection object at 0x0000017690A3D3F0>: Failed to resolve 'auth.quantum-computing.ibm.com' ([Errno 11001] getaddrinfo failed)\"))\n"
     ]
    }
   ],
   "source": [
    "import requests, certifi\n",
    "\n",
    "print(\"Using cert file:\", certifi.where())\n",
    "\n",
    "try:\n",
    "    r = requests.get(\"https://auth.quantum-computing.ibm.com/api/version\", verify=certifi.where())\n",
    "    print(\"Response:\", r.text)\n",
    "except Exception as e:\n",
    "    print(\"Error:\", e)\n"
   ]
  },
  {
   "cell_type": "code",
   "execution_count": 38,
   "id": "afd56aa6",
   "metadata": {},
   "outputs": [
    {
     "ename": "ConnectionError",
     "evalue": "HTTPSConnectionPool(host='auth.quantum-computing.ibm.com', port=443): Max retries exceeded with url: /api/version (Caused by NameResolutionError(\"<urllib3.connection.HTTPSConnection object at 0x0000017690D70340>: Failed to resolve 'auth.quantum-computing.ibm.com' ([Errno 11001] getaddrinfo failed)\"))",
     "output_type": "error",
     "traceback": [
      "\u001b[1;31m---------------------------------------------------------------------------\u001b[0m",
      "\u001b[1;31mgaierror\u001b[0m                                  Traceback (most recent call last)",
      "File \u001b[1;32mc:\\Users\\annap\\miniconda3\\envs\\qfm-env\\lib\\site-packages\\urllib3\\connection.py:198\u001b[0m, in \u001b[0;36mHTTPConnection._new_conn\u001b[1;34m(self)\u001b[0m\n\u001b[0;32m    197\u001b[0m \u001b[38;5;28;01mtry\u001b[39;00m:\n\u001b[1;32m--> 198\u001b[0m     sock \u001b[38;5;241m=\u001b[39m \u001b[43mconnection\u001b[49m\u001b[38;5;241;43m.\u001b[39;49m\u001b[43mcreate_connection\u001b[49m\u001b[43m(\u001b[49m\n\u001b[0;32m    199\u001b[0m \u001b[43m        \u001b[49m\u001b[43m(\u001b[49m\u001b[38;5;28;43mself\u001b[39;49m\u001b[38;5;241;43m.\u001b[39;49m\u001b[43m_dns_host\u001b[49m\u001b[43m,\u001b[49m\u001b[43m \u001b[49m\u001b[38;5;28;43mself\u001b[39;49m\u001b[38;5;241;43m.\u001b[39;49m\u001b[43mport\u001b[49m\u001b[43m)\u001b[49m\u001b[43m,\u001b[49m\n\u001b[0;32m    200\u001b[0m \u001b[43m        \u001b[49m\u001b[38;5;28;43mself\u001b[39;49m\u001b[38;5;241;43m.\u001b[39;49m\u001b[43mtimeout\u001b[49m\u001b[43m,\u001b[49m\n\u001b[0;32m    201\u001b[0m \u001b[43m        \u001b[49m\u001b[43msource_address\u001b[49m\u001b[38;5;241;43m=\u001b[39;49m\u001b[38;5;28;43mself\u001b[39;49m\u001b[38;5;241;43m.\u001b[39;49m\u001b[43msource_address\u001b[49m\u001b[43m,\u001b[49m\n\u001b[0;32m    202\u001b[0m \u001b[43m        \u001b[49m\u001b[43msocket_options\u001b[49m\u001b[38;5;241;43m=\u001b[39;49m\u001b[38;5;28;43mself\u001b[39;49m\u001b[38;5;241;43m.\u001b[39;49m\u001b[43msocket_options\u001b[49m\u001b[43m,\u001b[49m\n\u001b[0;32m    203\u001b[0m \u001b[43m    \u001b[49m\u001b[43m)\u001b[49m\n\u001b[0;32m    204\u001b[0m \u001b[38;5;28;01mexcept\u001b[39;00m socket\u001b[38;5;241m.\u001b[39mgaierror \u001b[38;5;28;01mas\u001b[39;00m e:\n",
      "File \u001b[1;32mc:\\Users\\annap\\miniconda3\\envs\\qfm-env\\lib\\site-packages\\urllib3\\util\\connection.py:60\u001b[0m, in \u001b[0;36mcreate_connection\u001b[1;34m(address, timeout, source_address, socket_options)\u001b[0m\n\u001b[0;32m     58\u001b[0m     \u001b[38;5;28;01mraise\u001b[39;00m LocationParseError(\u001b[38;5;124mf\u001b[39m\u001b[38;5;124m\"\u001b[39m\u001b[38;5;124m'\u001b[39m\u001b[38;5;132;01m{\u001b[39;00mhost\u001b[38;5;132;01m}\u001b[39;00m\u001b[38;5;124m'\u001b[39m\u001b[38;5;124m, label empty or too long\u001b[39m\u001b[38;5;124m\"\u001b[39m) \u001b[38;5;28;01mfrom\u001b[39;00m\u001b[38;5;250m \u001b[39m\u001b[38;5;28;01mNone\u001b[39;00m\n\u001b[1;32m---> 60\u001b[0m \u001b[38;5;28;01mfor\u001b[39;00m res \u001b[38;5;129;01min\u001b[39;00m \u001b[43msocket\u001b[49m\u001b[38;5;241;43m.\u001b[39;49m\u001b[43mgetaddrinfo\u001b[49m\u001b[43m(\u001b[49m\u001b[43mhost\u001b[49m\u001b[43m,\u001b[49m\u001b[43m \u001b[49m\u001b[43mport\u001b[49m\u001b[43m,\u001b[49m\u001b[43m \u001b[49m\u001b[43mfamily\u001b[49m\u001b[43m,\u001b[49m\u001b[43m \u001b[49m\u001b[43msocket\u001b[49m\u001b[38;5;241;43m.\u001b[39;49m\u001b[43mSOCK_STREAM\u001b[49m\u001b[43m)\u001b[49m:\n\u001b[0;32m     61\u001b[0m     af, socktype, proto, canonname, sa \u001b[38;5;241m=\u001b[39m res\n",
      "File \u001b[1;32mc:\\Users\\annap\\miniconda3\\envs\\qfm-env\\lib\\socket.py:967\u001b[0m, in \u001b[0;36mgetaddrinfo\u001b[1;34m(host, port, family, type, proto, flags)\u001b[0m\n\u001b[0;32m    966\u001b[0m addrlist \u001b[38;5;241m=\u001b[39m []\n\u001b[1;32m--> 967\u001b[0m \u001b[38;5;28;01mfor\u001b[39;00m res \u001b[38;5;129;01min\u001b[39;00m \u001b[43m_socket\u001b[49m\u001b[38;5;241;43m.\u001b[39;49m\u001b[43mgetaddrinfo\u001b[49m\u001b[43m(\u001b[49m\u001b[43mhost\u001b[49m\u001b[43m,\u001b[49m\u001b[43m \u001b[49m\u001b[43mport\u001b[49m\u001b[43m,\u001b[49m\u001b[43m \u001b[49m\u001b[43mfamily\u001b[49m\u001b[43m,\u001b[49m\u001b[43m \u001b[49m\u001b[38;5;28;43mtype\u001b[39;49m\u001b[43m,\u001b[49m\u001b[43m \u001b[49m\u001b[43mproto\u001b[49m\u001b[43m,\u001b[49m\u001b[43m \u001b[49m\u001b[43mflags\u001b[49m\u001b[43m)\u001b[49m:\n\u001b[0;32m    968\u001b[0m     af, socktype, proto, canonname, sa \u001b[38;5;241m=\u001b[39m res\n",
      "\u001b[1;31mgaierror\u001b[0m: [Errno 11001] getaddrinfo failed",
      "\nThe above exception was the direct cause of the following exception:\n",
      "\u001b[1;31mNameResolutionError\u001b[0m                       Traceback (most recent call last)",
      "File \u001b[1;32mc:\\Users\\annap\\miniconda3\\envs\\qfm-env\\lib\\site-packages\\urllib3\\connectionpool.py:787\u001b[0m, in \u001b[0;36mHTTPConnectionPool.urlopen\u001b[1;34m(self, method, url, body, headers, retries, redirect, assert_same_host, timeout, pool_timeout, release_conn, chunked, body_pos, preload_content, decode_content, **response_kw)\u001b[0m\n\u001b[0;32m    786\u001b[0m \u001b[38;5;66;03m# Make the request on the HTTPConnection object\u001b[39;00m\n\u001b[1;32m--> 787\u001b[0m response \u001b[38;5;241m=\u001b[39m \u001b[38;5;28mself\u001b[39m\u001b[38;5;241m.\u001b[39m_make_request(\n\u001b[0;32m    788\u001b[0m     conn,\n\u001b[0;32m    789\u001b[0m     method,\n\u001b[0;32m    790\u001b[0m     url,\n\u001b[0;32m    791\u001b[0m     timeout\u001b[38;5;241m=\u001b[39mtimeout_obj,\n\u001b[0;32m    792\u001b[0m     body\u001b[38;5;241m=\u001b[39mbody,\n\u001b[0;32m    793\u001b[0m     headers\u001b[38;5;241m=\u001b[39mheaders,\n\u001b[0;32m    794\u001b[0m     chunked\u001b[38;5;241m=\u001b[39mchunked,\n\u001b[0;32m    795\u001b[0m     retries\u001b[38;5;241m=\u001b[39mretries,\n\u001b[0;32m    796\u001b[0m     response_conn\u001b[38;5;241m=\u001b[39mresponse_conn,\n\u001b[0;32m    797\u001b[0m     preload_content\u001b[38;5;241m=\u001b[39mpreload_content,\n\u001b[0;32m    798\u001b[0m     decode_content\u001b[38;5;241m=\u001b[39mdecode_content,\n\u001b[0;32m    799\u001b[0m     \u001b[38;5;241m*\u001b[39m\u001b[38;5;241m*\u001b[39mresponse_kw,\n\u001b[0;32m    800\u001b[0m )\n\u001b[0;32m    802\u001b[0m \u001b[38;5;66;03m# Everything went great!\u001b[39;00m\n",
      "File \u001b[1;32mc:\\Users\\annap\\miniconda3\\envs\\qfm-env\\lib\\site-packages\\urllib3\\connectionpool.py:488\u001b[0m, in \u001b[0;36mHTTPConnectionPool._make_request\u001b[1;34m(self, conn, method, url, body, headers, retries, timeout, chunked, response_conn, preload_content, decode_content, enforce_content_length)\u001b[0m\n\u001b[0;32m    487\u001b[0m         new_e \u001b[38;5;241m=\u001b[39m _wrap_proxy_error(new_e, conn\u001b[38;5;241m.\u001b[39mproxy\u001b[38;5;241m.\u001b[39mscheme)\n\u001b[1;32m--> 488\u001b[0m     \u001b[38;5;28;01mraise\u001b[39;00m new_e\n\u001b[0;32m    490\u001b[0m \u001b[38;5;66;03m# conn.request() calls http.client.*.request, not the method in\u001b[39;00m\n\u001b[0;32m    491\u001b[0m \u001b[38;5;66;03m# urllib3.request. It also calls makefile (recv) on the socket.\u001b[39;00m\n",
      "File \u001b[1;32mc:\\Users\\annap\\miniconda3\\envs\\qfm-env\\lib\\site-packages\\urllib3\\connectionpool.py:464\u001b[0m, in \u001b[0;36mHTTPConnectionPool._make_request\u001b[1;34m(self, conn, method, url, body, headers, retries, timeout, chunked, response_conn, preload_content, decode_content, enforce_content_length)\u001b[0m\n\u001b[0;32m    463\u001b[0m \u001b[38;5;28;01mtry\u001b[39;00m:\n\u001b[1;32m--> 464\u001b[0m     \u001b[38;5;28;43mself\u001b[39;49m\u001b[38;5;241;43m.\u001b[39;49m\u001b[43m_validate_conn\u001b[49m\u001b[43m(\u001b[49m\u001b[43mconn\u001b[49m\u001b[43m)\u001b[49m\n\u001b[0;32m    465\u001b[0m \u001b[38;5;28;01mexcept\u001b[39;00m (SocketTimeout, BaseSSLError) \u001b[38;5;28;01mas\u001b[39;00m e:\n",
      "File \u001b[1;32mc:\\Users\\annap\\miniconda3\\envs\\qfm-env\\lib\\site-packages\\urllib3\\connectionpool.py:1093\u001b[0m, in \u001b[0;36mHTTPSConnectionPool._validate_conn\u001b[1;34m(self, conn)\u001b[0m\n\u001b[0;32m   1092\u001b[0m \u001b[38;5;28;01mif\u001b[39;00m conn\u001b[38;5;241m.\u001b[39mis_closed:\n\u001b[1;32m-> 1093\u001b[0m     \u001b[43mconn\u001b[49m\u001b[38;5;241;43m.\u001b[39;49m\u001b[43mconnect\u001b[49m\u001b[43m(\u001b[49m\u001b[43m)\u001b[49m\n\u001b[0;32m   1095\u001b[0m \u001b[38;5;66;03m# TODO revise this, see https://github.com/urllib3/urllib3/issues/2791\u001b[39;00m\n",
      "File \u001b[1;32mc:\\Users\\annap\\miniconda3\\envs\\qfm-env\\lib\\site-packages\\urllib3\\connection.py:753\u001b[0m, in \u001b[0;36mHTTPSConnection.connect\u001b[1;34m(self)\u001b[0m\n\u001b[0;32m    752\u001b[0m sock: socket\u001b[38;5;241m.\u001b[39msocket \u001b[38;5;241m|\u001b[39m ssl\u001b[38;5;241m.\u001b[39mSSLSocket\n\u001b[1;32m--> 753\u001b[0m \u001b[38;5;28mself\u001b[39m\u001b[38;5;241m.\u001b[39msock \u001b[38;5;241m=\u001b[39m sock \u001b[38;5;241m=\u001b[39m \u001b[38;5;28;43mself\u001b[39;49m\u001b[38;5;241;43m.\u001b[39;49m\u001b[43m_new_conn\u001b[49m\u001b[43m(\u001b[49m\u001b[43m)\u001b[49m\n\u001b[0;32m    754\u001b[0m server_hostname: \u001b[38;5;28mstr\u001b[39m \u001b[38;5;241m=\u001b[39m \u001b[38;5;28mself\u001b[39m\u001b[38;5;241m.\u001b[39mhost\n",
      "File \u001b[1;32mc:\\Users\\annap\\miniconda3\\envs\\qfm-env\\lib\\site-packages\\urllib3\\connection.py:205\u001b[0m, in \u001b[0;36mHTTPConnection._new_conn\u001b[1;34m(self)\u001b[0m\n\u001b[0;32m    204\u001b[0m \u001b[38;5;28;01mexcept\u001b[39;00m socket\u001b[38;5;241m.\u001b[39mgaierror \u001b[38;5;28;01mas\u001b[39;00m e:\n\u001b[1;32m--> 205\u001b[0m     \u001b[38;5;28;01mraise\u001b[39;00m NameResolutionError(\u001b[38;5;28mself\u001b[39m\u001b[38;5;241m.\u001b[39mhost, \u001b[38;5;28mself\u001b[39m, e) \u001b[38;5;28;01mfrom\u001b[39;00m\u001b[38;5;250m \u001b[39m\u001b[38;5;21;01me\u001b[39;00m\n\u001b[0;32m    206\u001b[0m \u001b[38;5;28;01mexcept\u001b[39;00m SocketTimeout \u001b[38;5;28;01mas\u001b[39;00m e:\n",
      "\u001b[1;31mNameResolutionError\u001b[0m: <urllib3.connection.HTTPSConnection object at 0x0000017690D70340>: Failed to resolve 'auth.quantum-computing.ibm.com' ([Errno 11001] getaddrinfo failed)",
      "\nThe above exception was the direct cause of the following exception:\n",
      "\u001b[1;31mMaxRetryError\u001b[0m                             Traceback (most recent call last)",
      "File \u001b[1;32mc:\\Users\\annap\\miniconda3\\envs\\qfm-env\\lib\\site-packages\\requests\\adapters.py:644\u001b[0m, in \u001b[0;36mHTTPAdapter.send\u001b[1;34m(self, request, stream, timeout, verify, cert, proxies)\u001b[0m\n\u001b[0;32m    643\u001b[0m \u001b[38;5;28;01mtry\u001b[39;00m:\n\u001b[1;32m--> 644\u001b[0m     resp \u001b[38;5;241m=\u001b[39m \u001b[43mconn\u001b[49m\u001b[38;5;241;43m.\u001b[39;49m\u001b[43murlopen\u001b[49m\u001b[43m(\u001b[49m\n\u001b[0;32m    645\u001b[0m \u001b[43m        \u001b[49m\u001b[43mmethod\u001b[49m\u001b[38;5;241;43m=\u001b[39;49m\u001b[43mrequest\u001b[49m\u001b[38;5;241;43m.\u001b[39;49m\u001b[43mmethod\u001b[49m\u001b[43m,\u001b[49m\n\u001b[0;32m    646\u001b[0m \u001b[43m        \u001b[49m\u001b[43murl\u001b[49m\u001b[38;5;241;43m=\u001b[39;49m\u001b[43murl\u001b[49m\u001b[43m,\u001b[49m\n\u001b[0;32m    647\u001b[0m \u001b[43m        \u001b[49m\u001b[43mbody\u001b[49m\u001b[38;5;241;43m=\u001b[39;49m\u001b[43mrequest\u001b[49m\u001b[38;5;241;43m.\u001b[39;49m\u001b[43mbody\u001b[49m\u001b[43m,\u001b[49m\n\u001b[0;32m    648\u001b[0m \u001b[43m        \u001b[49m\u001b[43mheaders\u001b[49m\u001b[38;5;241;43m=\u001b[39;49m\u001b[43mrequest\u001b[49m\u001b[38;5;241;43m.\u001b[39;49m\u001b[43mheaders\u001b[49m\u001b[43m,\u001b[49m\n\u001b[0;32m    649\u001b[0m \u001b[43m        \u001b[49m\u001b[43mredirect\u001b[49m\u001b[38;5;241;43m=\u001b[39;49m\u001b[38;5;28;43;01mFalse\u001b[39;49;00m\u001b[43m,\u001b[49m\n\u001b[0;32m    650\u001b[0m \u001b[43m        \u001b[49m\u001b[43massert_same_host\u001b[49m\u001b[38;5;241;43m=\u001b[39;49m\u001b[38;5;28;43;01mFalse\u001b[39;49;00m\u001b[43m,\u001b[49m\n\u001b[0;32m    651\u001b[0m \u001b[43m        \u001b[49m\u001b[43mpreload_content\u001b[49m\u001b[38;5;241;43m=\u001b[39;49m\u001b[38;5;28;43;01mFalse\u001b[39;49;00m\u001b[43m,\u001b[49m\n\u001b[0;32m    652\u001b[0m \u001b[43m        \u001b[49m\u001b[43mdecode_content\u001b[49m\u001b[38;5;241;43m=\u001b[39;49m\u001b[38;5;28;43;01mFalse\u001b[39;49;00m\u001b[43m,\u001b[49m\n\u001b[0;32m    653\u001b[0m \u001b[43m        \u001b[49m\u001b[43mretries\u001b[49m\u001b[38;5;241;43m=\u001b[39;49m\u001b[38;5;28;43mself\u001b[39;49m\u001b[38;5;241;43m.\u001b[39;49m\u001b[43mmax_retries\u001b[49m\u001b[43m,\u001b[49m\n\u001b[0;32m    654\u001b[0m \u001b[43m        \u001b[49m\u001b[43mtimeout\u001b[49m\u001b[38;5;241;43m=\u001b[39;49m\u001b[43mtimeout\u001b[49m\u001b[43m,\u001b[49m\n\u001b[0;32m    655\u001b[0m \u001b[43m        \u001b[49m\u001b[43mchunked\u001b[49m\u001b[38;5;241;43m=\u001b[39;49m\u001b[43mchunked\u001b[49m\u001b[43m,\u001b[49m\n\u001b[0;32m    656\u001b[0m \u001b[43m    \u001b[49m\u001b[43m)\u001b[49m\n\u001b[0;32m    658\u001b[0m \u001b[38;5;28;01mexcept\u001b[39;00m (ProtocolError, \u001b[38;5;167;01mOSError\u001b[39;00m) \u001b[38;5;28;01mas\u001b[39;00m err:\n",
      "File \u001b[1;32mc:\\Users\\annap\\miniconda3\\envs\\qfm-env\\lib\\site-packages\\urllib3\\connectionpool.py:841\u001b[0m, in \u001b[0;36mHTTPConnectionPool.urlopen\u001b[1;34m(self, method, url, body, headers, retries, redirect, assert_same_host, timeout, pool_timeout, release_conn, chunked, body_pos, preload_content, decode_content, **response_kw)\u001b[0m\n\u001b[0;32m    839\u001b[0m     new_e \u001b[38;5;241m=\u001b[39m ProtocolError(\u001b[38;5;124m\"\u001b[39m\u001b[38;5;124mConnection aborted.\u001b[39m\u001b[38;5;124m\"\u001b[39m, new_e)\n\u001b[1;32m--> 841\u001b[0m retries \u001b[38;5;241m=\u001b[39m \u001b[43mretries\u001b[49m\u001b[38;5;241;43m.\u001b[39;49m\u001b[43mincrement\u001b[49m\u001b[43m(\u001b[49m\n\u001b[0;32m    842\u001b[0m \u001b[43m    \u001b[49m\u001b[43mmethod\u001b[49m\u001b[43m,\u001b[49m\u001b[43m \u001b[49m\u001b[43murl\u001b[49m\u001b[43m,\u001b[49m\u001b[43m \u001b[49m\u001b[43merror\u001b[49m\u001b[38;5;241;43m=\u001b[39;49m\u001b[43mnew_e\u001b[49m\u001b[43m,\u001b[49m\u001b[43m \u001b[49m\u001b[43m_pool\u001b[49m\u001b[38;5;241;43m=\u001b[39;49m\u001b[38;5;28;43mself\u001b[39;49m\u001b[43m,\u001b[49m\u001b[43m \u001b[49m\u001b[43m_stacktrace\u001b[49m\u001b[38;5;241;43m=\u001b[39;49m\u001b[43msys\u001b[49m\u001b[38;5;241;43m.\u001b[39;49m\u001b[43mexc_info\u001b[49m\u001b[43m(\u001b[49m\u001b[43m)\u001b[49m\u001b[43m[\u001b[49m\u001b[38;5;241;43m2\u001b[39;49m\u001b[43m]\u001b[49m\n\u001b[0;32m    843\u001b[0m \u001b[43m\u001b[49m\u001b[43m)\u001b[49m\n\u001b[0;32m    844\u001b[0m retries\u001b[38;5;241m.\u001b[39msleep()\n",
      "File \u001b[1;32mc:\\Users\\annap\\miniconda3\\envs\\qfm-env\\lib\\site-packages\\urllib3\\util\\retry.py:519\u001b[0m, in \u001b[0;36mRetry.increment\u001b[1;34m(self, method, url, response, error, _pool, _stacktrace)\u001b[0m\n\u001b[0;32m    518\u001b[0m     reason \u001b[38;5;241m=\u001b[39m error \u001b[38;5;129;01mor\u001b[39;00m ResponseError(cause)\n\u001b[1;32m--> 519\u001b[0m     \u001b[38;5;28;01mraise\u001b[39;00m MaxRetryError(_pool, url, reason) \u001b[38;5;28;01mfrom\u001b[39;00m\u001b[38;5;250m \u001b[39m\u001b[38;5;21;01mreason\u001b[39;00m  \u001b[38;5;66;03m# type: ignore[arg-type]\u001b[39;00m\n\u001b[0;32m    521\u001b[0m log\u001b[38;5;241m.\u001b[39mdebug(\u001b[38;5;124m\"\u001b[39m\u001b[38;5;124mIncremented Retry for (url=\u001b[39m\u001b[38;5;124m'\u001b[39m\u001b[38;5;132;01m%s\u001b[39;00m\u001b[38;5;124m'\u001b[39m\u001b[38;5;124m): \u001b[39m\u001b[38;5;132;01m%r\u001b[39;00m\u001b[38;5;124m\"\u001b[39m, url, new_retry)\n",
      "\u001b[1;31mMaxRetryError\u001b[0m: HTTPSConnectionPool(host='auth.quantum-computing.ibm.com', port=443): Max retries exceeded with url: /api/version (Caused by NameResolutionError(\"<urllib3.connection.HTTPSConnection object at 0x0000017690D70340>: Failed to resolve 'auth.quantum-computing.ibm.com' ([Errno 11001] getaddrinfo failed)\"))",
      "\nDuring handling of the above exception, another exception occurred:\n",
      "\u001b[1;31mConnectionError\u001b[0m                           Traceback (most recent call last)",
      "Cell \u001b[1;32mIn[38], line 1\u001b[0m\n\u001b[1;32m----> 1\u001b[0m \u001b[43mrequests\u001b[49m\u001b[38;5;241;43m.\u001b[39;49m\u001b[43mget\u001b[49m\u001b[43m(\u001b[49m\u001b[38;5;124;43m\"\u001b[39;49m\u001b[38;5;124;43mhttps://auth.quantum-computing.ibm.com/api/version\u001b[39;49m\u001b[38;5;124;43m\"\u001b[39;49m\u001b[43m)\u001b[49m\n",
      "File \u001b[1;32mc:\\Users\\annap\\miniconda3\\envs\\qfm-env\\lib\\site-packages\\requests\\api.py:73\u001b[0m, in \u001b[0;36mget\u001b[1;34m(url, params, **kwargs)\u001b[0m\n\u001b[0;32m     62\u001b[0m \u001b[38;5;28;01mdef\u001b[39;00m\u001b[38;5;250m \u001b[39m\u001b[38;5;21mget\u001b[39m(url, params\u001b[38;5;241m=\u001b[39m\u001b[38;5;28;01mNone\u001b[39;00m, \u001b[38;5;241m*\u001b[39m\u001b[38;5;241m*\u001b[39mkwargs):\n\u001b[0;32m     63\u001b[0m \u001b[38;5;250m    \u001b[39m\u001b[38;5;124mr\u001b[39m\u001b[38;5;124;03m\"\"\"Sends a GET request.\u001b[39;00m\n\u001b[0;32m     64\u001b[0m \n\u001b[0;32m     65\u001b[0m \u001b[38;5;124;03m    :param url: URL for the new :class:`Request` object.\u001b[39;00m\n\u001b[1;32m   (...)\u001b[0m\n\u001b[0;32m     70\u001b[0m \u001b[38;5;124;03m    :rtype: requests.Response\u001b[39;00m\n\u001b[0;32m     71\u001b[0m \u001b[38;5;124;03m    \"\"\"\u001b[39;00m\n\u001b[1;32m---> 73\u001b[0m     \u001b[38;5;28;01mreturn\u001b[39;00m request(\u001b[38;5;124m\"\u001b[39m\u001b[38;5;124mget\u001b[39m\u001b[38;5;124m\"\u001b[39m, url, params\u001b[38;5;241m=\u001b[39mparams, \u001b[38;5;241m*\u001b[39m\u001b[38;5;241m*\u001b[39mkwargs)\n",
      "File \u001b[1;32mc:\\Users\\annap\\miniconda3\\envs\\qfm-env\\lib\\site-packages\\requests\\api.py:59\u001b[0m, in \u001b[0;36mrequest\u001b[1;34m(method, url, **kwargs)\u001b[0m\n\u001b[0;32m     55\u001b[0m \u001b[38;5;66;03m# By using the 'with' statement we are sure the session is closed, thus we\u001b[39;00m\n\u001b[0;32m     56\u001b[0m \u001b[38;5;66;03m# avoid leaving sockets open which can trigger a ResourceWarning in some\u001b[39;00m\n\u001b[0;32m     57\u001b[0m \u001b[38;5;66;03m# cases, and look like a memory leak in others.\u001b[39;00m\n\u001b[0;32m     58\u001b[0m \u001b[38;5;28;01mwith\u001b[39;00m sessions\u001b[38;5;241m.\u001b[39mSession() \u001b[38;5;28;01mas\u001b[39;00m session:\n\u001b[1;32m---> 59\u001b[0m     \u001b[38;5;28;01mreturn\u001b[39;00m session\u001b[38;5;241m.\u001b[39mrequest(method\u001b[38;5;241m=\u001b[39mmethod, url\u001b[38;5;241m=\u001b[39murl, \u001b[38;5;241m*\u001b[39m\u001b[38;5;241m*\u001b[39mkwargs)\n",
      "File \u001b[1;32mc:\\Users\\annap\\miniconda3\\envs\\qfm-env\\lib\\site-packages\\requests\\sessions.py:589\u001b[0m, in \u001b[0;36mSession.request\u001b[1;34m(self, method, url, params, data, headers, cookies, files, auth, timeout, allow_redirects, proxies, hooks, stream, verify, cert, json)\u001b[0m\n\u001b[0;32m    584\u001b[0m send_kwargs \u001b[38;5;241m=\u001b[39m {\n\u001b[0;32m    585\u001b[0m     \u001b[38;5;124m\"\u001b[39m\u001b[38;5;124mtimeout\u001b[39m\u001b[38;5;124m\"\u001b[39m: timeout,\n\u001b[0;32m    586\u001b[0m     \u001b[38;5;124m\"\u001b[39m\u001b[38;5;124mallow_redirects\u001b[39m\u001b[38;5;124m\"\u001b[39m: allow_redirects,\n\u001b[0;32m    587\u001b[0m }\n\u001b[0;32m    588\u001b[0m send_kwargs\u001b[38;5;241m.\u001b[39mupdate(settings)\n\u001b[1;32m--> 589\u001b[0m resp \u001b[38;5;241m=\u001b[39m \u001b[38;5;28mself\u001b[39m\u001b[38;5;241m.\u001b[39msend(prep, \u001b[38;5;241m*\u001b[39m\u001b[38;5;241m*\u001b[39msend_kwargs)\n\u001b[0;32m    591\u001b[0m \u001b[38;5;28;01mreturn\u001b[39;00m resp\n",
      "File \u001b[1;32mc:\\Users\\annap\\miniconda3\\envs\\qfm-env\\lib\\site-packages\\requests\\sessions.py:703\u001b[0m, in \u001b[0;36mSession.send\u001b[1;34m(self, request, **kwargs)\u001b[0m\n\u001b[0;32m    700\u001b[0m start \u001b[38;5;241m=\u001b[39m preferred_clock()\n\u001b[0;32m    702\u001b[0m \u001b[38;5;66;03m# Send the request\u001b[39;00m\n\u001b[1;32m--> 703\u001b[0m r \u001b[38;5;241m=\u001b[39m adapter\u001b[38;5;241m.\u001b[39msend(request, \u001b[38;5;241m*\u001b[39m\u001b[38;5;241m*\u001b[39mkwargs)\n\u001b[0;32m    705\u001b[0m \u001b[38;5;66;03m# Total elapsed time of the request (approximately)\u001b[39;00m\n\u001b[0;32m    706\u001b[0m elapsed \u001b[38;5;241m=\u001b[39m preferred_clock() \u001b[38;5;241m-\u001b[39m start\n",
      "File \u001b[1;32mc:\\Users\\annap\\miniconda3\\envs\\qfm-env\\lib\\site-packages\\requests\\adapters.py:677\u001b[0m, in \u001b[0;36mHTTPAdapter.send\u001b[1;34m(self, request, stream, timeout, verify, cert, proxies)\u001b[0m\n\u001b[0;32m    673\u001b[0m     \u001b[38;5;28;01mif\u001b[39;00m \u001b[38;5;28misinstance\u001b[39m(e\u001b[38;5;241m.\u001b[39mreason, _SSLError):\n\u001b[0;32m    674\u001b[0m         \u001b[38;5;66;03m# This branch is for urllib3 v1.22 and later.\u001b[39;00m\n\u001b[0;32m    675\u001b[0m         \u001b[38;5;28;01mraise\u001b[39;00m SSLError(e, request\u001b[38;5;241m=\u001b[39mrequest)\n\u001b[1;32m--> 677\u001b[0m     \u001b[38;5;28;01mraise\u001b[39;00m \u001b[38;5;167;01mConnectionError\u001b[39;00m(e, request\u001b[38;5;241m=\u001b[39mrequest)\n\u001b[0;32m    679\u001b[0m \u001b[38;5;28;01mexcept\u001b[39;00m ClosedPoolError \u001b[38;5;28;01mas\u001b[39;00m e:\n\u001b[0;32m    680\u001b[0m     \u001b[38;5;28;01mraise\u001b[39;00m \u001b[38;5;167;01mConnectionError\u001b[39;00m(e, request\u001b[38;5;241m=\u001b[39mrequest)\n",
      "\u001b[1;31mConnectionError\u001b[0m: HTTPSConnectionPool(host='auth.quantum-computing.ibm.com', port=443): Max retries exceeded with url: /api/version (Caused by NameResolutionError(\"<urllib3.connection.HTTPSConnection object at 0x0000017690D70340>: Failed to resolve 'auth.quantum-computing.ibm.com' ([Errno 11001] getaddrinfo failed)\"))"
     ]
    }
   ],
   "source": [
    "requests.get(\"https://auth.quantum-computing.ibm.com/api/version\")"
   ]
  },
  {
   "cell_type": "code",
   "execution_count": null,
   "id": "de8214a6",
   "metadata": {},
   "outputs": [],
   "source": [
    "load_dotenv()  \n",
    "api_key = os.getenv(\"IBM_API_KEY\")\n",
    "IBMQ.save_account(\"api_key\")      #run only once\n",
    "IBMQ.load_account()\n",
    "\n",
    "provider = IBMQ.get_provider(hub='ibm-q')\n",
    "backend = least_busy(provider.backends(filters=lambda b: b.configuration().n_qubits >= n_qubits and\n",
    "                                                  not b.configuration().simulator and\n",
    "                                                  b.status().operational==True))  \n",
    "\n",
    "print(\"Using IBM backend:\", backend.name())\n"
   ]
  },
  {
   "cell_type": "markdown",
   "id": "d8511531",
   "metadata": {},
   "source": [
    "### Sweep Qubits (Circuit Hyperparameters)"
   ]
  },
  {
   "cell_type": "markdown",
   "id": "f3d3591f",
   "metadata": {},
   "source": [
    "Looping over a range of circuit hyperparamters (number of qubits, depth (# of layers in var. ansatz), shot (# of times qcircuit is sampled), noise (whether to stimulate device noise - will run on IBM)). \n",
    "\n",
    "- More qubits would mean a richer feature space but more noise/cost. \n",
    "- More depth/layers would mean higher expressivity but is more difficult to train\n",
    "- More shots means lower measurement noise but a longer runtime\n",
    "- More noise means noise realism tradeoff\n"
   ]
  },
  {
   "cell_type": "code",
   "execution_count": 39,
   "id": "baec02f6",
   "metadata": {},
   "outputs": [],
   "source": [
    "params = np.load(\"params/trained_params.npy\")      #trained parameters\n",
    " \n",
    "#trained models\n",
    "q_lg_clf = joblib.load(\"../results/models/quantum_logreg.pkl\")\n",
    "q_svm_clf = joblib.load(\"../results/models/quantum_svm.pkl\")   \n"
   ]
  },
  {
   "cell_type": "code",
   "execution_count": null,
   "id": "09a49d46",
   "metadata": {},
   "outputs": [],
   "source": [
    "n_qubit_list = [2,3,4]\n",
    "depth_list = [1,2]\n",
    "shot_list= [None, 1024]      #none means no sampling - analytic\n",
    "noise_list = [False, True]    #true = use simulator "
   ]
  },
  {
   "cell_type": "code",
   "execution_count": null,
   "id": "8da0b5a6",
   "metadata": {},
   "outputs": [
    {
     "name": "stdout",
     "output_type": "stream",
     "text": [
      "Run (2 qubits, depth=1, shots=None, noise=False) = Log reg acc=0.899, SVM acc=0.896\n",
      "Run (2 qubits, depth=1, shots=1024, noise=False) = Log reg acc=0.898, SVM acc=0.897\n",
      "Run (2 qubits, depth=2, shots=None, noise=False) = Log reg acc=0.776, SVM acc=0.791\n",
      "Run (2 qubits, depth=2, shots=1024, noise=False) = Log reg acc=0.776, SVM acc=0.786\n",
      "Run (3 qubits, depth=1, shots=None, noise=False) = Log reg acc=0.922, SVM acc=0.925\n",
      "Run (3 qubits, depth=1, shots=1024, noise=False) = Log reg acc=0.923, SVM acc=0.926\n",
      "Run (3 qubits, depth=2, shots=None, noise=False) = Log reg acc=0.789, SVM acc=0.796\n",
      "Run (3 qubits, depth=2, shots=1024, noise=False) = Log reg acc=0.790, SVM acc=0.798\n",
      "Run (4 qubits, depth=1, shots=None, noise=False) = Log reg acc=0.930, SVM acc=0.936\n",
      "Run (4 qubits, depth=1, shots=1024, noise=False) = Log reg acc=0.932, SVM acc=0.933\n",
      "Run (4 qubits, depth=2, shots=None, noise=False) = Log reg acc=0.866, SVM acc=0.877\n",
      "Run (4 qubits, depth=2, shots=1024, noise=False) = Log reg acc=0.868, SVM acc=0.872\n"
     ]
    }
   ],
   "source": [
    "lg_results = []\n",
    "svm_results = []   \n",
    "\n",
    "for n_qubits, depth, shots, noise in itertools.product(n_qubit_list, depth_list, shot_list, noise_list):\n",
    "    params_path = f\"params/trained_params_{n_qubits}.npy\"       #loads correct params file for qubits\n",
    "    params = np.load(params_path)\n",
    "    \n",
    "    #adjust device configration\n",
    "    if noise:\n",
    "        dev =  qml.device(\"qiskit.ibmq\", wires=n_qubits, backend=backend, shots=shots)     #now runs on ibm hardware    \n",
    "    else:\n",
    "        dev = qml.device(\"default.qubit\", wires=n_qubits, shots=shots)\n",
    "\n",
    "\n",
    "    @qml.qnode(dev)\n",
    "    def qnode_measure(x, params):\n",
    "        zz_feature_map(x, wires=range(n_qubits), reps=depth)\n",
    "        var_ansatz(params)\n",
    "        return [qml.expval(qml.PauliZ(i)) for i in range(n_qubits)]\n",
    "\n",
    "    #extract quantum features\n",
    "    Xq_train = get_quantum_features(X_train, params)\n",
    "    Xq_test = get_quantum_features(X_test, params)\n",
    "    # print(f\"DEBUG: {Xq_train.mean()}, {Xq_train.std()}\")\n",
    "\n",
    "\n",
    "    q_lr_start = time.time()\n",
    "    #log reg \n",
    "    q_lg_clf = LogisticRegression()\n",
    "    q_lg_clf.fit(Xq_train, y_train)\n",
    "    q_lg_y_pred = q_lg_clf.predict(Xq_test)\n",
    "    q_lg_acc = np.mean(q_lg_y_pred == y_test)\n",
    "    q_lr_runtime = (time.time()- q_lr_start, 3)\n",
    "\n",
    "\n",
    "    #svm model \n",
    "    q_svm_start = time.time()\n",
    "    q_svm_clf = SVC(kernel='linear', C=1.0, random_state=42)\n",
    "    q_svm_clf.fit(Xq_train, y_train)\n",
    "    q_svm_y_pred = q_svm_clf.predict(Xq_test)   \n",
    "    q_svm_acc = np.mean(q_svm_y_pred == y_test)\n",
    "    q_svm_runtime = (time.time()-q_svm_start, 3)\n",
    "\n",
    "    lg_results.append({\n",
    "        \"n_qubits\": n_qubits, \n",
    "        \"depth\": depth,  \n",
    "        \"shots\": shots if shots else \"analytic\", \n",
    "        \"noise\": noise,\n",
    "        \"accuracy\": q_lg_acc,\n",
    "        \"runtime_sec\": q_lr_runtime\n",
    "    })    \n",
    "\n",
    "    svm_results.append({\n",
    "        \"n_qubits\": n_qubits,\n",
    "        \"depth\": depth,\n",
    "        \"shots\": shots if shots else \"analytic\",\n",
    "        \"noise\": noise,   \n",
    "        \"accuracy\":q_svm_acc,    \n",
    "        \"runtime_sec\": q_svm_runtime   \n",
    "    })\n",
    "\n",
    "    print(f\"Run ({n_qubits} qubits, depth={depth}, shots={shots}, noise={noise}) = Log reg acc={q_lg_acc:.3f}, SVM acc={q_svm_acc:.3f}\")\n"
   ]
  },
  {
   "cell_type": "markdown",
   "id": "ae2b29c7",
   "metadata": {},
   "source": [
    "### Save Results"
   ]
  },
  {
   "cell_type": "code",
   "execution_count": 47,
   "id": "438694aa",
   "metadata": {},
   "outputs": [
    {
     "name": "stdout",
     "output_type": "stream",
     "text": [
      "\n",
      "Saved to results/metrics/q_lr_sweep_results.csv\n",
      "\n",
      "Saved to results/metrics/q_svm_sweep_results.csv\n"
     ]
    }
   ],
   "source": [
    "q_lg_df = pd.DataFrame(lg_results)\n",
    "q_lg_df.to_csv(\"../results/metrics/q_lr_sweep_results.csv\", index=False)\n",
    "print(\"\\nSaved to results/metrics/q_lr_sweep_results.csv\")\n",
    "\n",
    "\n",
    "q_svm_df = pd.DataFrame(svm_results)\n",
    "q_svm_df.to_csv(\"../results/metrics/q_svm_sweep_results.csv\", index=False)\n",
    "print(\"\\nSaved to results/metrics/q_svm_sweep_results.csv\")"
   ]
  }
 ],
 "metadata": {
  "kernelspec": {
   "display_name": "qfm-env",
   "language": "python",
   "name": "python3"
  },
  "language_info": {
   "codemirror_mode": {
    "name": "ipython",
    "version": 3
   },
   "file_extension": ".py",
   "mimetype": "text/x-python",
   "name": "python",
   "nbconvert_exporter": "python",
   "pygments_lexer": "ipython3",
   "version": "3.10.18"
  }
 },
 "nbformat": 4,
 "nbformat_minor": 5
}
