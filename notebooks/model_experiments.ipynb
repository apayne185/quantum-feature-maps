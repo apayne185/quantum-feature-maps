{
 "cells": [
  {
   "cell_type": "markdown",
   "id": "db04c1b3",
   "metadata": {},
   "source": [
    "# Quantum Model Experiments "
   ]
  },
  {
   "cell_type": "markdown",
   "id": "37feac0e",
   "metadata": {},
   "source": [
    "04_experiments.ipynb\n",
    "\n",
    "Sweep qubits (2–4), depth, shots, noise.\n",
    "\n",
    "Log results to CSV.\n",
    "\n",
    "Include IBM device run if possible (small circuit)."
   ]
  },
  {
   "cell_type": "markdown",
   "id": "557cb6db",
   "metadata": {},
   "source": [
    "## Measuring Behavior of Qubits "
   ]
  },
  {
   "cell_type": "code",
   "execution_count": null,
   "id": "4ff7a8f1",
   "metadata": {},
   "outputs": [],
   "source": []
  },
  {
   "cell_type": "markdown",
   "id": "dab978d1",
   "metadata": {},
   "source": [
    "## Save to CSV"
   ]
  },
  {
   "cell_type": "code",
   "execution_count": null,
   "id": "362efb94",
   "metadata": {},
   "outputs": [],
   "source": [
    "np.savez(\"data/mnist01_pca4.npz\", \n",
    "         X_train=X_train_pca, y_train=y_train.numpy(),\n",
    "         X_test=X_test_pca, y_test=y_test.numpy())     \n"
   ]
  }
 ],
 "metadata": {
  "kernelspec": {
   "display_name": "qfm-env",
   "language": "python",
   "name": "python3"
  },
  "language_info": {
   "name": "python",
   "version": "3.10.18"
  }
 },
 "nbformat": 4,
 "nbformat_minor": 5
}
