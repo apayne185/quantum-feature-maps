{
 "cells": [
  {
   "cell_type": "markdown",
   "id": "8f6869f9",
   "metadata": {},
   "source": [
    "# Final Analysis"
   ]
  },
  {
   "cell_type": "markdown",
   "id": "580084d6",
   "metadata": {},
   "source": [
    "\n",
    "Aggregate results.\n",
    "\n",
    "Plots: accuracy vs shots, accuracy vs depth, runtime vs qubits.\n",
    "\n",
    "Compare to classical baseline.\n",
    "\n",
    "Write short interpretation."
   ]
  },
  {
   "cell_type": "code",
   "execution_count": 1,
   "id": "79ba7790",
   "metadata": {},
   "outputs": [],
   "source": [
    "import pandas as pd\n",
    "import numpy as np\n",
    "import matplotlib.pyplot as plt\n",
    "import seaborn as sns\n",
    "import os"
   ]
  },
  {
   "cell_type": "code",
   "execution_count": null,
   "id": "3a60b713",
   "metadata": {},
   "outputs": [],
   "source": [
    "sns.set(style=\"whitegrid\", context=\"talk\", palette=\"muted\")\n",
    "plt.rcParams[\"figure.figsize\"] = (10, 6)\n",
    "\n",
    "c_lr_path = \"../results/quantum_log_reg_sweep_results.csv\"\n",
    "c_svm_path = \"../results/quantum_log_reg_sweep_results.csv\"\n",
    "q_lr_path = \"../results/quantum_log_reg_sweep_results.csv\"\n",
    "q_svm_path = \"../results/quantum_svm_sweep_results.csv\"\n",
    "\n",
    "c_lr_df = pd.read_csv(c_lr_path)\n",
    "c_svm_df = pd.read_csv(c_svm_path)\n",
    "q_lr_df = pd.read_csv(q_lr_path)\n",
    "q_svm_df = pd.read_csv(q_svm_path)\n",
    "\n",
    "\n",
    "display(c_lr_df.head())\n",
    "display(c_svm_df.head()) \n",
    "display(q_lr_df.head())\n",
    "display(q_svm_df.head()) "
   ]
  },
  {
   "cell_type": "markdown",
   "id": "68bf4186",
   "metadata": {},
   "source": [
    "### Aggregate Quantum Results"
   ]
  },
  {
   "cell_type": "code",
   "execution_count": null,
   "id": "8633dc6f",
   "metadata": {},
   "outputs": [],
   "source": [
    "q_lr_agg = q_lr_df.groupby([\"n_qubits\", \"depth\", \"shots\", \"noise\"]).agg({\n",
    "    \"accuracy\":[\"mean\", \"std\"], \n",
    "    \"runtime_sec\": \"mean\"}).reset_index()\n",
    "\n",
    "q_svm_agg = q_svm_df.groupby([\"n_qubits\", \"depth\", \"shots\", \"noise\"]).agg({\n",
    "    \"accuracy\":[\"mean\", \"std\"], \n",
    "    \"runtime_sec\": \"mean\"}).reset_index()\n",
    "\n",
    "q_lr_agg.columns = [\"n_qubits\", \"depth\", \"shots\", \"noise\", \"acc_mean\", \"acc_std\", \"runtime_sec\"]\n",
    "q_swm_agg.columns = [\"n_qubits\", \"depth\", \"shots\", \"noise\", \"acc_mean\", \"acc_std\", \"runtime_sec\"]\n",
    "\n",
    "display(q_lr_agg)\n",
    "display(q_swm_agg)"
   ]
  },
  {
   "cell_type": "markdown",
   "id": "b920c80b",
   "metadata": {},
   "source": [
    "### Classical v Quantum Comparison"
   ]
  },
  {
   "cell_type": "code",
   "execution_count": null,
   "id": "207a253e",
   "metadata": {},
   "outputs": [],
   "source": [
    "c_lr_acc = c_lr_df[\"accuracy\"].mean()\n",
    "c_svm_acc = c_svm_df[\"accuracy\"].mean()\n",
    "\n",
    "c_lr_std = c_lr_df[\"accuracy\"].std()\n",
    "c_svm_std = c_svm_df[\"accuracy\"].std()\n",
    "\n",
    "print(f\"Classical Log reg accuracy (avg): {c_lr_acc:.3f} ± {c_lr_std:.3f}\")\n",
    "print(f\"Classical SVM accuracy (avg): {c_svm_acc:.3f} ± {c_svm_std:.3f}\")\n",
    "\n",
    "q_lr_agg[\"improvement_over_classical\"] = q_lr_agg[\"acc_mean\"] - c_lr_acc\n",
    "q_svm_agg[\"improvement_over_classical\"] = q_svm_agg[\"acc_mean\"] - c_svm_acc\n"
   ]
  },
  {
   "cell_type": "markdown",
   "id": "24693a0d",
   "metadata": {},
   "source": [
    "### Visualizations"
   ]
  },
  {
   "cell_type": "markdown",
   "id": "b406cdd2",
   "metadata": {},
   "source": [
    "#### Logistic Regression"
   ]
  },
  {
   "cell_type": "markdown",
   "id": "dff55821",
   "metadata": {},
   "source": [
    "**Accuracy vs Circuit Depth**"
   ]
  },
  {
   "cell_type": "code",
   "execution_count": null,
   "id": "f994ad61",
   "metadata": {},
   "outputs": [],
   "source": [
    "\n",
    "plt.figure()\n",
    "sns.barplot(   \n",
    "    data=q_lr_agg, \n",
    "    x=\"depth\", y=\"acc_mean\", hue=\"n_qubits\",\n",
    "    errorbar=\"sd\", \n",
    "    capsize=0.2  \n",
    ")   \n",
    "\n",
    "plt.title(\"Quantum enhanced Log Reg: Accuracy vs Circuit Depth\")  \n",
    "plt.ylabel(\"Mean Accuracy\")\n",
    "plt.xlabel(\"Circuit Depth\")  \n",
    "plt.legend(title=\"Qubits\")  \n",
    "plt.tight_layout()\n",
    "plt.show(); "
   ]
  },
  {
   "cell_type": "markdown",
   "id": "24847702",
   "metadata": {},
   "source": [
    "**Accuracy vs Shots**"
   ]
  },
  {
   "cell_type": "code",
   "execution_count": null,
   "id": "b2ae056d",
   "metadata": {},
   "outputs": [],
   "source": [
    "plt.figure()  \n",
    "sns.lineplot(\n",
    "    data=q_lr_agg, \n",
    "    x=\"shots\", y=\"acc_mean\", hue=\"n_qubits\", style=\"depth\", markers=True\n",
    ")   \n",
    "\n",
    "\n",
    "plt.title(\"Quantum enhanced Log Reg: Accuracy vs. Num of Shots\")  \n",
    "plt.ylabel(\"Mean Accuracy\") \n",
    "plt.xlabel(\"Shots\")         \n",
    "plt.xscale(\"log\")\n",
    "plt.tight_layout()  \n",
    "plt.show()   "
   ]
  },
  {
   "cell_type": "markdown",
   "id": "4b29f63c",
   "metadata": {},
   "source": [
    "**Runtime vs Qubits**"
   ]
  },
  {
   "cell_type": "code",
   "execution_count": null,
   "id": "f60472eb",
   "metadata": {},
   "outputs": [],
   "source": [
    "plt.figure()\n",
    "sns.barplot(\n",
    "    data=q_lr_agg, \n",
    "    x=\"n_qubits\", y=\"runtime_sec\", hue=\"depth\",\n",
    "    capsize=0.2 \n",
    ")   \n",
    "\n",
    "\n",
    "plt.title(\"Quantum enhanced Log Reg: Runtime vs. Number of Qubits\")\n",
    "plt.ylabel(\"Runtime (seconds)\")\n",
    "plt.xlabel(\"Qubits\")  \n",
    "plt.tight_layout()\n",
    "plt.show();   "
   ]
  },
  {
   "cell_type": "markdown",
   "id": "56689988",
   "metadata": {},
   "source": [
    "**Improvement over classical**"
   ]
  },
  {
   "cell_type": "code",
   "execution_count": null,
   "id": "9ca4befa",
   "metadata": {},
   "outputs": [],
   "source": [
    "plt.figure()\n",
    "sns.heatmap(\n",
    "    q_lr_agg.pivot_table(index=\"n_qubits\", columns=\"depth\", values=\"improvement_over_classical\"),\n",
    "    annot=True, cmap=\"coolwarm\", center= 0  \n",
    ")  \n",
    "\n",
    "plt.title(\"Quantum Log Reg Improvement over Classical SVM (Accuracy)\")\n",
    "plt.ylabel(\"Qubits\")\n",
    "plt.xlabel(\"Depth\")\n",
    "plt.tight_layout()  \n",
    "plt.show(); "
   ]
  },
  {
   "cell_type": "markdown",
   "id": "40481148",
   "metadata": {},
   "source": [
    "#### SVM"
   ]
  },
  {
   "cell_type": "markdown",
   "id": "c4d12f86",
   "metadata": {},
   "source": [
    "**Accuracy vs Circuit Depth**"
   ]
  },
  {
   "cell_type": "code",
   "execution_count": null,
   "id": "8822a7c1",
   "metadata": {},
   "outputs": [],
   "source": [
    "plt.figure()\n",
    "sns.barplot(   \n",
    "    data=q_svm_agg, \n",
    "    x=\"depth\", y=\"acc_mean\", hue=\"n_qubits\",\n",
    "    errorbar=\"sd\", \n",
    "    capsize=0.2    \n",
    ")   \n",
    "\n",
    "plt.title(\"Quantum enhanced SVM: Accuracy vs Circuit Depth\")  \n",
    "plt.ylabel(\"Mean Accuracy\")\n",
    "plt.xlabel(\"Circuit Depth\")  \n",
    "plt.legend(title=\"Qubits\")     \n",
    "plt.tight_layout()\n",
    "plt.show(); "
   ]
  },
  {
   "cell_type": "markdown",
   "id": "ce5b7a68",
   "metadata": {},
   "source": [
    "**Accuracy vs Shots**"
   ]
  },
  {
   "cell_type": "code",
   "execution_count": null,
   "id": "956ed6ae",
   "metadata": {},
   "outputs": [],
   "source": [
    "plt.figure()  \n",
    "sns.lineplot(\n",
    "    data=q_svm_agg, \n",
    "    x=\"shots\", y=\"acc_mean\", hue=\"n_qubits\", style=\"depth\", markers=True\n",
    ")  \n",
    "\n",
    "\n",
    "plt.title(\"Quantum enhanced SVM: Accuracy vs. Num of Shots\")  \n",
    "plt.ylabel(\"Mean Accuracy\") \n",
    "plt.xlabel(\"Shots\")         \n",
    "plt.xscale(\"log\")\n",
    "plt.tight_layout()  \n",
    "plt.show()   "
   ]
  },
  {
   "cell_type": "markdown",
   "id": "dba043e4",
   "metadata": {},
   "source": [
    "**Runtime vs Qubits**"
   ]
  },
  {
   "cell_type": "code",
   "execution_count": null,
   "id": "e2f5bb97",
   "metadata": {},
   "outputs": [],
   "source": [
    "plt.figure()\n",
    "sns.barplot(\n",
    "    data=q_svm_agg, \n",
    "    x=\"n_qubits\", y=\"runtime_sec\", hue=\"depth\",\n",
    "    capsize=0.2 \n",
    ")   \n",
    "\n",
    "\n",
    "plt.title(\"Quantum enhanced SVM: Runtime vs. Number of Qubits\")\n",
    "plt.ylabel(\"Runtime (seconds)\")\n",
    "plt.xlabel(\"Qubits\")  \n",
    "plt.tight_layout()\n",
    "plt.show();   "
   ]
  },
  {
   "cell_type": "markdown",
   "id": "316c31d1",
   "metadata": {},
   "source": [
    "**Improvement over classical**"
   ]
  },
  {
   "cell_type": "code",
   "execution_count": null,
   "id": "50a86bec",
   "metadata": {},
   "outputs": [],
   "source": [
    "plt.figure()\n",
    "sns.heatmap(\n",
    "    q_svm_agg.pivot_table(index=\"n_qubits\", columns=\"depth\", values=\"improvement_over_classical\"),\n",
    "    annot=True, cmap=\"coolwarm\", center= 0  \n",
    ")  \n",
    "\n",
    "plt.title(\"Quantum SVM Improvement over Classical SVM (Accuracy)\")\n",
    "plt.ylabel(\"Qubits\")\n",
    "plt.xlabel(\"Depth\")\n",
    "plt.tight_layout() \n",
    "plt.show(); "
   ]
  },
  {
   "cell_type": "markdown",
   "id": "365f4859",
   "metadata": {},
   "source": [
    "### Save Summary"
   ]
  },
  {
   "cell_type": "code",
   "execution_count": null,
   "id": "a8233dd8",
   "metadata": {},
   "outputs": [],
   "source": [
    "summary_path = \"../results/metrics/quantum_summary.csv\"\n",
    "q_lr_agg.to_csv(\"../results/metrics/q_lr_summary.csv\", index=False)\n",
    "q_svm_agg.to_csv(\"../results/metrics/q_svm_summary.csv\", index=False)"
   ]
  }
 ],
 "metadata": {
  "kernelspec": {
   "display_name": "qfm-env",
   "language": "python",
   "name": "python3"
  },
  "language_info": {
   "codemirror_mode": {
    "name": "ipython",
    "version": 3
   },
   "file_extension": ".py",
   "mimetype": "text/x-python",
   "name": "python",
   "nbconvert_exporter": "python",
   "pygments_lexer": "ipython3",
   "version": "3.10.18"
  }
 },
 "nbformat": 4,
 "nbformat_minor": 5
}
