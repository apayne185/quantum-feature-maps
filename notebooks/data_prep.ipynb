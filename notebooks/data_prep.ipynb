{
 "cells": [
  {
   "cell_type": "code",
   "execution_count": 8,
   "id": "2180d967",
   "metadata": {},
   "outputs": [],
   "source": [
    "import torch\n",
    "from torch.utils.data import DataLoader\n",
    "from torchvision import datasets, transforms\n",
    "import matplotlib.pyplot as plt\n",
    "from sklearn.decomposition import PCA\n",
    "import numpy as np"
   ]
  },
  {
   "cell_type": "markdown",
   "id": "048cf80d",
   "metadata": {},
   "source": [
    "“Hybrid preprocessing for vision”: compare a tiny variational feature map (≤4 qubits on a simulator or IBM device) against a classical baseline on a toy dataset; treat it as a learning exercise in data encoding, noise, and cost models rather than “quantum beats classical.”"
   ]
  },
  {
   "cell_type": "markdown",
   "id": "7055f23a",
   "metadata": {},
   "source": [
    "01_data_prep.ipynb\n",
    "\n",
    "Load toy dataset (downsampled MNIST or make_moons).\n",
    "\n",
    "Normalize features.\n",
    "\n",
    "PCA → reduce to ≤4 features.\n",
    "\n",
    "Visualize reduced data."
   ]
  },
  {
   "cell_type": "code",
   "execution_count": 9,
   "id": "b6a04037",
   "metadata": {},
   "outputs": [],
   "source": [
    "transform = transforms.Compose([          #chains multiple transformations \n",
    "    transforms.Resize((8,8)),    #downsampling  from 28x28 -> 8x8 so features stay small -64\n",
    "    transforms.ToTensor(),     #transforms data to tensor\n",
    "])\n",
    "\n",
    "train_dataset = datasets.MNIST(root='data', train=True, download=True, transform=transform)\n",
    "test_dataset = datasets.MNIST(root='data', train=False, download=True, transform=transform)\n",
    "\n",
    "#because we are filtering the MNIST dataset for only 0/1s not 0-9\n",
    "train_idx = (train_dataset.targets==0) | (train_dataset.targets==1)\n",
    "test_idx = (test_dataset.targets==0) | (test_dataset.targets==1)\n",
    "\n",
    "\n",
    "X_train = train_dataset.data[train_idx].float() / 255.0  #normalizes to [0,1]   \n",
    "y_train = train_dataset.targets[train_idx]     \n",
    "X_test = test_dataset.data[test_idx].float() / 255.0\n",
    "y_test = test_dataset.targets[test_idx]   "
   ]
  },
  {
   "cell_type": "markdown",
   "id": "b01e40bd",
   "metadata": {},
   "source": [
    "#### Flatten Images\n",
    "multidimensonal images take up more space than a big 1d array, reduces time to run model"
   ]
  },
  {
   "cell_type": "code",
   "execution_count": 10,
   "id": "40bd9c41",
   "metadata": {},
   "outputs": [
    {
     "name": "stdout",
     "output_type": "stream",
     "text": [
      "flattened shape xtrain:  torch.Size([12665, 784])\n",
      "flattened shape xtest:  torch.Size([12665, 784])\n"
     ]
    }
   ],
   "source": [
    "X_train_flat = X_train.view(X_train.shape[0], -1)  #shape is now (N_sampels, 64)  \n",
    "X_test_flat = X_test.view(X_test.shape[0], -1)   \n",
    "\n",
    "print(\"flattened shape xtrain: \", X_train_flat.shape)\n",
    "print(\"flattened shape xtest: \", X_train_flat.shape)"
   ]
  },
  {
   "cell_type": "markdown",
   "id": "1e6aa842",
   "metadata": {},
   "source": [
    "### PCA - principal component analysis\n",
    "reduces to <= 4 features for 4 qubits, makes analysis simpler (reduces large num of variables to small num of factors/dimenson reduction)\n",
    "\n",
    "identifies patterns/subsets that have highest correlation to principal amount\n"
   ]
  },
  {
   "cell_type": "code",
   "execution_count": 12,
   "id": "b8ff74c6",
   "metadata": {},
   "outputs": [
    {
     "name": "stdout",
     "output_type": "stream",
     "text": [
      "PCA reduced shape xtrain:   (12665, 4)\n",
      "PCA reduced shape xtest:   (2115, 4)\n",
      "ytrain labels:  torch.Size([12665])\n",
      "ytest labels:  torch.Size([2115])\n"
     ]
    }
   ],
   "source": [
    "pca= PCA(n_components=4)\n",
    "X_train_pca = pca.fit_transform(X_train_flat)\n",
    "X_test_pca = pca.transform(X_test_flat)\n",
    "\n",
    "print(\"PCA reduced shape xtrain:  \", X_train_pca.shape)\n",
    "print(\"PCA reduced shape xtest:  \", X_test_pca.shape)\n",
    "print(\"ytrain labels: \", y_train.shape)\n",
    "print(\"ytest labels: \",y_test.shape)\n"
   ]
  },
  {
   "cell_type": "markdown",
   "id": "8d25f70b",
   "metadata": {},
   "source": [
    "### Visualization Functions"
   ]
  },
  {
   "cell_type": "code",
   "execution_count": 13,
   "id": "9df20f45",
   "metadata": {},
   "outputs": [
    {
     "data": {
      "image/png": "[encoded data removed]",
      "text/plain": [
       "<Figure size 1000x200 with 5 Axes>"
      ]
     },
     "metadata": {},
     "output_type": "display_data"
    }
   ],
   "source": [
    "def show_imgs(imgs, labels):\n",
    "    fig, axes = plt.subplots(1, len(imgs), figsize=(10,2))\n",
    "    for img, label, ax in zip(imgs, labels, axes):\n",
    "        ax.imshow(img.squeeze(), cmap='gray')\n",
    "        ax.set_title(f'Lable:{label}')\n",
    "        ax.axis(\"off\")\n",
    "\n",
    "    plt.show()\n",
    "\n",
    "show_imgs(X_train[:5], y_train[:5])\n"
   ]
  },
  {
   "cell_type": "markdown",
   "id": "3038dc66",
   "metadata": {},
   "source": [
    "### Save Data "
   ]
  },
  {
   "cell_type": "code",
   "execution_count": null,
   "id": "e54e010d",
   "metadata": {},
   "outputs": [],
   "source": [
    "np.savez(\"mnist01_pca4.npz\", \n",
    "         X_train=X_train_pca, y_train=y_train.numpy(),\n",
    "         X_test=X_test_pca, y_test=y_test.numpy())"
   ]
  }
 ],
 "metadata": {
  "kernelspec": {
   "display_name": "qfm-env",
   "language": "python",
   "name": "python3"
  },
  "language_info": {
   "codemirror_mode": {
    "name": "ipython",
    "version": 3
   },
   "file_extension": ".py",
   "mimetype": "text/x-python",
   "name": "python",
   "nbconvert_exporter": "python",
   "pygments_lexer": "ipython3",
   "version": "3.10.18"
  }
 },
 "nbformat": 4,
 "nbformat_minor": 5
}
