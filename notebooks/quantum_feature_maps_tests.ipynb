{
 "cells": [
  {
   "cell_type": "markdown",
   "id": "0ec93c00",
   "metadata": {},
   "source": [
    "# Quantum Testing Ground"
   ]
  },
  {
   "cell_type": "code",
   "execution_count": null,
   "id": "11528185",
   "metadata": {},
   "outputs": [],
   "source": [
    "import pennylane as qml\n",
    "from qiskit.visualization import array_to_latex\n",
    "import pennylane.numpy as np\n",
    "from qiskit.circuit.library import ZZFeatureMap, PauliFeatureMap\n",
    "from qiskit_machine_learning.circuit.library import RawFeatureVector\n",
    "import matplotlib.pyplot as plt\n"
   ]
  },
  {
   "cell_type": "code",
   "execution_count": 3,
   "id": "1a66883c",
   "metadata": {},
   "outputs": [
    {
     "name": "stdout",
     "output_type": "stream",
     "text": [
      "PCA reduced shape xtrain:   (12665, 4)\n",
      "PCA reduced shape xtest:   (2115, 4)\n",
      "ytrain labels:  (12665,)\n",
      "ytest labels:  (2115,)\n"
     ]
    }
   ],
   "source": [
    "data = np.load(\"data/mnist01_pca4.npz\")    #from dataprep notebook\n",
    "\n",
    "X_train, y_train = data[\"X_train\"], data[\"y_train\"]  \n",
    "X_test, y_test = data[\"X_test\"], data[\"y_test\"]\n",
    "\n",
    "# x = features/ dimensions --> 4\n",
    "# y = labels\n",
    "\n",
    "print(\"PCA reduced shape xtrain:  \", X_train.shape)\n",
    "print(\"PCA reduced shape xtest:  \", X_test.shape)\n",
    "print(\"ytrain labels: \", y_train.shape)\n",
    "print(\"ytest labels: \",y_test.shape)\n"
   ]
  },
  {
   "cell_type": "code",
   "execution_count": 4,
   "id": "30215475",
   "metadata": {},
   "outputs": [
    {
     "name": "stdout",
     "output_type": "stream",
     "text": [
      "Example feature vector:  [-4.39083685  1.26077612  1.578084    0.85940065]\n"
     ]
    }
   ],
   "source": [
    "sample_vec = X_train[0]      #1st of 12665\n",
    "print(\"Example feature vector: \", sample_vec)  \n"
   ]
  },
  {
   "cell_type": "markdown",
   "id": "3681a572",
   "metadata": {},
   "source": [
    "## Quantum Feature Map\n"
   ]
  },
  {
   "cell_type": "markdown",
   "id": "9898259f",
   "metadata": {},
   "source": [
    "Classical data is transformed into quantum states using pennylane (with select exmaples of processes within Qiskit). For the main pipeline, I will be using PennyLane as it is easier to build custom circuits and I can compare feature maps in a single framework. Pennylane also supports Qiskit backeneds for a future plugin to run on IBM devices. \n",
    "\n",
    "<br>\n",
    "\n",
    "This is a quantum map $\\phi(\\mathbf{x})$ from classical feature vector $\\mathbf{x}$ to quantum state $|\\Phi(\\mathbf{x})\\rangle\\langle\\Phi(\\mathbf{x})|$ in the Hilbert space, achieved through applying the parameterized unitary operator $\\mathcal{U}_{\\Phi(\\mathbf{x})}$ to the initial state $|0\\rangle^{n}$, n being the num of qubits for encoding. This is done so quantum algorithms can use the data. \n",
    "\n",
    "Unitary operations are a building block of Qcircuits, where a matrix U is unitary if $$U^\\dagger U = U U^\\dagger = I$$ \n",
    "\n",
    "Some examples are the Pauli X Gate or Hadamard Gate, or in this case, the Rotation Gate $R_y(\\theta)$. \n",
    "$$\n",
    "R_y(\\theta) = \\begin{bmatrix}\\cos(\\theta/2) & -\\sin(\\theta/2) \\\\ \\sin(\\theta/2) & \\cos(\\theta/2)\\end{bmatrix}, \\quad\n",
    "R_y^\\dagger(\\theta) = R_y(-\\theta), \\quad\n",
    "R_y(\\theta) R_y^\\dagger(\\theta) = I\n",
    "$$\n",
    "\n",
    "\n",
    "All equation .png pictures are sourced from, along with references to their encoding techqniues within descriptions/code: \n",
    "https://iraitzm.github.io/qc-handbook/parts/qml/featuremaps.html\n"
   ]
  },
  {
   "cell_type": "markdown",
   "id": "d59ba79f",
   "metadata": {},
   "source": [
    "### Basis encoding"
   ]
  },
  {
   "cell_type": "markdown",
   "id": "eb6e4770",
   "metadata": {},
   "source": [
    "simpler method of mapping classical data in quantum states, requires data to be composed of ints and maps its binary to the basis state that maps same binary string. So [1,1,1] -> |111⟩. For example: \n",
    "\n",
    "<img src=\"imgs/basis_encoding_function.png\" alt=\"Alt text\" width=\"250\"/>\n",
    "\n",
    "<br>\n",
    "\n",
    "Because basis encoding needs an input of 0s and 1s (encodess a computational state), we need to convert the PCA features from continuous numbers to ints. "
   ]
  },
  {
   "cell_type": "code",
   "execution_count": 5,
   "id": "20ae196d",
   "metadata": {},
   "outputs": [
    {
     "name": "stdout",
     "output_type": "stream",
     "text": [
      "[0 1 1 1]\n"
     ]
    }
   ],
   "source": [
    "sample_vec_int = (X_train[0] > 0).astype(int)   # threshold at 0\n",
    "print(sample_vec_int)"
   ]
  },
  {
   "cell_type": "code",
   "execution_count": 6,
   "id": "c5a98bc5",
   "metadata": {},
   "outputs": [
    {
     "name": "stdout",
     "output_type": "stream",
     "text": [
      "Basis encoding: \n",
      " [0.+0.j 0.+0.j 0.+0.j 0.+0.j 0.+0.j 0.+0.j 0.+0.j 1.+0.j 0.+0.j 0.+0.j\n",
      " 0.+0.j 0.+0.j 0.+0.j 0.+0.j 0.+0.j 0.+0.j] \n",
      "\n",
      "0: ─╭|Ψ⟩─┤ ╭State\n",
      "1: ─├|Ψ⟩─┤ ├State\n",
      "2: ─├|Ψ⟩─┤ ├State\n",
      "3: ─╰|Ψ⟩─┤ ╰State\n"
     ]
    }
   ],
   "source": [
    "#creates pennylane quantum device that simualtes qubits on cpu\n",
    "dev = qml.device('default.qubit', wires=4)     #qubits = wires\n",
    " \n",
    "\n",
    "@qml.qnode(dev)   #wraps the function, becomes quantum node executable on dev\n",
    "def feature_map_be(x): \n",
    "    #applies X gates where x[i]=1\n",
    "    qml.BasisEmbedding(features=x, wires=range(4))      #binarize for basis\n",
    "    return qml.state()\n",
    "\n",
    "\n",
    "# array_to_latex(array=feature_map_be(sample_vec))\n",
    "state = feature_map_be(sample_vec_int)     #stores statevector\n",
    "print(f\"Basis encoding: \\n {state} \\n\")\n",
    "\n",
    "print(qml.draw(feature_map_be, level='device')(sample_vec_int))\n"
   ]
  },
  {
   "cell_type": "markdown",
   "id": "b7d25ad5",
   "metadata": {},
   "source": [
    "We are working with 2**4 = 16 possible states (∣0000⟩, ∣0001⟩, ... ,∣1111⟩). This output shows all complex amplitudes (a raw vector), with all but one zeros. \n",
    "\n",
    "(Below I print out the non-zero basis states (there is only the one) in a more readble fashion)\n",
    "\n",
    "The circuit is depicting a |Ψ⟩ operation (basis embedding) applied jointly across 4 qubits (no gates) preparing a computational basis state. Returns a quantum state vector."
   ]
  },
  {
   "cell_type": "code",
   "execution_count": 7,
   "id": "9d67018b",
   "metadata": {},
   "outputs": [
    {
     "name": "stdout",
     "output_type": "stream",
     "text": [
      "|0111>: amplitude = (1+0j)\n"
     ]
    }
   ],
   "source": [
    "nonzero_indices= np.nonzero(state)[0]   \n",
    "\n",
    "for idx in nonzero_indices:\n",
    "    print(f\"|{idx:04b}>: amplitude = {state[idx]}\")\n"
   ]
  },
  {
   "cell_type": "markdown",
   "id": "9308b512",
   "metadata": {},
   "source": [
    "### **Angle Encoding**"
   ]
  },
  {
   "cell_type": "markdown",
   "id": "da543455",
   "metadata": {},
   "source": [
    "Improves as this method embeds rotation angles into gates so we can introduce numeric data as the rotation angle of our given qubit. This is flexible with the rotation axis (X, Y, Z). I am going to use Z rotations here. For example, x = [x1, x2, ... xn] would be mapped to:\n",
    "\n",
    "<img src=\"imgs/angle_encoding_function.png\" alt=\"Alt text\" width=\"250\"/>"
   ]
  },
  {
   "cell_type": "code",
   "execution_count": 8,
   "id": "08047f1a",
   "metadata": {},
   "outputs": [
    {
     "name": "stdout",
     "output_type": "stream",
     "text": [
      "0: ──RZ(-4.39)─┤ ╭State\n",
      "1: ──RZ(1.26)──┤ ├State\n",
      "2: ──RZ(1.58)──┤ ├State\n",
      "3: ──RZ(0.86)──┤ ╰State\n"
     ]
    }
   ],
   "source": [
    "dev = qml.device('default.qubit', wires=4)\n",
    "\n",
    "@qml.qnode(dev)\n",
    "def feature_map_ae(x):\n",
    "    qml.AngleEmbedding(features=x, wires=range(4), rotation='Z')     #applies z rotations\n",
    "    return qml.state()\n",
    "\n",
    "# X = [2*np.pi, 0, np.pi]\n",
    "print(qml.draw(feature_map_ae, level='device')(sample_vec))    "
   ]
  },
  {
   "cell_type": "markdown",
   "id": "6facb519",
   "metadata": {},
   "source": [
    "The middle operation shown on this circuit has a rotation of the value x[i] around the Z axis on the Bloch sphere. For instance, for qubit[0]: \n",
    "\n",
    "$$\n",
    "R_Z(-3.57)\\,|0\\rangle = e^{-i(-3.57)/2}\\,|0\\rangle = e^{\\,i\\frac{3.57}{2}}\\,|0\\rangle\n",
    "$$\n"
   ]
  },
  {
   "cell_type": "markdown",
   "id": "899f5cbc",
   "metadata": {},
   "source": [
    "#### **ZZ Feature Map (manual)**"
   ]
  },
  {
   "cell_type": "markdown",
   "id": "da4c6b0f",
   "metadata": {},
   "source": [
    "For a ZZ Feature Map, PennyLane does not already have a built in function so we have to do it manually using Hadamard gates, along wiht RZ and ZZ rotations for each qubit pair. This just makes it simpler to integrate over the course of this project. I will still show the Qiskit code below too.\n",
    "\n",
    "The ZZ feature map is a version of the Pauli feature map, which includes entangling gates (ZZ interactions thorugh controlled-phase gates), done after initial data encoding rotations. This is done to allow feature map to capture any potential correlations between features and then maps the data to a more complex hilbert space. \n",
    "\n",
    "There are layers of Hadamard gates, single qubit phase rotations, and 2 qubit controlled phase rotations. \n"
   ]
  },
  {
   "cell_type": "markdown",
   "id": "d7e60376",
   "metadata": {},
   "source": [
    "\n",
    "Hadamard Gates\n",
    "\n",
    "Creates equal superposition of either state within a qubit\n",
    "\n",
    "$$\n",
    "H = \\tfrac{1}{\\sqrt{2}}\n",
    "\\begin{pmatrix}\n",
    "1 & 1 \\\\[6pt]\n",
    "1 & -1\n",
    "\\end{pmatrix}\n",
    "$$\n",
    "\n",
    "RZ Gates \n",
    "\n",
    "Single qubit rotation around Z axis, diagonal gate\n",
    "\n",
    "$$\n",
    "R_Z(\\phi) \n",
    "= \\exp\\!\\left(-i \\tfrac{\\phi}{2} Z\\right) \n",
    "= \n",
    "\\begin{pmatrix}\n",
    "e^{-i\\phi/2} & 0 \\\\[6pt]\n",
    "0 & e^{\\,i\\phi/2}\n",
    "\\end{pmatrix}\n",
    "$$\n",
    "\n",
    "\n",
    "CNOT Gates\n",
    "\n",
    "Flips target qubit if control qubit is 1. \n",
    "\n",
    "$$\n",
    "\\text{CNOT} = CX =\n",
    "\\begin{pmatrix}\n",
    "1 & 0 & 0 & 0 \\\\[6pt]\n",
    "0 & 1 & 0 & 0 \\\\[6pt]\n",
    "0 & 0 & 0 & 1 \\\\[6pt]\n",
    "0 & 0 & 1 & 0\n",
    "\\end{pmatrix}\n",
    "$$\n",
    "\n",
    "<br>"
   ]
  },
  {
   "cell_type": "code",
   "execution_count": 9,
   "id": "8f3d5a91",
   "metadata": {},
   "outputs": [
    {
     "name": "stdout",
     "output_type": "stream",
     "text": [
      "ZZFeatureMap state vector: \n",
      " [-0.24166348+0.06402159j  0.12856535+0.21440838j  0.24664338+0.04082946j\n",
      "  0.16880032-0.18440839j -0.02931574-0.24827522j -0.23039082+0.09705706j\n",
      "  0.24496536+0.04991964j  0.17550227-0.17804199j -0.07578422+0.23823675j\n",
      "  0.24991017+0.00670117j  0.16690489-0.18612565j -0.06489921-0.24142927j\n",
      "  0.20609065+0.14151552j  0.07877125-0.23726587j -0.19894346+0.15139848j\n",
      "  0.01831538+0.24932819j] \n",
      "\n",
      "0: ──H──RZ(-8.78)─╭●─────────────╭●─────────────────────────────────┤ ╭State\n",
      "1: ──H──RZ(2.52)──╰X──RZ(-11.07)─╰X─╭●───────────╭●─────────────────┤ ├State\n",
      "2: ──H──RZ(3.16)────────────────────╰X──RZ(3.98)─╰X─╭●───────────╭●─┤ ├State\n",
      "3: ──H──RZ(1.72)────────────────────────────────────╰X──RZ(2.71)─╰X─┤ ╰State\n"
     ]
    }
   ],
   "source": [
    "def zz_fm(x, wires, reps=1):      #(classical data vector, qubits in use, number of layers/repititions)\n",
    "    n_qubits = len(wires)\n",
    "\n",
    "    for _ in range(reps):\n",
    "        for i in wires: \n",
    "            qml.Hadamard(wires=i)            #hadamard gates, uniform superposition of states --> gives room for inference in future entanglement \n",
    "\n",
    "        for i, wire in enumerate(wires):     #single qubit phase rotations (encodes classical data to qubit phases)\n",
    "            qml.RZ(2*x[i], wires=wire)       #RZ rotation, angle = 2x[i] \n",
    "\n",
    "        for i in range(n_qubits-1):                    #ZZ entangling layer for pairs of neighboring qubits/wires\n",
    "            qml.CNOT(wires=[wires[i], wires[i+1]])\n",
    "            qml.RZ(2*x[i]*x[i+1], wires=wires[i+1])    #performs rotation around Z axis by given amount (angle = 2x[i] * x[i+1]) ENCODES PAIRWISE CORRELATIONS BETWEEN FEATURES x[i] and x[i+1]\n",
    "            qml.CNOT(wires=[wires[i], wires[i+1]])     #uncomputes entanglement (so final effect is ZZ interaction)\n",
    "\n",
    "\n",
    "\n",
    "dev = qml.device(\"default.qubit\", wires=4)\n",
    "\n",
    "@qml.qnode(dev)\n",
    "def feature_map_zz(x):\n",
    "    zz_fm(x, wires=range(4), reps=1)\n",
    "    return qml.state()\n",
    "\n",
    "\n",
    "print(f\"ZZFeatureMap state vector: \\n {feature_map_zz(sample_vec)} \\n\") \n",
    "print(qml.draw(feature_map_zz, level='device')(sample_vec))    \n"
   ]
  },
  {
   "cell_type": "markdown",
   "id": "17a4bff5",
   "metadata": {},
   "source": [
    "In this circuit, you can see how each qubit has a Hadamard gate applied (without this, qubits starting in |0⟩ and RZ would only add a global phase - unobservable, as RZ works with relative phase differences between |0⟩ and |1⟩). \n",
    "\n",
    "Then, a phase rotation of (x) amount around the Z axis to encode the classical features x[i] as a Z axis phase shift of angle 2x[i].  \n",
    "\n",
    "Finally, we have the entanglement layers that work through each adjacent pair of qubits to perform phase shifts. Applies controlled phase depending on both qubits and encodes pairwaise correlations into the state. \n",
    "\n",
    "**Creates a nonlienar feature map in Hilbert space.**"
   ]
  },
  {
   "cell_type": "markdown",
   "id": "4c620f39",
   "metadata": {},
   "source": [
    "A CNOT sandwich, which is seen within the multiqubit entanglement layer above, allows for conditional application of a targets rotation, depending on the control qubit. So, in the end, we are maintaining the computational values of the qubit but keeping the phase entanglement of the qubits (it would look the same on the 0,1 level but now hidden quantum phase correlations encode the data)"
   ]
  },
  {
   "cell_type": "markdown",
   "id": "db2b9ab4",
   "metadata": {},
   "source": [
    "##### ZZ Feature Map - Qiskit\n"
   ]
  },
  {
   "cell_type": "markdown",
   "id": "36045c30",
   "metadata": {},
   "source": [
    "Switched to Qiskit here because Pennylane does not have ZZFeatureMap. This is just to show other options of achieving the ZZ Feature Maps with a less hands on approach\n",
    "\n",
    "performs the same rotations in angle encoding but with extra ZZ interaction within dataponits to capture correlating observations to boost representation. \n",
    "\n",
    "is an angle encoding PQC (parameterized quantum circuit) to encode features into quantum states"
   ]
  },
  {
   "cell_type": "code",
   "execution_count": 10,
   "id": "1aad2529",
   "metadata": {},
   "outputs": [
    {
     "name": "stdout",
     "output_type": "stream",
     "text": [
      "Depth of qcircuit: 31.\n"
     ]
    },
    {
     "data": {
      "text/html": [
       "<pre style=\"word-wrap: normal;white-space: pre;background: #fff0;line-height: 1.1;font-family: &quot;Courier New&quot;,Courier,monospace\">     ┌───┐┌─────────────┐                                               »\n",
       "q_0: ┤ H ├┤ P(2.0*x[0]) ├──■────────────────────────────────────■────■──»\n",
       "     ├───┤├─────────────┤┌─┴─┐┌──────────────────────────────┐┌─┴─┐  │  »\n",
       "q_1: ┤ H ├┤ P(2.0*x[1]) ├┤ X ├┤ P(2.0*(π - x[0])*(π - x[1])) ├┤ X ├──┼──»\n",
       "     ├───┤├─────────────┤└───┘└──────────────────────────────┘└───┘┌─┴─┐»\n",
       "q_2: ┤ H ├┤ P(2.0*x[2]) ├──────────────────────────────────────────┤ X ├»\n",
       "     ├───┤├─────────────┤                                          └───┘»\n",
       "q_3: ┤ H ├┤ P(2.0*x[3]) ├───────────────────────────────────────────────»\n",
       "     └───┘└─────────────┘                                               »\n",
       "«                                                    »\n",
       "«q_0: ──────────────────────────────────■─────────■──»\n",
       "«                                       │         │  »\n",
       "«q_1: ──────────────────────────────────┼────■────┼──»\n",
       "«     ┌──────────────────────────────┐┌─┴─┐┌─┴─┐  │  »\n",
       "«q_2: ┤ P(2.0*(π - x[0])*(π - x[2])) ├┤ X ├┤ X ├──┼──»\n",
       "«     └──────────────────────────────┘└───┘└───┘┌─┴─┐»\n",
       "«q_3: ──────────────────────────────────────────┤ X ├»\n",
       "«                                               └───┘»\n",
       "«                                               ┌───┐»\n",
       "«q_0: ───────────────────────────────────────■──┤ H ├»\n",
       "«                                            │  └───┘»\n",
       "«q_1: ──────────────────────────────────■────┼────■──»\n",
       "«     ┌──────────────────────────────┐┌─┴─┐  │    │  »\n",
       "«q_2: ┤ P(2.0*(π - x[1])*(π - x[2])) ├┤ X ├──┼────┼──»\n",
       "«     ├──────────────────────────────┤└───┘┌─┴─┐┌─┴─┐»\n",
       "«q_3: ┤ P(2.0*(π - x[0])*(π - x[3])) ├─────┤ X ├┤ X ├»\n",
       "«     └──────────────────────────────┘     └───┘└───┘»\n",
       "«             ┌─────────────┐                   »\n",
       "«q_0: ────────┤ P(2.0*x[0]) ├───────────────────»\n",
       "«             └─────────────┘              ┌───┐»\n",
       "«q_1: ──────────────────────────────────■──┤ H ├»\n",
       "«                                       │  └───┘»\n",
       "«q_2: ──────────────────────────────────┼────■──»\n",
       "«     ┌──────────────────────────────┐┌─┴─┐┌─┴─┐»\n",
       "«q_3: ┤ P(2.0*(π - x[1])*(π - x[3])) ├┤ X ├┤ X ├»\n",
       "«     └──────────────────────────────┘└───┘└───┘»\n",
       "«                                                                          »\n",
       "«q_0: ──────────────────────────────────■──────────────────────────────────»\n",
       "«             ┌─────────────┐         ┌─┴─┐┌──────────────────────────────┐»\n",
       "«q_1: ────────┤ P(2.0*x[1]) ├─────────┤ X ├┤ P(2.0*(π - x[0])*(π - x[1])) ├»\n",
       "«             └─────────────┘         └───┘└────────────┬───┬─────────────┘»\n",
       "«q_2: ──────────────────────────────────■───────────────┤ H ├──────────────»\n",
       "«     ┌──────────────────────────────┐┌─┴─┐             ├───┤              »\n",
       "«q_3: ┤ P(2.0*(π - x[2])*(π - x[3])) ├┤ X ├─────────────┤ H ├──────────────»\n",
       "«     └──────────────────────────────┘└───┘             └───┘              »\n",
       "«                                                                        »\n",
       "«q_0: ───────■─────────■────────────────────────────────────■─────────■──»\n",
       "«          ┌─┴─┐       │                                    │         │  »\n",
       "«q_1: ─────┤ X ├───────┼────────────────────────────────────┼────■────┼──»\n",
       "«     ┌────┴───┴────┐┌─┴─┐┌──────────────────────────────┐┌─┴─┐┌─┴─┐  │  »\n",
       "«q_2: ┤ P(2.0*x[2]) ├┤ X ├┤ P(2.0*(π - x[0])*(π - x[2])) ├┤ X ├┤ X ├──┼──»\n",
       "«     ├─────────────┤└───┘└──────────────────────────────┘└───┘└───┘┌─┴─┐»\n",
       "«q_3: ┤ P(2.0*x[3]) ├───────────────────────────────────────────────┤ X ├»\n",
       "«     └─────────────┘                                               └───┘»\n",
       "«                                                    »\n",
       "«q_0: ───────────────────────────────────────■───────»\n",
       "«                                            │       »\n",
       "«q_1: ──────────────────────────────────■────┼────■──»\n",
       "«     ┌──────────────────────────────┐┌─┴─┐  │    │  »\n",
       "«q_2: ┤ P(2.0*(π - x[1])*(π - x[2])) ├┤ X ├──┼────┼──»\n",
       "«     ├──────────────────────────────┤└───┘┌─┴─┐┌─┴─┐»\n",
       "«q_3: ┤ P(2.0*(π - x[0])*(π - x[3])) ├─────┤ X ├┤ X ├»\n",
       "«     └──────────────────────────────┘     └───┘└───┘»\n",
       "«                                               »\n",
       "«q_0: ──────────────────────────────────────────»\n",
       "«                                               »\n",
       "«q_1: ──────────────────────────────────■───────»\n",
       "«                                       │       »\n",
       "«q_2: ──────────────────────────────────┼────■──»\n",
       "«     ┌──────────────────────────────┐┌─┴─┐┌─┴─┐»\n",
       "«q_3: ┤ P(2.0*(π - x[1])*(π - x[3])) ├┤ X ├┤ X ├»\n",
       "«     └──────────────────────────────┘└───┘└───┘»\n",
       "«                                          \n",
       "«q_0: ─────────────────────────────────────\n",
       "«                                          \n",
       "«q_1: ─────────────────────────────────────\n",
       "«                                          \n",
       "«q_2: ──────────────────────────────────■──\n",
       "«     ┌──────────────────────────────┐┌─┴─┐\n",
       "«q_3: ┤ P(2.0*(π - x[2])*(π - x[3])) ├┤ X ├\n",
       "«     └──────────────────────────────┘└───┘</pre>"
      ],
      "text/plain": [
       "     ┌───┐┌─────────────┐                                               »\n",
       "q_0: ┤ H ├┤ P(2.0*x[0]) ├──■────────────────────────────────────■────■──»\n",
       "     ├───┤├─────────────┤┌─┴─┐┌──────────────────────────────┐┌─┴─┐  │  »\n",
       "q_1: ┤ H ├┤ P(2.0*x[1]) ├┤ X ├┤ P(2.0*(π - x[0])*(π - x[1])) ├┤ X ├──┼──»\n",
       "     ├───┤├─────────────┤└───┘└──────────────────────────────┘└───┘┌─┴─┐»\n",
       "q_2: ┤ H ├┤ P(2.0*x[2]) ├──────────────────────────────────────────┤ X ├»\n",
       "     ├───┤├─────────────┤                                          └───┘»\n",
       "q_3: ┤ H ├┤ P(2.0*x[3]) ├───────────────────────────────────────────────»\n",
       "     └───┘└─────────────┘                                               »\n",
       "«                                                    »\n",
       "«q_0: ──────────────────────────────────■─────────■──»\n",
       "«                                       │         │  »\n",
       "«q_1: ──────────────────────────────────┼────■────┼──»\n",
       "«     ┌──────────────────────────────┐┌─┴─┐┌─┴─┐  │  »\n",
       "«q_2: ┤ P(2.0*(π - x[0])*(π - x[2])) ├┤ X ├┤ X ├──┼──»\n",
       "«     └──────────────────────────────┘└───┘└───┘┌─┴─┐»\n",
       "«q_3: ──────────────────────────────────────────┤ X ├»\n",
       "«                                               └───┘»\n",
       "«                                               ┌───┐»\n",
       "«q_0: ───────────────────────────────────────■──┤ H ├»\n",
       "«                                            │  └───┘»\n",
       "«q_1: ──────────────────────────────────■────┼────■──»\n",
       "«     ┌──────────────────────────────┐┌─┴─┐  │    │  »\n",
       "«q_2: ┤ P(2.0*(π - x[1])*(π - x[2])) ├┤ X ├──┼────┼──»\n",
       "«     ├──────────────────────────────┤└───┘┌─┴─┐┌─┴─┐»\n",
       "«q_3: ┤ P(2.0*(π - x[0])*(π - x[3])) ├─────┤ X ├┤ X ├»\n",
       "«     └──────────────────────────────┘     └───┘└───┘»\n",
       "«             ┌─────────────┐                   »\n",
       "«q_0: ────────┤ P(2.0*x[0]) ├───────────────────»\n",
       "«             └─────────────┘              ┌───┐»\n",
       "«q_1: ──────────────────────────────────■──┤ H ├»\n",
       "«                                       │  └───┘»\n",
       "«q_2: ──────────────────────────────────┼────■──»\n",
       "«     ┌──────────────────────────────┐┌─┴─┐┌─┴─┐»\n",
       "«q_3: ┤ P(2.0*(π - x[1])*(π - x[3])) ├┤ X ├┤ X ├»\n",
       "«     └──────────────────────────────┘└───┘└───┘»\n",
       "«                                                                          »\n",
       "«q_0: ──────────────────────────────────■──────────────────────────────────»\n",
       "«             ┌─────────────┐         ┌─┴─┐┌──────────────────────────────┐»\n",
       "«q_1: ────────┤ P(2.0*x[1]) ├─────────┤ X ├┤ P(2.0*(π - x[0])*(π - x[1])) ├»\n",
       "«             └─────────────┘         └───┘└────────────┬───┬─────────────┘»\n",
       "«q_2: ──────────────────────────────────■───────────────┤ H ├──────────────»\n",
       "«     ┌──────────────────────────────┐┌─┴─┐             ├───┤              »\n",
       "«q_3: ┤ P(2.0*(π - x[2])*(π - x[3])) ├┤ X ├─────────────┤ H ├──────────────»\n",
       "«     └──────────────────────────────┘└───┘             └───┘              »\n",
       "«                                                                        »\n",
       "«q_0: ───────■─────────■────────────────────────────────────■─────────■──»\n",
       "«          ┌─┴─┐       │                                    │         │  »\n",
       "«q_1: ─────┤ X ├───────┼────────────────────────────────────┼────■────┼──»\n",
       "«     ┌────┴───┴────┐┌─┴─┐┌──────────────────────────────┐┌─┴─┐┌─┴─┐  │  »\n",
       "«q_2: ┤ P(2.0*x[2]) ├┤ X ├┤ P(2.0*(π - x[0])*(π - x[2])) ├┤ X ├┤ X ├──┼──»\n",
       "«     ├─────────────┤└───┘└──────────────────────────────┘└───┘└───┘┌─┴─┐»\n",
       "«q_3: ┤ P(2.0*x[3]) ├───────────────────────────────────────────────┤ X ├»\n",
       "«     └─────────────┘                                               └───┘»\n",
       "«                                                    »\n",
       "«q_0: ───────────────────────────────────────■───────»\n",
       "«                                            │       »\n",
       "«q_1: ──────────────────────────────────■────┼────■──»\n",
       "«     ┌──────────────────────────────┐┌─┴─┐  │    │  »\n",
       "«q_2: ┤ P(2.0*(π - x[1])*(π - x[2])) ├┤ X ├──┼────┼──»\n",
       "«     ├──────────────────────────────┤└───┘┌─┴─┐┌─┴─┐»\n",
       "«q_3: ┤ P(2.0*(π - x[0])*(π - x[3])) ├─────┤ X ├┤ X ├»\n",
       "«     └──────────────────────────────┘     └───┘└───┘»\n",
       "«                                               »\n",
       "«q_0: ──────────────────────────────────────────»\n",
       "«                                               »\n",
       "«q_1: ──────────────────────────────────■───────»\n",
       "«                                       │       »\n",
       "«q_2: ──────────────────────────────────┼────■──»\n",
       "«     ┌──────────────────────────────┐┌─┴─┐┌─┴─┐»\n",
       "«q_3: ┤ P(2.0*(π - x[1])*(π - x[3])) ├┤ X ├┤ X ├»\n",
       "«     └──────────────────────────────┘└───┘└───┘»\n",
       "«                                          \n",
       "«q_0: ─────────────────────────────────────\n",
       "«                                          \n",
       "«q_1: ─────────────────────────────────────\n",
       "«                                          \n",
       "«q_2: ──────────────────────────────────■──\n",
       "«     ┌──────────────────────────────┐┌─┴─┐\n",
       "«q_3: ┤ P(2.0*(π - x[2])*(π - x[3])) ├┤ X ├\n",
       "«     └──────────────────────────────┘└───┘"
      ]
     },
     "execution_count": 10,
     "metadata": {},
     "output_type": "execute_result"
    }
   ],
   "source": [
    "# num_features = 2  #number of qubits/dimensions \n",
    "num_features = X_train.shape[1]   #4\n",
    "\n",
    "\n",
    "feature_map = ZZFeatureMap(num_features)\n",
    "# feature_map.draw('mpl')\n",
    "print(f\"Depth of qcircuit: {str(feature_map.decompose(reps=10).depth())}.\")  \n",
    "# feature_map.decompose().draw(output='mpl', fold=20)           #issues with plt not sure why\n",
    "feature_map.decompose().draw(output='text')\n"
   ]
  },
  {
   "cell_type": "code",
   "execution_count": 11,
   "id": "af039556",
   "metadata": {},
   "outputs": [],
   "source": [
    "# feature_map.decompose().draw('mpl', fold=-1)"
   ]
  },
  {
   "cell_type": "markdown",
   "id": "c9262e42",
   "metadata": {},
   "source": [
    "### Amplitude Encoding (RFV)\n"
   ]
  },
  {
   "cell_type": "markdown",
   "id": "2a4e7417",
   "metadata": {},
   "source": [
    "Takes prob amplitude of elements on an array and matches them to a position where they are placed at. Assuming the data is composed of n values (X = [x0, x1, x2, ... xn]), its quantum representation would be: \n",
    "\n",
    "\n",
    "<img src=\"imgs/amplitude_encoding_function.png\" alt=\"Alt text\" width=\"200\"/>\n",
    "\n",
    "Here, if we declare wires =4, our quantum space is 2^4 = 16. Because we only have two features, we should only use 2 wires. Amplitude encoding allows us to pack more data into few qubits (so exponential scaling) but it is more difficult to implement on quantum hardware. \n",
    "\n"
   ]
  },
  {
   "cell_type": "code",
   "execution_count": 13,
   "id": "60cdaf2a",
   "metadata": {},
   "outputs": [
    {
     "name": "stdout",
     "output_type": "stream",
     "text": [
      "[-0.89445293+0.j  0.25683143+0.j  0.32146989+0.j  0.17506764+0.j]\n"
     ]
    }
   ],
   "source": [
    "dev = qml.device('default.qubit', wires=2)\n",
    "\n",
    "@qml.qnode(dev)\n",
    "def feature_map_ame(feature_vector):\n",
    "    qml.AmplitudeEmbedding(features=feature_vector, wires=range(2), normalize=True)\n",
    "    return qml.state()\n",
    "\n",
    "\n",
    "# X = [1/2, 1/2, 1/2, 1/2]\n",
    "\n",
    "amp_vec = sample_vec[:4] / np.linalg.norm(sample_vec[:4])\n",
    "print(feature_map_ame(amp_vec))"
   ]
  },
  {
   "cell_type": "markdown",
   "id": "edb6abb6",
   "metadata": {},
   "source": [
    "This is the statevector of the 2 qubit system, where four complex numbers are the amplitudes assigned to each compuational basis states. PennyLane normalized the 4 real features and used them directly as amplitudes\n",
    "\n",
    "$$\n",
    "|\\psi\\rangle = -0.894 \\,|00\\rangle \\;+\\; 0.257 \\,|01\\rangle \\;+\\; 0.321 \\,|10\\rangle \\;+\\; 0.175 \\,|11\\rangle\n",
    "$$\n"
   ]
  },
  {
   "cell_type": "markdown",
   "id": "94706a7d",
   "metadata": {},
   "source": [
    "##### RawFeatureVector - Qiskit"
   ]
  },
  {
   "cell_type": "markdown",
   "id": "f7f01c2b",
   "metadata": {},
   "source": [
    "Very similar to the pennylane amplitude embedding above"
   ]
  },
  {
   "cell_type": "code",
   "execution_count": null,
   "id": "fafee196",
   "metadata": {},
   "outputs": [
    {
     "name": "stdout",
     "output_type": "stream",
     "text": [
      "Depth of qcircuit: 4.\n"
     ]
    },
    {
     "data": {
      "text/html": [
       "<pre style=\"word-wrap: normal;white-space: pre;background: #fff0;line-height: 1.1;font-family: &quot;Courier New&quot;,Courier,monospace\">     ┌───────────────────────────────────┐\n",
       "q_0: ┤0                                  ├\n",
       "     │  Initialize(0.70711,-0.70711,0,0) │\n",
       "q_1: ┤1                                  ├\n",
       "     └───────────────────────────────────┘</pre>"
      ],
      "text/plain": [
       "     ┌───────────────────────────────────┐\n",
       "q_0: ┤0                                  ├\n",
       "     │  Initialize(0.70711,-0.70711,0,0) │\n",
       "q_1: ┤1                                  ├\n",
       "     └───────────────────────────────────┘"
      ]
     },
     "execution_count": 23,
     "metadata": {},
     "output_type": "execute_result"
    }
   ],
   "source": [
    "#init and bind RFV to some random state\n",
    "feature_dimension = num_features\n",
    "amplitudes = np.array([1,-1,0,0])/np.sqrt(2)\n",
    "\n",
    "feature_map = RawFeatureVector(feature_dimension=feature_dimension)\n",
    "feature_map = feature_map.assign_parameters(amplitudes)\n",
    "print(f\"Depth of qcircuit: {str(feature_map.decompose(reps=10).depth())}.\")  \n",
    "feature_map.decompose().draw(output='text')\n"
   ]
  }
 ],
 "metadata": {
  "kernelspec": {
   "display_name": "qfm-env",
   "language": "python",
   "name": "python3"
  },
  "language_info": {
   "codemirror_mode": {
    "name": "ipython",
    "version": 3
   },
   "file_extension": ".py",
   "mimetype": "text/x-python",
   "name": "python",
   "nbconvert_exporter": "python",
   "pygments_lexer": "ipython3",
   "version": "3.10.18"
  }
 },
 "nbformat": 4,
 "nbformat_minor": 5
}
